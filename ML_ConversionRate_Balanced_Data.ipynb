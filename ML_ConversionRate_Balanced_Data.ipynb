{
 "cells": [
  {
   "cell_type": "markdown",
   "metadata": {
    "colab_type": "text",
    "id": "RpVkQa64llrl"
   },
   "source": [
    "# Import libraries and dataset"
   ]
  },
  {
   "cell_type": "code",
   "execution_count": 1,
   "metadata": {
    "colab": {
     "base_uri": "https://localhost:8080/",
     "height": 105
    },
    "colab_type": "code",
    "executionInfo": {
     "elapsed": 1285,
     "status": "ok",
     "timestamp": 1585314187445,
     "user": {
      "displayName": "jerome seillier",
      "photoUrl": "https://lh3.googleusercontent.com/a-/AOh14GihpJBQ6Tq4tRKpTCRGJkMirKNNmLg06aountruhg=s64",
      "userId": "00095233701872556527"
     },
     "user_tz": -60
    },
    "id": "oDajs2Oxllrm",
    "outputId": "7b0690f4-0334-4c14-c1de-f3930f524d70"
   },
   "outputs": [
    {
     "name": "stderr",
     "output_type": "stream",
     "text": [
      "/usr/local/lib/python3.6/dist-packages/sklearn/externals/six.py:31: FutureWarning: The module is deprecated in version 0.21 and will be removed in version 0.23 since we've dropped support for Python 2.7. Please rely on the official version of six (https://pypi.org/project/six/).\n",
      "  \"(https://pypi.org/project/six/).\", FutureWarning)\n",
      "/usr/local/lib/python3.6/dist-packages/sklearn/utils/deprecation.py:144: FutureWarning: The sklearn.neighbors.base module is  deprecated in version 0.22 and will be removed in version 0.24. The corresponding classes / functions should instead be imported from sklearn.neighbors. Anything that cannot be imported from sklearn.neighbors is now part of the private API.\n",
      "  warnings.warn(message, FutureWarning)\n"
     ]
    }
   ],
   "source": [
    "import pandas as pd\n",
    "import numpy as np\n",
    "\n",
    "import matplotlib.pyplot as plt\n",
    "import seaborn as sns\n",
    "\n",
    "from imblearn.over_sampling import SMOTE\n",
    "from sklearn.preprocessing import LabelEncoder\n",
    "from sklearn.linear_model import LogisticRegression\n",
    "from sklearn.tree import DecisionTreeClassifier\n",
    "from sklearn.utils import resample\n",
    "from sklearn.model_selection import train_test_split, cross_val_score, GridSearchCV\n",
    "from sklearn import neighbors\n",
    "from sklearn import metrics\n",
    "from sklearn.metrics import confusion_matrix, precision_score, recall_score, accuracy_score, classification_report, f1_score"
   ]
  },
  {
   "cell_type": "code",
   "execution_count": 0,
   "metadata": {
    "_cell_guid": "79c7e3d0-c299-4dcb-8224-4455121ee9b0",
    "_uuid": "d629ff2d2480ee46fbb7e2d37f6b5fab8052498a",
    "colab": {},
    "colab_type": "code",
    "id": "vE94ZaDOllrp"
   },
   "outputs": [],
   "source": [
    "data = pd.read_csv(\"/content/sample_data/WA_Fn-UseC_-Marketing-Customer-Value-Analysis.csv\")"
   ]
  },
  {
   "cell_type": "code",
   "execution_count": 3,
   "metadata": {
    "colab": {
     "base_uri": "https://localhost:8080/",
     "height": 360
    },
    "colab_type": "code",
    "executionInfo": {
     "elapsed": 1275,
     "status": "ok",
     "timestamp": 1585314187449,
     "user": {
      "displayName": "jerome seillier",
      "photoUrl": "https://lh3.googleusercontent.com/a-/AOh14GihpJBQ6Tq4tRKpTCRGJkMirKNNmLg06aountruhg=s64",
      "userId": "00095233701872556527"
     },
     "user_tz": -60
    },
    "id": "mMNuVPjQllrr",
    "outputId": "274bc1cb-0b06-49fa-d2c2-7c3ad3b6c02c"
   },
   "outputs": [
    {
     "data": {
      "text/html": [
       "<div>\n",
       "<style scoped>\n",
       "    .dataframe tbody tr th:only-of-type {\n",
       "        vertical-align: middle;\n",
       "    }\n",
       "\n",
       "    .dataframe tbody tr th {\n",
       "        vertical-align: top;\n",
       "    }\n",
       "\n",
       "    .dataframe thead th {\n",
       "        text-align: right;\n",
       "    }\n",
       "</style>\n",
       "<table border=\"1\" class=\"dataframe\">\n",
       "  <thead>\n",
       "    <tr style=\"text-align: right;\">\n",
       "      <th></th>\n",
       "      <th>Customer</th>\n",
       "      <th>State</th>\n",
       "      <th>Customer Lifetime Value</th>\n",
       "      <th>Response</th>\n",
       "      <th>Coverage</th>\n",
       "      <th>Education</th>\n",
       "      <th>Effective To Date</th>\n",
       "      <th>EmploymentStatus</th>\n",
       "      <th>Gender</th>\n",
       "      <th>Income</th>\n",
       "      <th>Location Code</th>\n",
       "      <th>Marital Status</th>\n",
       "      <th>Monthly Premium Auto</th>\n",
       "      <th>Months Since Last Claim</th>\n",
       "      <th>Months Since Policy Inception</th>\n",
       "      <th>Number of Open Complaints</th>\n",
       "      <th>Number of Policies</th>\n",
       "      <th>Policy Type</th>\n",
       "      <th>Policy</th>\n",
       "      <th>Renew Offer Type</th>\n",
       "      <th>Sales Channel</th>\n",
       "      <th>Total Claim Amount</th>\n",
       "      <th>Vehicle Class</th>\n",
       "      <th>Vehicle Size</th>\n",
       "    </tr>\n",
       "  </thead>\n",
       "  <tbody>\n",
       "    <tr>\n",
       "      <th>0</th>\n",
       "      <td>BU79786</td>\n",
       "      <td>Washington</td>\n",
       "      <td>2763.519279</td>\n",
       "      <td>No</td>\n",
       "      <td>Basic</td>\n",
       "      <td>Bachelor</td>\n",
       "      <td>2/24/11</td>\n",
       "      <td>Employed</td>\n",
       "      <td>F</td>\n",
       "      <td>56274</td>\n",
       "      <td>Suburban</td>\n",
       "      <td>Married</td>\n",
       "      <td>69</td>\n",
       "      <td>32</td>\n",
       "      <td>5</td>\n",
       "      <td>0</td>\n",
       "      <td>1</td>\n",
       "      <td>Corporate Auto</td>\n",
       "      <td>Corporate L3</td>\n",
       "      <td>Offer1</td>\n",
       "      <td>Agent</td>\n",
       "      <td>384.811147</td>\n",
       "      <td>Two-Door Car</td>\n",
       "      <td>Medsize</td>\n",
       "    </tr>\n",
       "    <tr>\n",
       "      <th>1</th>\n",
       "      <td>QZ44356</td>\n",
       "      <td>Arizona</td>\n",
       "      <td>6979.535903</td>\n",
       "      <td>No</td>\n",
       "      <td>Extended</td>\n",
       "      <td>Bachelor</td>\n",
       "      <td>1/31/11</td>\n",
       "      <td>Unemployed</td>\n",
       "      <td>F</td>\n",
       "      <td>0</td>\n",
       "      <td>Suburban</td>\n",
       "      <td>Single</td>\n",
       "      <td>94</td>\n",
       "      <td>13</td>\n",
       "      <td>42</td>\n",
       "      <td>0</td>\n",
       "      <td>8</td>\n",
       "      <td>Personal Auto</td>\n",
       "      <td>Personal L3</td>\n",
       "      <td>Offer3</td>\n",
       "      <td>Agent</td>\n",
       "      <td>1131.464935</td>\n",
       "      <td>Four-Door Car</td>\n",
       "      <td>Medsize</td>\n",
       "    </tr>\n",
       "    <tr>\n",
       "      <th>2</th>\n",
       "      <td>AI49188</td>\n",
       "      <td>Nevada</td>\n",
       "      <td>12887.431650</td>\n",
       "      <td>No</td>\n",
       "      <td>Premium</td>\n",
       "      <td>Bachelor</td>\n",
       "      <td>2/19/11</td>\n",
       "      <td>Employed</td>\n",
       "      <td>F</td>\n",
       "      <td>48767</td>\n",
       "      <td>Suburban</td>\n",
       "      <td>Married</td>\n",
       "      <td>108</td>\n",
       "      <td>18</td>\n",
       "      <td>38</td>\n",
       "      <td>0</td>\n",
       "      <td>2</td>\n",
       "      <td>Personal Auto</td>\n",
       "      <td>Personal L3</td>\n",
       "      <td>Offer1</td>\n",
       "      <td>Agent</td>\n",
       "      <td>566.472247</td>\n",
       "      <td>Two-Door Car</td>\n",
       "      <td>Medsize</td>\n",
       "    </tr>\n",
       "    <tr>\n",
       "      <th>3</th>\n",
       "      <td>WW63253</td>\n",
       "      <td>California</td>\n",
       "      <td>7645.861827</td>\n",
       "      <td>No</td>\n",
       "      <td>Basic</td>\n",
       "      <td>Bachelor</td>\n",
       "      <td>1/20/11</td>\n",
       "      <td>Unemployed</td>\n",
       "      <td>M</td>\n",
       "      <td>0</td>\n",
       "      <td>Suburban</td>\n",
       "      <td>Married</td>\n",
       "      <td>106</td>\n",
       "      <td>18</td>\n",
       "      <td>65</td>\n",
       "      <td>0</td>\n",
       "      <td>7</td>\n",
       "      <td>Corporate Auto</td>\n",
       "      <td>Corporate L2</td>\n",
       "      <td>Offer1</td>\n",
       "      <td>Call Center</td>\n",
       "      <td>529.881344</td>\n",
       "      <td>SUV</td>\n",
       "      <td>Medsize</td>\n",
       "    </tr>\n",
       "    <tr>\n",
       "      <th>4</th>\n",
       "      <td>HB64268</td>\n",
       "      <td>Washington</td>\n",
       "      <td>2813.692575</td>\n",
       "      <td>No</td>\n",
       "      <td>Basic</td>\n",
       "      <td>Bachelor</td>\n",
       "      <td>2/3/11</td>\n",
       "      <td>Employed</td>\n",
       "      <td>M</td>\n",
       "      <td>43836</td>\n",
       "      <td>Rural</td>\n",
       "      <td>Single</td>\n",
       "      <td>73</td>\n",
       "      <td>12</td>\n",
       "      <td>44</td>\n",
       "      <td>0</td>\n",
       "      <td>1</td>\n",
       "      <td>Personal Auto</td>\n",
       "      <td>Personal L1</td>\n",
       "      <td>Offer1</td>\n",
       "      <td>Agent</td>\n",
       "      <td>138.130879</td>\n",
       "      <td>Four-Door Car</td>\n",
       "      <td>Medsize</td>\n",
       "    </tr>\n",
       "  </tbody>\n",
       "</table>\n",
       "</div>"
      ],
      "text/plain": [
       "  Customer       State  ...  Vehicle Class Vehicle Size\n",
       "0  BU79786  Washington  ...   Two-Door Car      Medsize\n",
       "1  QZ44356     Arizona  ...  Four-Door Car      Medsize\n",
       "2  AI49188      Nevada  ...   Two-Door Car      Medsize\n",
       "3  WW63253  California  ...            SUV      Medsize\n",
       "4  HB64268  Washington  ...  Four-Door Car      Medsize\n",
       "\n",
       "[5 rows x 24 columns]"
      ]
     },
     "execution_count": 3,
     "metadata": {
      "tags": []
     },
     "output_type": "execute_result"
    }
   ],
   "source": [
    "data.head()"
   ]
  },
  {
   "cell_type": "code",
   "execution_count": 4,
   "metadata": {
    "colab": {
     "base_uri": "https://localhost:8080/",
     "height": 34
    },
    "colab_type": "code",
    "executionInfo": {
     "elapsed": 1268,
     "status": "ok",
     "timestamp": 1585314187450,
     "user": {
      "displayName": "jerome seillier",
      "photoUrl": "https://lh3.googleusercontent.com/a-/AOh14GihpJBQ6Tq4tRKpTCRGJkMirKNNmLg06aountruhg=s64",
      "userId": "00095233701872556527"
     },
     "user_tz": -60
    },
    "id": "3VTDqvFRwyrU",
    "outputId": "90a6fefc-830e-43a1-fd3f-d8fc8ef4223a"
   },
   "outputs": [
    {
     "data": {
      "text/plain": [
       "(9134, 24)"
      ]
     },
     "execution_count": 4,
     "metadata": {
      "tags": []
     },
     "output_type": "execute_result"
    }
   ],
   "source": [
    "data.shape"
   ]
  },
  {
   "cell_type": "markdown",
   "metadata": {
    "colab_type": "text",
    "id": "mJhZNkl0llsN"
   },
   "source": [
    "## Data Analysis"
   ]
  },
  {
   "cell_type": "code",
   "execution_count": 0,
   "metadata": {
    "colab": {},
    "colab_type": "code",
    "id": "HY_fiz_vwI8p"
   },
   "outputs": [],
   "source": [
    "data_categ = data.select_dtypes(include=[\"object\"])\n",
    "data_num = data.select_dtypes(exclude=[\"object\"])"
   ]
  },
  {
   "cell_type": "code",
   "execution_count": 6,
   "metadata": {
    "colab": {
     "base_uri": "https://localhost:8080/",
     "height": 102
    },
    "colab_type": "code",
    "executionInfo": {
     "elapsed": 1260,
     "status": "ok",
     "timestamp": 1585314187453,
     "user": {
      "displayName": "jerome seillier",
      "photoUrl": "https://lh3.googleusercontent.com/a-/AOh14GihpJBQ6Tq4tRKpTCRGJkMirKNNmLg06aountruhg=s64",
      "userId": "00095233701872556527"
     },
     "user_tz": -60
    },
    "id": "cvMNRAnjwRSv",
    "outputId": "071c15ef-6400-4e28-d3de-d6207bfd25b1"
   },
   "outputs": [
    {
     "data": {
      "text/plain": [
       "Index(['Customer', 'State', 'Response', 'Coverage', 'Education',\n",
       "       'Effective To Date', 'EmploymentStatus', 'Gender', 'Location Code',\n",
       "       'Marital Status', 'Policy Type', 'Policy', 'Renew Offer Type',\n",
       "       'Sales Channel', 'Vehicle Class', 'Vehicle Size'],\n",
       "      dtype='object')"
      ]
     },
     "execution_count": 6,
     "metadata": {
      "tags": []
     },
     "output_type": "execute_result"
    }
   ],
   "source": [
    "data_categ.columns"
   ]
  },
  {
   "cell_type": "code",
   "execution_count": 7,
   "metadata": {
    "colab": {
     "base_uri": "https://localhost:8080/",
     "height": 306
    },
    "colab_type": "code",
    "executionInfo": {
     "elapsed": 1253,
     "status": "ok",
     "timestamp": 1585314187454,
     "user": {
      "displayName": "jerome seillier",
      "photoUrl": "https://lh3.googleusercontent.com/a-/AOh14GihpJBQ6Tq4tRKpTCRGJkMirKNNmLg06aountruhg=s64",
      "userId": "00095233701872556527"
     },
     "user_tz": -60
    },
    "id": "HSO7pnUKwewF",
    "outputId": "3ffcb532-5647-4657-9ecd-83a3c9a5ffc8"
   },
   "outputs": [
    {
     "data": {
      "text/plain": [
       "Customer             object\n",
       "State                object\n",
       "Response             object\n",
       "Coverage             object\n",
       "Education            object\n",
       "Effective To Date    object\n",
       "EmploymentStatus     object\n",
       "Gender               object\n",
       "Location Code        object\n",
       "Marital Status       object\n",
       "Policy Type          object\n",
       "Policy               object\n",
       "Renew Offer Type     object\n",
       "Sales Channel        object\n",
       "Vehicle Class        object\n",
       "Vehicle Size         object\n",
       "dtype: object"
      ]
     },
     "execution_count": 7,
     "metadata": {
      "tags": []
     },
     "output_type": "execute_result"
    }
   ],
   "source": [
    "data_categ.dtypes"
   ]
  },
  {
   "cell_type": "code",
   "execution_count": 8,
   "metadata": {
    "colab": {
     "base_uri": "https://localhost:8080/",
     "height": 34
    },
    "colab_type": "code",
    "executionInfo": {
     "elapsed": 1469,
     "status": "ok",
     "timestamp": 1585314187678,
     "user": {
      "displayName": "jerome seillier",
      "photoUrl": "https://lh3.googleusercontent.com/a-/AOh14GihpJBQ6Tq4tRKpTCRGJkMirKNNmLg06aountruhg=s64",
      "userId": "00095233701872556527"
     },
     "user_tz": -60
    },
    "id": "gZrXJzvRxalO",
    "outputId": "ec9011a2-90f3-43f3-9424-a322cceb20a0"
   },
   "outputs": [
    {
     "data": {
      "text/plain": [
       "(9134, 16)"
      ]
     },
     "execution_count": 8,
     "metadata": {
      "tags": []
     },
     "output_type": "execute_result"
    }
   ],
   "source": [
    "data_categ.shape"
   ]
  },
  {
   "cell_type": "code",
   "execution_count": 9,
   "metadata": {
    "colab": {
     "base_uri": "https://localhost:8080/",
     "height": 170
    },
    "colab_type": "code",
    "executionInfo": {
     "elapsed": 1461,
     "status": "ok",
     "timestamp": 1585314187679,
     "user": {
      "displayName": "jerome seillier",
      "photoUrl": "https://lh3.googleusercontent.com/a-/AOh14GihpJBQ6Tq4tRKpTCRGJkMirKNNmLg06aountruhg=s64",
      "userId": "00095233701872556527"
     },
     "user_tz": -60
    },
    "id": "o6Nvu1Doxf-8",
    "outputId": "fdc70930-9f3b-4a5c-8188-e0878a868a16"
   },
   "outputs": [
    {
     "data": {
      "text/plain": [
       "Customer Lifetime Value          float64\n",
       "Income                             int64\n",
       "Monthly Premium Auto               int64\n",
       "Months Since Last Claim            int64\n",
       "Months Since Policy Inception      int64\n",
       "Number of Open Complaints          int64\n",
       "Number of Policies                 int64\n",
       "Total Claim Amount               float64\n",
       "dtype: object"
      ]
     },
     "execution_count": 9,
     "metadata": {
      "tags": []
     },
     "output_type": "execute_result"
    }
   ],
   "source": [
    "data_num.dtypes"
   ]
  },
  {
   "cell_type": "code",
   "execution_count": 10,
   "metadata": {
    "colab": {
     "base_uri": "https://localhost:8080/",
     "height": 34
    },
    "colab_type": "code",
    "executionInfo": {
     "elapsed": 1452,
     "status": "ok",
     "timestamp": 1585314187679,
     "user": {
      "displayName": "jerome seillier",
      "photoUrl": "https://lh3.googleusercontent.com/a-/AOh14GihpJBQ6Tq4tRKpTCRGJkMirKNNmLg06aountruhg=s64",
      "userId": "00095233701872556527"
     },
     "user_tz": -60
    },
    "id": "OO0TG4Yjxs14",
    "outputId": "e25ad12e-fa11-46ec-b836-b629282b0839"
   },
   "outputs": [
    {
     "data": {
      "text/plain": [
       "(9134, 8)"
      ]
     },
     "execution_count": 10,
     "metadata": {
      "tags": []
     },
     "output_type": "execute_result"
    }
   ],
   "source": [
    "data_num.shape"
   ]
  },
  {
   "cell_type": "code",
   "execution_count": 0,
   "metadata": {
    "colab": {},
    "colab_type": "code",
    "id": "nStaxeQBllsO"
   },
   "outputs": [],
   "source": [
    "data = data.drop(columns={\"Customer\",\"Policy\", \"Effective To Date\"})"
   ]
  },
  {
   "cell_type": "code",
   "execution_count": 12,
   "metadata": {
    "colab": {
     "base_uri": "https://localhost:8080/",
     "height": 238
    },
    "colab_type": "code",
    "executionInfo": {
     "elapsed": 1442,
     "status": "ok",
     "timestamp": 1585314187680,
     "user": {
      "displayName": "jerome seillier",
      "photoUrl": "https://lh3.googleusercontent.com/a-/AOh14GihpJBQ6Tq4tRKpTCRGJkMirKNNmLg06aountruhg=s64",
      "userId": "00095233701872556527"
     },
     "user_tz": -60
    },
    "id": "cqqjdT6qllsQ",
    "outputId": "41ca03db-d2a2-4839-a432-e5420eb225c0"
   },
   "outputs": [
    {
     "data": {
      "text/plain": [
       "['State',\n",
       " 'Response',\n",
       " 'Coverage',\n",
       " 'Education',\n",
       " 'EmploymentStatus',\n",
       " 'Gender',\n",
       " 'Location Code',\n",
       " 'Marital Status',\n",
       " 'Policy Type',\n",
       " 'Renew Offer Type',\n",
       " 'Sales Channel',\n",
       " 'Vehicle Class',\n",
       " 'Vehicle Size']"
      ]
     },
     "execution_count": 12,
     "metadata": {
      "tags": []
     },
     "output_type": "execute_result"
    }
   ],
   "source": [
    "# Define a list with all features which are categorial\n",
    "\n",
    "data_categorial = data.select_dtypes(include=[\"object\"])\n",
    "categories = list(data_categorial.columns)\n",
    "categories"
   ]
  },
  {
   "cell_type": "code",
   "execution_count": 0,
   "metadata": {
    "colab": {},
    "colab_type": "code",
    "id": "5F-Nc_e2llsS"
   },
   "outputs": [],
   "source": [
    "# Encode the categorial Data to numerical\n",
    "\n",
    "lb = LabelEncoder()\n",
    "\n",
    "for i in categories:\n",
    "    data[i] = lb.fit_transform(data[i])\n"
   ]
  },
  {
   "cell_type": "code",
   "execution_count": 14,
   "metadata": {
    "colab": {
     "base_uri": "https://localhost:8080/",
     "height": 424
    },
    "colab_type": "code",
    "executionInfo": {
     "elapsed": 2109,
     "status": "ok",
     "timestamp": 1585314188361,
     "user": {
      "displayName": "jerome seillier",
      "photoUrl": "https://lh3.googleusercontent.com/a-/AOh14GihpJBQ6Tq4tRKpTCRGJkMirKNNmLg06aountruhg=s64",
      "userId": "00095233701872556527"
     },
     "user_tz": -60
    },
    "id": "I4oqi2C9llsU",
    "outputId": "7e0fb803-beb8-4fb5-a119-a062ba2e36f6"
   },
   "outputs": [
    {
     "data": {
      "text/plain": [
       "<matplotlib.axes._subplots.AxesSubplot at 0x7f4b96588f60>"
      ]
     },
     "execution_count": 14,
     "metadata": {
      "tags": []
     },
     "output_type": "execute_result"
    },
    {
     "data": {
      "image/png": "[encoded data removed]",
      "text/plain": [
       "<Figure size 432x288 with 2 Axes>"
      ]
     },
     "metadata": {
      "tags": []
     },
     "output_type": "display_data"
    }
   ],
   "source": [
    "sns.heatmap(data.corr())"
   ]
  },
  {
   "cell_type": "markdown",
   "metadata": {
    "colab_type": "text",
    "id": "GnBQ7m-y-8Oo"
   },
   "source": [
    "# Supervised Machine Learning with balanced data"
   ]
  },
  {
   "cell_type": "code",
   "execution_count": 0,
   "metadata": {
    "colab": {},
    "colab_type": "code",
    "id": "0R5YEomfllsX"
   },
   "outputs": [],
   "source": [
    "y = data[\"Response\"]"
   ]
  },
  {
   "cell_type": "code",
   "execution_count": 0,
   "metadata": {
    "colab": {},
    "colab_type": "code",
    "id": "9LTfbOIZllsZ"
   },
   "outputs": [],
   "source": [
    "X = data.drop([\"Response\"], axis=1)"
   ]
  },
  {
   "cell_type": "code",
   "execution_count": 0,
   "metadata": {
    "colab": {},
    "colab_type": "code",
    "id": "fPW2R1qollsc"
   },
   "outputs": [],
   "source": [
    "X_train, X_test, y_train, y_test = train_test_split(X, y, test_size = 0.2, random_state=29)"
   ]
  },
  {
   "cell_type": "markdown",
   "metadata": {
    "colab_type": "text",
    "id": "8oeloN-illsp"
   },
   "source": [
    "## Downsampling of the data"
   ]
  },
  {
   "cell_type": "code",
   "execution_count": 18,
   "metadata": {
    "colab": {
     "base_uri": "https://localhost:8080/",
     "height": 68
    },
    "colab_type": "code",
    "executionInfo": {
     "elapsed": 2096,
     "status": "ok",
     "timestamp": 1585314188363,
     "user": {
      "displayName": "jerome seillier",
      "photoUrl": "https://lh3.googleusercontent.com/a-/AOh14GihpJBQ6Tq4tRKpTCRGJkMirKNNmLg06aountruhg=s64",
      "userId": "00095233701872556527"
     },
     "user_tz": -60
    },
    "id": "ll8kjbLMllsq",
    "outputId": "e0b4160f-bb16-420d-9158-7bc62f28035c"
   },
   "outputs": [
    {
     "data": {
      "text/plain": [
       "1    1033\n",
       "0    1033\n",
       "Name: Response, dtype: int64"
      ]
     },
     "execution_count": 18,
     "metadata": {
      "tags": []
     },
     "output_type": "execute_result"
    }
   ],
   "source": [
    "# concatenate our training data back together\n",
    "\n",
    "X_down = pd.concat([X_train, y_train], axis=1)\n",
    "\n",
    "# separate converted and not converted\n",
    "\n",
    "conv_no = X_down[X_down.Response==0]\n",
    "conv_yes = X_down[X_down.Response==1]\n",
    "\n",
    "# downsample majority\n",
    "\n",
    "conv_no_downsampled = resample(conv_no,\n",
    "                               replace = False, # sample without replacement\n",
    "                               n_samples = len(conv_yes), # match minority n\n",
    "                               random_state = 27) # reproducible results\n",
    "\n",
    "# combine minority and downsampled majority\n",
    "\n",
    "downsampled = pd.concat([conv_no_downsampled, conv_yes])\n",
    "\n",
    "# checking counts\n",
    "\n",
    "downsampled.Response.value_counts()"
   ]
  },
  {
   "cell_type": "code",
   "execution_count": 19,
   "metadata": {
    "colab": {
     "base_uri": "https://localhost:8080/",
     "height": 34
    },
    "colab_type": "code",
    "executionInfo": {
     "elapsed": 2089,
     "status": "ok",
     "timestamp": 1585314188363,
     "user": {
      "displayName": "jerome seillier",
      "photoUrl": "https://lh3.googleusercontent.com/a-/AOh14GihpJBQ6Tq4tRKpTCRGJkMirKNNmLg06aountruhg=s64",
      "userId": "00095233701872556527"
     },
     "user_tz": -60
    },
    "id": "k4karJ69llst",
    "outputId": "03cca514-314a-4f92-de35-58ec47c274d6"
   },
   "outputs": [
    {
     "data": {
      "text/plain": [
       "(2066, 21)"
      ]
     },
     "execution_count": 19,
     "metadata": {
      "tags": []
     },
     "output_type": "execute_result"
    }
   ],
   "source": [
    "downsampled.shape"
   ]
  },
  {
   "cell_type": "code",
   "execution_count": 0,
   "metadata": {
    "colab": {},
    "colab_type": "code",
    "id": "JvPP2Qdzllsv"
   },
   "outputs": [],
   "source": [
    "y_train_down = downsampled.Response"
   ]
  },
  {
   "cell_type": "code",
   "execution_count": 0,
   "metadata": {
    "colab": {},
    "colab_type": "code",
    "id": "lziGioeIllsx"
   },
   "outputs": [],
   "source": [
    "X_train_down = downsampled.drop([\"Response\"], axis = 1)"
   ]
  },
  {
   "cell_type": "markdown",
   "metadata": {
    "colab_type": "text",
    "id": "6BmDVAwCllsz"
   },
   "source": [
    "## Logistic regression"
   ]
  },
  {
   "cell_type": "code",
   "execution_count": 22,
   "metadata": {
    "colab": {
     "base_uri": "https://localhost:8080/",
     "height": 51
    },
    "colab_type": "code",
    "executionInfo": {
     "elapsed": 2326,
     "status": "ok",
     "timestamp": 1585314188610,
     "user": {
      "displayName": "jerome seillier",
      "photoUrl": "https://lh3.googleusercontent.com/a-/AOh14GihpJBQ6Tq4tRKpTCRGJkMirKNNmLg06aountruhg=s64",
      "userId": "00095233701872556527"
     },
     "user_tz": -60
    },
    "id": "LLnrpiTSlls0",
    "outputId": "2f99b7c5-67b7-44be-bfb1-cca1c643aac9"
   },
   "outputs": [
    {
     "name": "stdout",
     "output_type": "stream",
     "text": [
      "Logistic Regression Test Accuracy 50.96 %\n",
      "Logistic Regression Train Accuracy 53.58 %\n"
     ]
    }
   ],
   "source": [
    "from sklearn.linear_model import LogisticRegression\n",
    "lr = LogisticRegression()\n",
    "# initialize the model (=lr)\n",
    "\n",
    "lr.fit(X_train_down,y_train_down)\n",
    "#fit the model to the train set\n",
    "\n",
    "y_pred_lr = lr.predict(X_test)\n",
    "\n",
    "lr_acc_test = lr.score(X_test,y_test)*100\n",
    "lr_acc_train = lr.score(X_train_down,y_train_down)*100\n",
    "# comparing the test with the data\n",
    "\n",
    "print(\"Logistic Regression Test Accuracy\", round(lr_acc_test, 2),\"%\")\n",
    "print(\"Logistic Regression Train Accuracy\", round(lr_acc_train, 2),\"%\")"
   ]
  },
  {
   "cell_type": "code",
   "execution_count": 23,
   "metadata": {
    "colab": {
     "base_uri": "https://localhost:8080/",
     "height": 281
    },
    "colab_type": "code",
    "executionInfo": {
     "elapsed": 2321,
     "status": "ok",
     "timestamp": 1585314188611,
     "user": {
      "displayName": "jerome seillier",
      "photoUrl": "https://lh3.googleusercontent.com/a-/AOh14GihpJBQ6Tq4tRKpTCRGJkMirKNNmLg06aountruhg=s64",
      "userId": "00095233701872556527"
     },
     "user_tz": -60
    },
    "id": "zULHJ5kmMZ8q",
    "outputId": "9072c1c0-8fa8-431b-aef5-b1d21fa00e5d"
   },
   "outputs": [
    {
     "data": {
      "image/png": "[encoded data removed]",
      "text/plain": [
       "<Figure size 432x288 with 2 Axes>"
      ]
     },
     "metadata": {
      "tags": []
     },
     "output_type": "display_data"
    }
   ],
   "source": [
    "cm = metrics.confusion_matrix(y_test, y_pred_lr)\n",
    "sns.heatmap(cm, annot=True, fmt=\"d\").set_title(\"logistic regression cm\")\n",
    "plt.show()"
   ]
  },
  {
   "cell_type": "code",
   "execution_count": 24,
   "metadata": {
    "colab": {
     "base_uri": "https://localhost:8080/",
     "height": 68
    },
    "colab_type": "code",
    "executionInfo": {
     "elapsed": 2314,
     "status": "ok",
     "timestamp": 1585314188611,
     "user": {
      "displayName": "jerome seillier",
      "photoUrl": "https://lh3.googleusercontent.com/a-/AOh14GihpJBQ6Tq4tRKpTCRGJkMirKNNmLg06aountruhg=s64",
      "userId": "00095233701872556527"
     },
     "user_tz": -60
    },
    "id": "ielry3xNPGco",
    "outputId": "d9923597-1630-4aa5-f697-c161b710f90e"
   },
   "outputs": [
    {
     "name": "stdout",
     "output_type": "stream",
     "text": [
      "lr_recall is 0.5054545454545455\n",
      "lr_precision is 0.1546162402669633\n",
      "lr_f1 score is 0.23679727427597957\n"
     ]
    }
   ],
   "source": [
    "lr_recall = recall_score(y_test, y_pred_lr)\n",
    "lr_precision = precision_score(y_test,y_pred_lr)\n",
    "lr_f1 = f1_score(y_test,y_pred_lr)\n",
    "\n",
    "print(\"lr_recall is\",(lr_recall))\n",
    "print(\"lr_precision is\",(lr_precision))\n",
    "print(\"lr_f1 score is\",(lr_f1))"
   ]
  },
  {
   "cell_type": "code",
   "execution_count": 43,
   "metadata": {
    "colab": {
     "base_uri": "https://localhost:8080/",
     "height": 34
    },
    "colab_type": "code",
    "executionInfo": {
     "elapsed": 515,
     "status": "ok",
     "timestamp": 1585314485961,
     "user": {
      "displayName": "jerome seillier",
      "photoUrl": "https://lh3.googleusercontent.com/a-/AOh14GihpJBQ6Tq4tRKpTCRGJkMirKNNmLg06aountruhg=s64",
      "userId": "00095233701872556527"
     },
     "user_tz": -60
    },
    "id": "2HQ5l0ajGwTU",
    "outputId": "b782765b-11ff-47ac-a864-00b0083e9285"
   },
   "outputs": [
    {
     "data": {
      "text/plain": [
       "(1827,)"
      ]
     },
     "execution_count": 43,
     "metadata": {
      "tags": []
     },
     "output_type": "execute_result"
    }
   ],
   "source": [
    "y_pred_lr.shape"
   ]
  },
  {
   "cell_type": "code",
   "execution_count": 25,
   "metadata": {
    "colab": {
     "base_uri": "https://localhost:8080/",
     "height": 295
    },
    "colab_type": "code",
    "executionInfo": {
     "elapsed": 2812,
     "status": "ok",
     "timestamp": 1585314189114,
     "user": {
      "displayName": "jerome seillier",
      "photoUrl": "https://lh3.googleusercontent.com/a-/AOh14GihpJBQ6Tq4tRKpTCRGJkMirKNNmLg06aountruhg=s64",
      "userId": "00095233701872556527"
     },
     "user_tz": -60
    },
    "id": "1NAaJQmvErJP",
    "outputId": "c3a25f83-00d3-4cdc-9f36-6170a848eb1c"
   },
   "outputs": [
    {
     "data": {
      "image/png": "[encoded data removed]",
      "text/plain": [
       "<Figure size 432x288 with 1 Axes>"
      ]
     },
     "metadata": {
      "tags": []
     },
     "output_type": "display_data"
    }
   ],
   "source": [
    "# ROC Curve\n",
    "\n",
    "from sklearn.metrics import roc_auc_score\n",
    "from sklearn.metrics import roc_curve\n",
    "logit_roc_auc = roc_auc_score(y_test, lr.predict(X_test))\n",
    "fpr, tpr, thresholds = roc_curve(y_test, lr.predict_proba(X_test)[:,1])\n",
    "plt.figure()\n",
    "plt.plot(fpr, tpr, label='Logistic Regression (area = %0.2f)' % logit_roc_auc)\n",
    "plt.plot([0, 1], [0, 1],'r--')\n",
    "plt.xlim([-0.05, 1.05])\n",
    "plt.ylim([-0.05, 1.05])\n",
    "plt.xlabel('False Positive Rate')\n",
    "plt.ylabel('True Positive Rate')\n",
    "plt.title('Receiver operating characteristic')\n",
    "plt.legend(loc=\"lower right\")\n",
    "plt.savefig('Log_ROC')\n",
    "plt.show()"
   ]
  },
  {
   "cell_type": "markdown",
   "metadata": {
    "colab_type": "text",
    "id": "s0ZAKb0YlltA"
   },
   "source": [
    "## Decision Tree"
   ]
  },
  {
   "cell_type": "code",
   "execution_count": 26,
   "metadata": {
    "colab": {
     "base_uri": "https://localhost:8080/",
     "height": 51
    },
    "colab_type": "code",
    "executionInfo": {
     "elapsed": 2806,
     "status": "ok",
     "timestamp": 1585314189115,
     "user": {
      "displayName": "jerome seillier",
      "photoUrl": "https://lh3.googleusercontent.com/a-/AOh14GihpJBQ6Tq4tRKpTCRGJkMirKNNmLg06aountruhg=s64",
      "userId": "00095233701872556527"
     },
     "user_tz": -60
    },
    "id": "u3WdGFMklltA",
    "outputId": "f0117e2b-2897-4a95-9664-68c47425aa48"
   },
   "outputs": [
    {
     "name": "stdout",
     "output_type": "stream",
     "text": [
      "The accuracy score for the training data is:  88.81 %\n",
      "The accuracy score for the test data is:  87.14 %\n"
     ]
    }
   ],
   "source": [
    "dtc = DecisionTreeClassifier()\n",
    "dtc.fit(X_train_down, y_train_down)\n",
    "\n",
    "y_pred_dtc = dtc.predict(X_test)\n",
    "\n",
    "acc_train = dtc.score(X_train, y_train)*100\n",
    "acc_test = dtc.score(X_test,y_test)*100\n",
    "\n",
    "print(\"The accuracy score for the training data is: \",round(acc_train,2),\"%\")\n",
    "print(\"The accuracy score for the test data is: \",round(acc_test,2),\"%\")"
   ]
  },
  {
   "cell_type": "code",
   "execution_count": 0,
   "metadata": {
    "colab": {},
    "colab_type": "code",
    "id": "YyICTdwqKPtl"
   },
   "outputs": [],
   "source": [
    "# print(confusion_matrix(y_pred_dtc,y_test))\n",
    "# print(classification_report(y_pred_dtc, y_test))"
   ]
  },
  {
   "cell_type": "code",
   "execution_count": 28,
   "metadata": {
    "colab": {
     "base_uri": "https://localhost:8080/",
     "height": 281
    },
    "colab_type": "code",
    "executionInfo": {
     "elapsed": 3024,
     "status": "ok",
     "timestamp": 1585314189341,
     "user": {
      "displayName": "jerome seillier",
      "photoUrl": "https://lh3.googleusercontent.com/a-/AOh14GihpJBQ6Tq4tRKpTCRGJkMirKNNmLg06aountruhg=s64",
      "userId": "00095233701872556527"
     },
     "user_tz": -60
    },
    "id": "rxMdMM9qNj-O",
    "outputId": "70022adb-793f-4874-83fa-bd5a281ff6c3"
   },
   "outputs": [
    {
     "data": {
      "image/png": "[encoded data removed]",
      "text/plain": [
       "<Figure size 432x288 with 2 Axes>"
      ]
     },
     "metadata": {
      "tags": []
     },
     "output_type": "display_data"
    }
   ],
   "source": [
    "cm = metrics.confusion_matrix(y_test, y_pred_dtc)\n",
    "sns.heatmap(cm, annot=True, fmt=\"d\").set_title(\"Decision Tree\")\n",
    "plt.show()"
   ]
  },
  {
   "cell_type": "code",
   "execution_count": 29,
   "metadata": {
    "colab": {
     "base_uri": "https://localhost:8080/",
     "height": 34
    },
    "colab_type": "code",
    "executionInfo": {
     "elapsed": 3020,
     "status": "ok",
     "timestamp": 1585314189342,
     "user": {
      "displayName": "jerome seillier",
      "photoUrl": "https://lh3.googleusercontent.com/a-/AOh14GihpJBQ6Tq4tRKpTCRGJkMirKNNmLg06aountruhg=s64",
      "userId": "00095233701872556527"
     },
     "user_tz": -60
    },
    "id": "P-QAjf3IlltF",
    "outputId": "aca9d781-1d9f-41b3-9edc-56758f79fc5d"
   },
   "outputs": [
    {
     "data": {
      "text/plain": [
       "array([0.91062802, 0.92251816, 0.91525424, 0.91041162, 0.9031477 ])"
      ]
     },
     "execution_count": 29,
     "metadata": {
      "tags": []
     },
     "output_type": "execute_result"
    }
   ],
   "source": [
    "cv_results = cross_val_score(dtc, X_train_down,y_train_down, cv = 5)\n",
    "cv_results"
   ]
  },
  {
   "cell_type": "code",
   "execution_count": 30,
   "metadata": {
    "colab": {
     "base_uri": "https://localhost:8080/",
     "height": 68
    },
    "colab_type": "code",
    "executionInfo": {
     "elapsed": 3015,
     "status": "ok",
     "timestamp": 1585314189343,
     "user": {
      "displayName": "jerome seillier",
      "photoUrl": "https://lh3.googleusercontent.com/a-/AOh14GihpJBQ6Tq4tRKpTCRGJkMirKNNmLg06aountruhg=s64",
      "userId": "00095233701872556527"
     },
     "user_tz": -60
    },
    "id": "UGmnbit0_yCV",
    "outputId": "a9ac06a3-ffdb-4e5d-e575-5d3d9db0d9d3"
   },
   "outputs": [
    {
     "name": "stdout",
     "output_type": "stream",
     "text": [
      "dtc_recall is 0.9745454545454545\n",
      "dtc_precision is 0.5403225806451613\n",
      "dtc_f1_score is 0.5403225806451613\n"
     ]
    }
   ],
   "source": [
    "dtc_recall = recall_score(y_test, y_pred_dtc)\n",
    "dtc_precision = precision_score(y_test,y_pred_dtc)\n",
    "dtc_f1 = f1_score(y_test,y_pred_dtc)\n",
    "\n",
    "print(\"dtc_recall is\",(dtc_recall))\n",
    "print(\"dtc_precision is\",(dtc_precision))\n",
    "print(\"dtc_f1_score is\",(dtc_precision))"
   ]
  },
  {
   "cell_type": "markdown",
   "metadata": {
    "colab_type": "text",
    "id": "vPvWhldqlltT"
   },
   "source": [
    "Recall score is high, so we'll can focus on population that will offer the best convertion chances. Precision is quite low so we will certainly contact too much people labeled as converted but that will certainly not convert at the end."
   ]
  },
  {
   "cell_type": "code",
   "execution_count": 31,
   "metadata": {
    "colab": {
     "base_uri": "https://localhost:8080/",
     "height": 295
    },
    "colab_type": "code",
    "executionInfo": {
     "elapsed": 3409,
     "status": "ok",
     "timestamp": 1585314189745,
     "user": {
      "displayName": "jerome seillier",
      "photoUrl": "https://lh3.googleusercontent.com/a-/AOh14GihpJBQ6Tq4tRKpTCRGJkMirKNNmLg06aountruhg=s64",
      "userId": "00095233701872556527"
     },
     "user_tz": -60
    },
    "id": "KKllaz8EFHtm",
    "outputId": "b46be82e-1a90-4766-af31-70ad5cbe9eb7"
   },
   "outputs": [
    {
     "data": {
      "image/png": "[encoded data removed]",
      "text/plain": [
       "<Figure size 432x288 with 1 Axes>"
      ]
     },
     "metadata": {
      "tags": []
     },
     "output_type": "display_data"
    }
   ],
   "source": [
    "# ROC Curve\n",
    "\n",
    "from sklearn.metrics import roc_auc_score\n",
    "from sklearn.metrics import roc_curve\n",
    "logit_roc_auc = roc_auc_score(y_test, dtc.predict(X_test))\n",
    "fpr, tpr, thresholds = roc_curve(y_test, dtc.predict_proba(X_test)[:,1])\n",
    "plt.figure()\n",
    "plt.plot(fpr, tpr, label='Logistic Regression (area = %0.2f)' % logit_roc_auc)\n",
    "plt.plot([0, 1], [0, 1],'r--')\n",
    "plt.xlim([-0.05, 1.05])\n",
    "plt.ylim([-0.05, 1.05])\n",
    "plt.xlabel('False Positive Rate')\n",
    "plt.ylabel('True Positive Rate')\n",
    "plt.title('Receiver operating characteristic')\n",
    "plt.legend(loc=\"lower right\")\n",
    "plt.savefig('Log_ROC')\n",
    "plt.show()"
   ]
  },
  {
   "cell_type": "markdown",
   "metadata": {
    "colab_type": "text",
    "id": "NBxAVhFE6PHf"
   },
   "source": [
    "## Randon Forest"
   ]
  },
  {
   "cell_type": "code",
   "execution_count": 32,
   "metadata": {
    "colab": {
     "base_uri": "https://localhost:8080/",
     "height": 51
    },
    "colab_type": "code",
    "executionInfo": {
     "elapsed": 3985,
     "status": "ok",
     "timestamp": 1585314190326,
     "user": {
      "displayName": "jerome seillier",
      "photoUrl": "https://lh3.googleusercontent.com/a-/AOh14GihpJBQ6Tq4tRKpTCRGJkMirKNNmLg06aountruhg=s64",
      "userId": "00095233701872556527"
     },
     "user_tz": -60
    },
    "id": "SNV_sYen5sWv",
    "outputId": "4fec22c9-9fcb-4c22-d104-db841971120e"
   },
   "outputs": [
    {
     "name": "stdout",
     "output_type": "stream",
     "text": [
      "The accuracy score for the training data is:  95.1 %\n",
      "The accuracy score for the test data is:  94.14 %\n"
     ]
    }
   ],
   "source": [
    "from sklearn.ensemble import RandomForestClassifier\n",
    "rfc = RandomForestClassifier()\n",
    "rfc.fit(X_train_down, y_train_down)\n",
    "\n",
    "y_pred_rfc = rfc.predict(X_test)\n",
    "\n",
    "acc_train = rfc.score(X_train, y_train)*100\n",
    "acc_test = rfc.score(X_test,y_test)*100\n",
    "\n",
    "print(\"The accuracy score for the training data is: \",round(acc_train,2),\"%\")\n",
    "print(\"The accuracy score for the test data is: \",round(acc_test,2),\"%\")"
   ]
  },
  {
   "cell_type": "code",
   "execution_count": 33,
   "metadata": {
    "colab": {
     "base_uri": "https://localhost:8080/",
     "height": 281
    },
    "colab_type": "code",
    "executionInfo": {
     "elapsed": 4225,
     "status": "ok",
     "timestamp": 1585314190572,
     "user": {
      "displayName": "jerome seillier",
      "photoUrl": "https://lh3.googleusercontent.com/a-/AOh14GihpJBQ6Tq4tRKpTCRGJkMirKNNmLg06aountruhg=s64",
      "userId": "00095233701872556527"
     },
     "user_tz": -60
    },
    "id": "n9r9vn3MBl-B",
    "outputId": "69e03a88-b478-4299-e428-c31dd0cdacc6"
   },
   "outputs": [
    {
     "data": {
      "image/png": "[encoded data removed]",
      "text/plain": [
       "<Figure size 432x288 with 2 Axes>"
      ]
     },
     "metadata": {
      "tags": []
     },
     "output_type": "display_data"
    }
   ],
   "source": [
    "cm = metrics.confusion_matrix(y_test, y_pred_rfc)\n",
    "sns.heatmap(cm, annot=True, fmt=\"d\").set_title(\"Random forest\")\n",
    "plt.show()"
   ]
  },
  {
   "cell_type": "code",
   "execution_count": 34,
   "metadata": {
    "colab": {
     "base_uri": "https://localhost:8080/",
     "height": 68
    },
    "colab_type": "code",
    "executionInfo": {
     "elapsed": 4221,
     "status": "ok",
     "timestamp": 1585314190573,
     "user": {
      "displayName": "jerome seillier",
      "photoUrl": "https://lh3.googleusercontent.com/a-/AOh14GihpJBQ6Tq4tRKpTCRGJkMirKNNmLg06aountruhg=s64",
      "userId": "00095233701872556527"
     },
     "user_tz": -60
    },
    "id": "FvZ89HweDdRa",
    "outputId": "5817b9b4-1b8d-435a-90d2-bb1d37cf44f5"
   },
   "outputs": [
    {
     "name": "stdout",
     "output_type": "stream",
     "text": [
      "recall is 1.0\n",
      "precision is 0.7198952879581152\n",
      "f1_score is 0.7198952879581152\n"
     ]
    }
   ],
   "source": [
    "dtc_recall = recall_score(y_test, y_pred_rfc)\n",
    "dtc_precision = precision_score(y_test,y_pred_rfc)\n",
    "dtc_f1 = f1_score(y_test,y_pred_rfc)\n",
    "\n",
    "print(\"recall is\",(dtc_recall))\n",
    "print(\"precision is\",(dtc_precision))\n",
    "print(\"f1_score is\",(dtc_precision))"
   ]
  },
  {
   "cell_type": "code",
   "execution_count": 35,
   "metadata": {
    "colab": {
     "base_uri": "https://localhost:8080/",
     "height": 295
    },
    "colab_type": "code",
    "executionInfo": {
     "elapsed": 4488,
     "status": "ok",
     "timestamp": 1585314190860,
     "user": {
      "displayName": "jerome seillier",
      "photoUrl": "https://lh3.googleusercontent.com/a-/AOh14GihpJBQ6Tq4tRKpTCRGJkMirKNNmLg06aountruhg=s64",
      "userId": "00095233701872556527"
     },
     "user_tz": -60
    },
    "id": "9PraXfOlFUB1",
    "outputId": "20a9bdc8-1de3-4f94-b365-e46fa5e5f9c0"
   },
   "outputs": [
    {
     "data": {
      "image/png": "[encoded data removed]",
      "text/plain": [
       "<Figure size 432x288 with 1 Axes>"
      ]
     },
     "metadata": {
      "tags": []
     },
     "output_type": "display_data"
    }
   ],
   "source": [
    "# ROC Curve\n",
    "\n",
    "from sklearn.metrics import roc_auc_score\n",
    "from sklearn.metrics import roc_curve\n",
    "logit_roc_auc = roc_auc_score(y_test, rfc.predict(X_test))\n",
    "fpr, tpr, thresholds = roc_curve(y_test, rfc.predict_proba(X_test)[:,1])\n",
    "plt.figure()\n",
    "plt.plot(fpr, tpr, label='Logistic Regression (area = %0.2f)' % logit_roc_auc)\n",
    "plt.plot([0, 1], [0, 1],'r--')\n",
    "plt.xlim([-0.05, 1.05])\n",
    "plt.ylim([-0.05, 1.05])\n",
    "plt.xlabel('False Positive Rate')\n",
    "plt.ylabel('True Positive Rate')\n",
    "plt.title('Receiver operating characteristic')\n",
    "plt.legend(loc=\"lower right\")\n",
    "plt.savefig('Log_ROC')\n",
    "plt.show()"
   ]
  },
  {
   "cell_type": "code",
   "execution_count": 36,
   "metadata": {
    "colab": {
     "base_uri": "https://localhost:8080/",
     "height": 442
    },
    "colab_type": "code",
    "executionInfo": {
     "elapsed": 4908,
     "status": "ok",
     "timestamp": 1585314191292,
     "user": {
      "displayName": "jerome seillier",
      "photoUrl": "https://lh3.googleusercontent.com/a-/AOh14GihpJBQ6Tq4tRKpTCRGJkMirKNNmLg06aountruhg=s64",
      "userId": "00095233701872556527"
     },
     "user_tz": -60
    },
    "id": "vIp7-GnOL6Sx",
    "outputId": "271ca1a2-6e32-40ec-953b-f69cdaa3a48c"
   },
   "outputs": [
    {
     "data": {
      "image/png": "[encoded data removed]",
      "text/plain": [
       "<Figure size 864x504 with 1 Axes>"
      ]
     },
     "metadata": {
      "tags": []
     },
     "output_type": "display_data"
    }
   ],
   "source": [
    "feature_imp = rfc.feature_importances_.round(3)\n",
    "ser_rank = pd.Series(feature_imp, index=X.columns).sort_values(ascending = False)\n",
    "\n",
    "plt.figure(figsize=(12,7))\n",
    "sns.barplot(x= ser_rank.values, y = ser_rank.index, palette='deep')\n",
    "plt.xlabel('relative importance')\n",
    "plt.show()"
   ]
  },
  {
   "cell_type": "markdown",
   "metadata": {
    "colab_type": "text",
    "id": "WR_QEoays04G"
   },
   "source": [
    "## Randon Forest - classweight"
   ]
  },
  {
   "cell_type": "code",
   "execution_count": 37,
   "metadata": {
    "colab": {
     "base_uri": "https://localhost:8080/",
     "height": 51
    },
    "colab_type": "code",
    "executionInfo": {
     "elapsed": 5161,
     "status": "ok",
     "timestamp": 1585314191555,
     "user": {
      "displayName": "jerome seillier",
      "photoUrl": "https://lh3.googleusercontent.com/a-/AOh14GihpJBQ6Tq4tRKpTCRGJkMirKNNmLg06aountruhg=s64",
      "userId": "00095233701872556527"
     },
     "user_tz": -60
    },
    "id": "zaJkVHkSs04J",
    "outputId": "40efdc13-521e-417f-ab61-606dc2108627"
   },
   "outputs": [
    {
     "name": "stdout",
     "output_type": "stream",
     "text": [
      "The accuracy score for the training data is:  95.7 %\n",
      "The accuracy score for the test data is:  93.92 %\n"
     ]
    }
   ],
   "source": [
    "from sklearn.ensemble import RandomForestClassifier\n",
    "rfc = RandomForestClassifier(random_state=0, class_weight=\"balanced\")\n",
    "rfc.fit(X_train_down, y_train_down)\n",
    "\n",
    "y_pred_rfc = rfc.predict(X_test)\n",
    "\n",
    "acc_train = rfc.score(X_train, y_train)*100\n",
    "acc_test = rfc.score(X_test,y_test)*100\n",
    "\n",
    "print(\"The accuracy score for the training data is: \",round(acc_train,2),\"%\")\n",
    "print(\"The accuracy score for the test data is: \",round(acc_test,2),\"%\")"
   ]
  },
  {
   "cell_type": "code",
   "execution_count": 38,
   "metadata": {
    "colab": {
     "base_uri": "https://localhost:8080/",
     "height": 281
    },
    "colab_type": "code",
    "executionInfo": {
     "elapsed": 5815,
     "status": "ok",
     "timestamp": 1585314192217,
     "user": {
      "displayName": "jerome seillier",
      "photoUrl": "https://lh3.googleusercontent.com/a-/AOh14GihpJBQ6Tq4tRKpTCRGJkMirKNNmLg06aountruhg=s64",
      "userId": "00095233701872556527"
     },
     "user_tz": -60
    },
    "id": "o8U2bZbFs04M",
    "outputId": "38ad79b1-3180-463e-e5aa-fdb698adabc2"
   },
   "outputs": [
    {
     "data": {
      "image/png": "[encoded data removed]",
      "text/plain": [
       "<Figure size 432x288 with 2 Axes>"
      ]
     },
     "metadata": {
      "tags": []
     },
     "output_type": "display_data"
    }
   ],
   "source": [
    "cm = metrics.confusion_matrix(y_test, y_pred_rfc)\n",
    "sns.heatmap(cm, annot=True, fmt=\"d\").set_title(\"Random forest\")\n",
    "plt.show()"
   ]
  },
  {
   "cell_type": "code",
   "execution_count": 39,
   "metadata": {
    "colab": {
     "base_uri": "https://localhost:8080/",
     "height": 68
    },
    "colab_type": "code",
    "executionInfo": {
     "elapsed": 5808,
     "status": "ok",
     "timestamp": 1585314192217,
     "user": {
      "displayName": "jerome seillier",
      "photoUrl": "https://lh3.googleusercontent.com/a-/AOh14GihpJBQ6Tq4tRKpTCRGJkMirKNNmLg06aountruhg=s64",
      "userId": "00095233701872556527"
     },
     "user_tz": -60
    },
    "id": "LEmfKJcFs04P",
    "outputId": "9f715e0b-4364-4515-e12d-2e13674b843f"
   },
   "outputs": [
    {
     "name": "stdout",
     "output_type": "stream",
     "text": [
      "recall is 1.0\n",
      "precision is 0.7124352331606217\n",
      "f1_score is 0.7124352331606217\n"
     ]
    }
   ],
   "source": [
    "dtc_recall = recall_score(y_test, y_pred_rfc)\n",
    "dtc_precision = precision_score(y_test,y_pred_rfc)\n",
    "dtc_f1 = f1_score(y_test,y_pred_rfc)\n",
    "\n",
    "print(\"recall is\",(dtc_recall))\n",
    "print(\"precision is\",(dtc_precision))\n",
    "print(\"f1_score is\",(dtc_precision))"
   ]
  },
  {
   "cell_type": "code",
   "execution_count": 40,
   "metadata": {
    "colab": {
     "base_uri": "https://localhost:8080/",
     "height": 295
    },
    "colab_type": "code",
    "executionInfo": {
     "elapsed": 5802,
     "status": "ok",
     "timestamp": 1585314192218,
     "user": {
      "displayName": "jerome seillier",
      "photoUrl": "https://lh3.googleusercontent.com/a-/AOh14GihpJBQ6Tq4tRKpTCRGJkMirKNNmLg06aountruhg=s64",
      "userId": "00095233701872556527"
     },
     "user_tz": -60
    },
    "id": "pWvwD5t0s04R",
    "outputId": "12d89617-9be6-4797-d136-281b49fe81c7"
   },
   "outputs": [
    {
     "data": {
      "image/png": "[encoded data removed]",
      "text/plain": [
       "<Figure size 432x288 with 1 Axes>"
      ]
     },
     "metadata": {
      "tags": []
     },
     "output_type": "display_data"
    }
   ],
   "source": [
    "# ROC Curve\n",
    "\n",
    "from sklearn.metrics import roc_auc_score\n",
    "from sklearn.metrics import roc_curve\n",
    "logit_roc_auc = roc_auc_score(y_test, rfc.predict(X_test))\n",
    "fpr, tpr, thresholds = roc_curve(y_test, rfc.predict_proba(X_test)[:,1])\n",
    "plt.figure()\n",
    "plt.plot(fpr, tpr, label='Logistic Regression (area = %0.2f)' % logit_roc_auc)\n",
    "plt.plot([0, 1], [0, 1],'r--')\n",
    "plt.xlim([-0.05, 1.05])\n",
    "plt.ylim([-0.05, 1.05])\n",
    "plt.xlabel('False Positive Rate')\n",
    "plt.ylabel('True Positive Rate')\n",
    "plt.title('Receiver operating characteristic')\n",
    "plt.legend(loc=\"lower right\")\n",
    "plt.savefig('Log_ROC')\n",
    "plt.show()"
   ]
  }
 ],
 "metadata": {
  "colab": {
   "collapsed_sections": [],
   "name": "Projet_Conversion_balanced.ipynb",
   "provenance": [],
   "toc_visible": true
  },
  "kernelspec": {
   "display_name": "Python 3",
   "language": "python",
   "name": "python3"
  },
  "language_info": {
   "codemirror_mode": {
    "name": "ipython",
    "version": 3
   },
   "file_extension": ".py",
   "mimetype": "text/x-python",
   "name": "python",
   "nbconvert_exporter": "python",
   "pygments_lexer": "ipython3",
   "version": "3.7.4"
  }
 },
 "nbformat": 4,
 "nbformat_minor": 1
}
