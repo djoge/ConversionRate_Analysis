{
 "cells": [
  {
   "cell_type": "markdown",
   "metadata": {
    "colab_type": "text",
    "id": "DlbFDN8GzDID"
   },
   "source": [
    "# Librairies and Custom functions"
   ]
  },
  {
   "cell_type": "code",
   "execution_count": 0,
   "metadata": {
    "colab": {},
    "colab_type": "code",
    "id": "mpYruHSyoMYw"
   },
   "outputs": [],
   "source": [
    "import numpy as np\n",
    "import pandas as pd\n",
    "import matplotlib.pyplot as plt\n",
    "import seaborn as sns\n",
    "%matplotlib inline\n",
    "sns.set()\n",
    "from subprocess import check_output\n",
    "import warnings\n",
    "warnings.filterwarnings('ignore') \n",
    "import os\n",
    "from sklearn.preprocessing import LabelEncoder\n",
    "from sklearn.linear_model import LogisticRegression\n",
    "from sklearn.tree import DecisionTreeClassifier\n",
    "from sklearn.utils import resample\n",
    "from sklearn.model_selection import train_test_split, cross_val_score, GridSearchCV\n",
    "from sklearn import neighbors\n",
    "from sklearn import metrics\n",
    "from sklearn.metrics import confusion_matrix, precision_score, recall_score, accuracy_score, classification_report, f1_score\n",
    "\n",
    "# function to add percentage to plot\n",
    "def annot_plot(ax,w,h):                                    \n",
    "    ax.spines['top'].set_visible(False)\n",
    "    ax.spines['right'].set_visible(False)\n",
    "    for p in ax.patches:\n",
    "         ax.annotate(f\"{p.get_height() * 100 / df.shape[0]:.2f}%\", (p.get_x() + p.get_width() / 2., p.get_height()),\n",
    "         ha='center', va='center', fontsize=11, color='black', rotation=0, xytext=(0, 10),\n",
    "         textcoords='offset points')"
   ]
  },
  {
   "cell_type": "code",
   "execution_count": 0,
   "metadata": {
    "colab": {},
    "colab_type": "code",
    "id": "TFEPJHyeonfS"
   },
   "outputs": [],
   "source": [
    "df = pd.read_csv('/content/sample_data/WA_Fn-UseC_-Marketing-Customer-Value-Analysis.csv')"
   ]
  },
  {
   "cell_type": "markdown",
   "metadata": {
    "colab_type": "text",
    "id": "fEBqp6pIp_qJ"
   },
   "source": [
    "# Exploratory Data Analysis"
   ]
  },
  {
   "cell_type": "markdown",
   "metadata": {
    "colab_type": "text",
    "id": "brdRGUiO6VYG"
   },
   "source": [
    "## Standard checking"
   ]
  },
  {
   "cell_type": "markdown",
   "metadata": {
    "colab_type": "text",
    "id": "Al8c2TrL0xlw"
   },
   "source": [
    "The Dataset contains :\n",
    "*   9134 observations\n",
    "*   24 variables\n"
   ]
  },
  {
   "cell_type": "code",
   "execution_count": 42,
   "metadata": {
    "colab": {
     "base_uri": "https://localhost:8080/",
     "height": 34
    },
    "colab_type": "code",
    "executionInfo": {
     "elapsed": 1704,
     "status": "ok",
     "timestamp": 1585314352087,
     "user": {
      "displayName": "jerome seillier",
      "photoUrl": "https://lh3.googleusercontent.com/a-/AOh14GihpJBQ6Tq4tRKpTCRGJkMirKNNmLg06aountruhg=s64",
      "userId": "00095233701872556527"
     },
     "user_tz": -60
    },
    "id": "uJq-aXUnpvQc",
    "outputId": "ffda737c-aeca-4edc-bc92-b5f6c0cbb0b9"
   },
   "outputs": [
    {
     "data": {
      "text/plain": [
       "(9134, 24)"
      ]
     },
     "execution_count": 42,
     "metadata": {
      "tags": []
     },
     "output_type": "execute_result"
    }
   ],
   "source": [
    "df.shape"
   ]
  },
  {
   "cell_type": "code",
   "execution_count": 43,
   "metadata": {
    "colab": {
     "base_uri": "https://localhost:8080/",
     "height": 600
    },
    "colab_type": "code",
    "executionInfo": {
     "elapsed": 1693,
     "status": "ok",
     "timestamp": 1585314352088,
     "user": {
      "displayName": "jerome seillier",
      "photoUrl": "https://lh3.googleusercontent.com/a-/AOh14GihpJBQ6Tq4tRKpTCRGJkMirKNNmLg06aountruhg=s64",
      "userId": "00095233701872556527"
     },
     "user_tz": -60
    },
    "id": "fjeBBeogppUK",
    "outputId": "32f1de13-8c37-4533-8001-a62de0bce417"
   },
   "outputs": [
    {
     "data": {
      "text/html": [
       "<div>\n",
       "<style scoped>\n",
       "    .dataframe tbody tr th:only-of-type {\n",
       "        vertical-align: middle;\n",
       "    }\n",
       "\n",
       "    .dataframe tbody tr th {\n",
       "        vertical-align: top;\n",
       "    }\n",
       "\n",
       "    .dataframe thead th {\n",
       "        text-align: right;\n",
       "    }\n",
       "</style>\n",
       "<table border=\"1\" class=\"dataframe\">\n",
       "  <thead>\n",
       "    <tr style=\"text-align: right;\">\n",
       "      <th></th>\n",
       "      <th>Customer</th>\n",
       "      <th>State</th>\n",
       "      <th>Customer Lifetime Value</th>\n",
       "      <th>Response</th>\n",
       "      <th>Coverage</th>\n",
       "      <th>Education</th>\n",
       "      <th>Effective To Date</th>\n",
       "      <th>EmploymentStatus</th>\n",
       "      <th>Gender</th>\n",
       "      <th>Income</th>\n",
       "      <th>Location Code</th>\n",
       "      <th>Marital Status</th>\n",
       "      <th>Monthly Premium Auto</th>\n",
       "      <th>Months Since Last Claim</th>\n",
       "      <th>Months Since Policy Inception</th>\n",
       "      <th>Number of Open Complaints</th>\n",
       "      <th>Number of Policies</th>\n",
       "      <th>Policy Type</th>\n",
       "      <th>Policy</th>\n",
       "      <th>Renew Offer Type</th>\n",
       "      <th>Sales Channel</th>\n",
       "      <th>Total Claim Amount</th>\n",
       "      <th>Vehicle Class</th>\n",
       "      <th>Vehicle Size</th>\n",
       "    </tr>\n",
       "  </thead>\n",
       "  <tbody>\n",
       "    <tr>\n",
       "      <th>0</th>\n",
       "      <td>BU79786</td>\n",
       "      <td>Washington</td>\n",
       "      <td>2763.519279</td>\n",
       "      <td>No</td>\n",
       "      <td>Basic</td>\n",
       "      <td>Bachelor</td>\n",
       "      <td>2/24/11</td>\n",
       "      <td>Employed</td>\n",
       "      <td>F</td>\n",
       "      <td>56274</td>\n",
       "      <td>Suburban</td>\n",
       "      <td>Married</td>\n",
       "      <td>69</td>\n",
       "      <td>32</td>\n",
       "      <td>5</td>\n",
       "      <td>0</td>\n",
       "      <td>1</td>\n",
       "      <td>Corporate Auto</td>\n",
       "      <td>Corporate L3</td>\n",
       "      <td>Offer1</td>\n",
       "      <td>Agent</td>\n",
       "      <td>384.811147</td>\n",
       "      <td>Two-Door Car</td>\n",
       "      <td>Medsize</td>\n",
       "    </tr>\n",
       "    <tr>\n",
       "      <th>1</th>\n",
       "      <td>QZ44356</td>\n",
       "      <td>Arizona</td>\n",
       "      <td>6979.535903</td>\n",
       "      <td>No</td>\n",
       "      <td>Extended</td>\n",
       "      <td>Bachelor</td>\n",
       "      <td>1/31/11</td>\n",
       "      <td>Unemployed</td>\n",
       "      <td>F</td>\n",
       "      <td>0</td>\n",
       "      <td>Suburban</td>\n",
       "      <td>Single</td>\n",
       "      <td>94</td>\n",
       "      <td>13</td>\n",
       "      <td>42</td>\n",
       "      <td>0</td>\n",
       "      <td>8</td>\n",
       "      <td>Personal Auto</td>\n",
       "      <td>Personal L3</td>\n",
       "      <td>Offer3</td>\n",
       "      <td>Agent</td>\n",
       "      <td>1131.464935</td>\n",
       "      <td>Four-Door Car</td>\n",
       "      <td>Medsize</td>\n",
       "    </tr>\n",
       "    <tr>\n",
       "      <th>2</th>\n",
       "      <td>AI49188</td>\n",
       "      <td>Nevada</td>\n",
       "      <td>12887.431650</td>\n",
       "      <td>No</td>\n",
       "      <td>Premium</td>\n",
       "      <td>Bachelor</td>\n",
       "      <td>2/19/11</td>\n",
       "      <td>Employed</td>\n",
       "      <td>F</td>\n",
       "      <td>48767</td>\n",
       "      <td>Suburban</td>\n",
       "      <td>Married</td>\n",
       "      <td>108</td>\n",
       "      <td>18</td>\n",
       "      <td>38</td>\n",
       "      <td>0</td>\n",
       "      <td>2</td>\n",
       "      <td>Personal Auto</td>\n",
       "      <td>Personal L3</td>\n",
       "      <td>Offer1</td>\n",
       "      <td>Agent</td>\n",
       "      <td>566.472247</td>\n",
       "      <td>Two-Door Car</td>\n",
       "      <td>Medsize</td>\n",
       "    </tr>\n",
       "    <tr>\n",
       "      <th>3</th>\n",
       "      <td>WW63253</td>\n",
       "      <td>California</td>\n",
       "      <td>7645.861827</td>\n",
       "      <td>No</td>\n",
       "      <td>Basic</td>\n",
       "      <td>Bachelor</td>\n",
       "      <td>1/20/11</td>\n",
       "      <td>Unemployed</td>\n",
       "      <td>M</td>\n",
       "      <td>0</td>\n",
       "      <td>Suburban</td>\n",
       "      <td>Married</td>\n",
       "      <td>106</td>\n",
       "      <td>18</td>\n",
       "      <td>65</td>\n",
       "      <td>0</td>\n",
       "      <td>7</td>\n",
       "      <td>Corporate Auto</td>\n",
       "      <td>Corporate L2</td>\n",
       "      <td>Offer1</td>\n",
       "      <td>Call Center</td>\n",
       "      <td>529.881344</td>\n",
       "      <td>SUV</td>\n",
       "      <td>Medsize</td>\n",
       "    </tr>\n",
       "    <tr>\n",
       "      <th>4</th>\n",
       "      <td>HB64268</td>\n",
       "      <td>Washington</td>\n",
       "      <td>2813.692575</td>\n",
       "      <td>No</td>\n",
       "      <td>Basic</td>\n",
       "      <td>Bachelor</td>\n",
       "      <td>2/3/11</td>\n",
       "      <td>Employed</td>\n",
       "      <td>M</td>\n",
       "      <td>43836</td>\n",
       "      <td>Rural</td>\n",
       "      <td>Single</td>\n",
       "      <td>73</td>\n",
       "      <td>12</td>\n",
       "      <td>44</td>\n",
       "      <td>0</td>\n",
       "      <td>1</td>\n",
       "      <td>Personal Auto</td>\n",
       "      <td>Personal L1</td>\n",
       "      <td>Offer1</td>\n",
       "      <td>Agent</td>\n",
       "      <td>138.130879</td>\n",
       "      <td>Four-Door Car</td>\n",
       "      <td>Medsize</td>\n",
       "    </tr>\n",
       "    <tr>\n",
       "      <th>5</th>\n",
       "      <td>OC83172</td>\n",
       "      <td>Oregon</td>\n",
       "      <td>8256.297800</td>\n",
       "      <td>Yes</td>\n",
       "      <td>Basic</td>\n",
       "      <td>Bachelor</td>\n",
       "      <td>1/25/11</td>\n",
       "      <td>Employed</td>\n",
       "      <td>F</td>\n",
       "      <td>62902</td>\n",
       "      <td>Rural</td>\n",
       "      <td>Married</td>\n",
       "      <td>69</td>\n",
       "      <td>14</td>\n",
       "      <td>94</td>\n",
       "      <td>0</td>\n",
       "      <td>2</td>\n",
       "      <td>Personal Auto</td>\n",
       "      <td>Personal L3</td>\n",
       "      <td>Offer2</td>\n",
       "      <td>Web</td>\n",
       "      <td>159.383042</td>\n",
       "      <td>Two-Door Car</td>\n",
       "      <td>Medsize</td>\n",
       "    </tr>\n",
       "    <tr>\n",
       "      <th>6</th>\n",
       "      <td>XZ87318</td>\n",
       "      <td>Oregon</td>\n",
       "      <td>5380.898636</td>\n",
       "      <td>Yes</td>\n",
       "      <td>Basic</td>\n",
       "      <td>College</td>\n",
       "      <td>2/24/11</td>\n",
       "      <td>Employed</td>\n",
       "      <td>F</td>\n",
       "      <td>55350</td>\n",
       "      <td>Suburban</td>\n",
       "      <td>Married</td>\n",
       "      <td>67</td>\n",
       "      <td>0</td>\n",
       "      <td>13</td>\n",
       "      <td>0</td>\n",
       "      <td>9</td>\n",
       "      <td>Corporate Auto</td>\n",
       "      <td>Corporate L3</td>\n",
       "      <td>Offer1</td>\n",
       "      <td>Agent</td>\n",
       "      <td>321.600000</td>\n",
       "      <td>Four-Door Car</td>\n",
       "      <td>Medsize</td>\n",
       "    </tr>\n",
       "    <tr>\n",
       "      <th>7</th>\n",
       "      <td>CF85061</td>\n",
       "      <td>Arizona</td>\n",
       "      <td>7216.100311</td>\n",
       "      <td>No</td>\n",
       "      <td>Premium</td>\n",
       "      <td>Master</td>\n",
       "      <td>1/18/11</td>\n",
       "      <td>Unemployed</td>\n",
       "      <td>M</td>\n",
       "      <td>0</td>\n",
       "      <td>Urban</td>\n",
       "      <td>Single</td>\n",
       "      <td>101</td>\n",
       "      <td>0</td>\n",
       "      <td>68</td>\n",
       "      <td>0</td>\n",
       "      <td>4</td>\n",
       "      <td>Corporate Auto</td>\n",
       "      <td>Corporate L3</td>\n",
       "      <td>Offer1</td>\n",
       "      <td>Agent</td>\n",
       "      <td>363.029680</td>\n",
       "      <td>Four-Door Car</td>\n",
       "      <td>Medsize</td>\n",
       "    </tr>\n",
       "    <tr>\n",
       "      <th>8</th>\n",
       "      <td>DY87989</td>\n",
       "      <td>Oregon</td>\n",
       "      <td>24127.504020</td>\n",
       "      <td>Yes</td>\n",
       "      <td>Basic</td>\n",
       "      <td>Bachelor</td>\n",
       "      <td>1/26/11</td>\n",
       "      <td>Medical Leave</td>\n",
       "      <td>M</td>\n",
       "      <td>14072</td>\n",
       "      <td>Suburban</td>\n",
       "      <td>Divorced</td>\n",
       "      <td>71</td>\n",
       "      <td>13</td>\n",
       "      <td>3</td>\n",
       "      <td>0</td>\n",
       "      <td>2</td>\n",
       "      <td>Corporate Auto</td>\n",
       "      <td>Corporate L3</td>\n",
       "      <td>Offer1</td>\n",
       "      <td>Agent</td>\n",
       "      <td>511.200000</td>\n",
       "      <td>Four-Door Car</td>\n",
       "      <td>Medsize</td>\n",
       "    </tr>\n",
       "    <tr>\n",
       "      <th>9</th>\n",
       "      <td>BQ94931</td>\n",
       "      <td>Oregon</td>\n",
       "      <td>7388.178085</td>\n",
       "      <td>No</td>\n",
       "      <td>Extended</td>\n",
       "      <td>College</td>\n",
       "      <td>2/17/11</td>\n",
       "      <td>Employed</td>\n",
       "      <td>F</td>\n",
       "      <td>28812</td>\n",
       "      <td>Urban</td>\n",
       "      <td>Married</td>\n",
       "      <td>93</td>\n",
       "      <td>17</td>\n",
       "      <td>7</td>\n",
       "      <td>0</td>\n",
       "      <td>8</td>\n",
       "      <td>Special Auto</td>\n",
       "      <td>Special L2</td>\n",
       "      <td>Offer2</td>\n",
       "      <td>Branch</td>\n",
       "      <td>425.527834</td>\n",
       "      <td>Four-Door Car</td>\n",
       "      <td>Medsize</td>\n",
       "    </tr>\n",
       "  </tbody>\n",
       "</table>\n",
       "</div>"
      ],
      "text/plain": [
       "  Customer       State  ...  Vehicle Class Vehicle Size\n",
       "0  BU79786  Washington  ...   Two-Door Car      Medsize\n",
       "1  QZ44356     Arizona  ...  Four-Door Car      Medsize\n",
       "2  AI49188      Nevada  ...   Two-Door Car      Medsize\n",
       "3  WW63253  California  ...            SUV      Medsize\n",
       "4  HB64268  Washington  ...  Four-Door Car      Medsize\n",
       "5  OC83172      Oregon  ...   Two-Door Car      Medsize\n",
       "6  XZ87318      Oregon  ...  Four-Door Car      Medsize\n",
       "7  CF85061     Arizona  ...  Four-Door Car      Medsize\n",
       "8  DY87989      Oregon  ...  Four-Door Car      Medsize\n",
       "9  BQ94931      Oregon  ...  Four-Door Car      Medsize\n",
       "\n",
       "[10 rows x 24 columns]"
      ]
     },
     "execution_count": 43,
     "metadata": {
      "tags": []
     },
     "output_type": "execute_result"
    }
   ],
   "source": [
    "df.head(10)\n"
   ]
  },
  {
   "cell_type": "markdown",
   "metadata": {
    "colab_type": "text",
    "id": "uwbUzu-C1ZIH"
   },
   "source": [
    "Here we change the type of 'Response' observations from string to integer in order to facilitate the processing"
   ]
  },
  {
   "cell_type": "code",
   "execution_count": 0,
   "metadata": {
    "colab": {},
    "colab_type": "code",
    "id": "0mwf4df3rJJD"
   },
   "outputs": [],
   "source": [
    "df.Response = df.Response.apply(lambda X : 0 if X == 'No' else 1)\n",
    "df.columns = df.columns.str.replace(' ','_')"
   ]
  },
  {
   "cell_type": "code",
   "execution_count": 45,
   "metadata": {
    "colab": {
     "base_uri": "https://localhost:8080/",
     "height": 549
    },
    "colab_type": "code",
    "executionInfo": {
     "elapsed": 1938,
     "status": "ok",
     "timestamp": 1585314352353,
     "user": {
      "displayName": "jerome seillier",
      "photoUrl": "https://lh3.googleusercontent.com/a-/AOh14GihpJBQ6Tq4tRKpTCRGJkMirKNNmLg06aountruhg=s64",
      "userId": "00095233701872556527"
     },
     "user_tz": -60
    },
    "id": "1d0ztqfVFukS",
    "outputId": "921c4b1d-80cb-49ec-a0a2-cc6eb89e8424"
   },
   "outputs": [
    {
     "data": {
      "text/html": [
       "<div>\n",
       "<style scoped>\n",
       "    .dataframe tbody tr th:only-of-type {\n",
       "        vertical-align: middle;\n",
       "    }\n",
       "\n",
       "    .dataframe tbody tr th {\n",
       "        vertical-align: top;\n",
       "    }\n",
       "\n",
       "    .dataframe thead th {\n",
       "        text-align: right;\n",
       "    }\n",
       "</style>\n",
       "<table border=\"1\" class=\"dataframe\">\n",
       "  <thead>\n",
       "    <tr style=\"text-align: right;\">\n",
       "      <th></th>\n",
       "      <th>Customer</th>\n",
       "      <th>State</th>\n",
       "      <th>Customer_Lifetime_Value</th>\n",
       "      <th>Response</th>\n",
       "      <th>Coverage</th>\n",
       "      <th>Education</th>\n",
       "      <th>Effective_To_Date</th>\n",
       "      <th>EmploymentStatus</th>\n",
       "      <th>Gender</th>\n",
       "      <th>Income</th>\n",
       "      <th>Location_Code</th>\n",
       "      <th>Marital_Status</th>\n",
       "      <th>Monthly_Premium_Auto</th>\n",
       "      <th>Months_Since_Last_Claim</th>\n",
       "      <th>Months_Since_Policy_Inception</th>\n",
       "      <th>Number_of_Open_Complaints</th>\n",
       "      <th>Number_of_Policies</th>\n",
       "      <th>Policy_Type</th>\n",
       "      <th>Policy</th>\n",
       "      <th>Renew_Offer_Type</th>\n",
       "      <th>Sales_Channel</th>\n",
       "      <th>Total_Claim_Amount</th>\n",
       "      <th>Vehicle_Class</th>\n",
       "      <th>Vehicle_Size</th>\n",
       "    </tr>\n",
       "  </thead>\n",
       "  <tbody>\n",
       "    <tr>\n",
       "      <th>0</th>\n",
       "      <td>BU79786</td>\n",
       "      <td>Washington</td>\n",
       "      <td>2763.519279</td>\n",
       "      <td>0</td>\n",
       "      <td>Basic</td>\n",
       "      <td>Bachelor</td>\n",
       "      <td>2/24/11</td>\n",
       "      <td>Employed</td>\n",
       "      <td>F</td>\n",
       "      <td>56274</td>\n",
       "      <td>Suburban</td>\n",
       "      <td>Married</td>\n",
       "      <td>69</td>\n",
       "      <td>32</td>\n",
       "      <td>5</td>\n",
       "      <td>0</td>\n",
       "      <td>1</td>\n",
       "      <td>Corporate Auto</td>\n",
       "      <td>Corporate L3</td>\n",
       "      <td>Offer1</td>\n",
       "      <td>Agent</td>\n",
       "      <td>384.811147</td>\n",
       "      <td>Two-Door Car</td>\n",
       "      <td>Medsize</td>\n",
       "    </tr>\n",
       "    <tr>\n",
       "      <th>1</th>\n",
       "      <td>QZ44356</td>\n",
       "      <td>Arizona</td>\n",
       "      <td>6979.535903</td>\n",
       "      <td>0</td>\n",
       "      <td>Extended</td>\n",
       "      <td>Bachelor</td>\n",
       "      <td>1/31/11</td>\n",
       "      <td>Unemployed</td>\n",
       "      <td>F</td>\n",
       "      <td>0</td>\n",
       "      <td>Suburban</td>\n",
       "      <td>Single</td>\n",
       "      <td>94</td>\n",
       "      <td>13</td>\n",
       "      <td>42</td>\n",
       "      <td>0</td>\n",
       "      <td>8</td>\n",
       "      <td>Personal Auto</td>\n",
       "      <td>Personal L3</td>\n",
       "      <td>Offer3</td>\n",
       "      <td>Agent</td>\n",
       "      <td>1131.464935</td>\n",
       "      <td>Four-Door Car</td>\n",
       "      <td>Medsize</td>\n",
       "    </tr>\n",
       "    <tr>\n",
       "      <th>2</th>\n",
       "      <td>AI49188</td>\n",
       "      <td>Nevada</td>\n",
       "      <td>12887.431650</td>\n",
       "      <td>0</td>\n",
       "      <td>Premium</td>\n",
       "      <td>Bachelor</td>\n",
       "      <td>2/19/11</td>\n",
       "      <td>Employed</td>\n",
       "      <td>F</td>\n",
       "      <td>48767</td>\n",
       "      <td>Suburban</td>\n",
       "      <td>Married</td>\n",
       "      <td>108</td>\n",
       "      <td>18</td>\n",
       "      <td>38</td>\n",
       "      <td>0</td>\n",
       "      <td>2</td>\n",
       "      <td>Personal Auto</td>\n",
       "      <td>Personal L3</td>\n",
       "      <td>Offer1</td>\n",
       "      <td>Agent</td>\n",
       "      <td>566.472247</td>\n",
       "      <td>Two-Door Car</td>\n",
       "      <td>Medsize</td>\n",
       "    </tr>\n",
       "    <tr>\n",
       "      <th>3</th>\n",
       "      <td>WW63253</td>\n",
       "      <td>California</td>\n",
       "      <td>7645.861827</td>\n",
       "      <td>0</td>\n",
       "      <td>Basic</td>\n",
       "      <td>Bachelor</td>\n",
       "      <td>1/20/11</td>\n",
       "      <td>Unemployed</td>\n",
       "      <td>M</td>\n",
       "      <td>0</td>\n",
       "      <td>Suburban</td>\n",
       "      <td>Married</td>\n",
       "      <td>106</td>\n",
       "      <td>18</td>\n",
       "      <td>65</td>\n",
       "      <td>0</td>\n",
       "      <td>7</td>\n",
       "      <td>Corporate Auto</td>\n",
       "      <td>Corporate L2</td>\n",
       "      <td>Offer1</td>\n",
       "      <td>Call Center</td>\n",
       "      <td>529.881344</td>\n",
       "      <td>SUV</td>\n",
       "      <td>Medsize</td>\n",
       "    </tr>\n",
       "    <tr>\n",
       "      <th>4</th>\n",
       "      <td>HB64268</td>\n",
       "      <td>Washington</td>\n",
       "      <td>2813.692575</td>\n",
       "      <td>0</td>\n",
       "      <td>Basic</td>\n",
       "      <td>Bachelor</td>\n",
       "      <td>2/3/11</td>\n",
       "      <td>Employed</td>\n",
       "      <td>M</td>\n",
       "      <td>43836</td>\n",
       "      <td>Rural</td>\n",
       "      <td>Single</td>\n",
       "      <td>73</td>\n",
       "      <td>12</td>\n",
       "      <td>44</td>\n",
       "      <td>0</td>\n",
       "      <td>1</td>\n",
       "      <td>Personal Auto</td>\n",
       "      <td>Personal L1</td>\n",
       "      <td>Offer1</td>\n",
       "      <td>Agent</td>\n",
       "      <td>138.130879</td>\n",
       "      <td>Four-Door Car</td>\n",
       "      <td>Medsize</td>\n",
       "    </tr>\n",
       "    <tr>\n",
       "      <th>5</th>\n",
       "      <td>OC83172</td>\n",
       "      <td>Oregon</td>\n",
       "      <td>8256.297800</td>\n",
       "      <td>1</td>\n",
       "      <td>Basic</td>\n",
       "      <td>Bachelor</td>\n",
       "      <td>1/25/11</td>\n",
       "      <td>Employed</td>\n",
       "      <td>F</td>\n",
       "      <td>62902</td>\n",
       "      <td>Rural</td>\n",
       "      <td>Married</td>\n",
       "      <td>69</td>\n",
       "      <td>14</td>\n",
       "      <td>94</td>\n",
       "      <td>0</td>\n",
       "      <td>2</td>\n",
       "      <td>Personal Auto</td>\n",
       "      <td>Personal L3</td>\n",
       "      <td>Offer2</td>\n",
       "      <td>Web</td>\n",
       "      <td>159.383042</td>\n",
       "      <td>Two-Door Car</td>\n",
       "      <td>Medsize</td>\n",
       "    </tr>\n",
       "    <tr>\n",
       "      <th>6</th>\n",
       "      <td>XZ87318</td>\n",
       "      <td>Oregon</td>\n",
       "      <td>5380.898636</td>\n",
       "      <td>1</td>\n",
       "      <td>Basic</td>\n",
       "      <td>College</td>\n",
       "      <td>2/24/11</td>\n",
       "      <td>Employed</td>\n",
       "      <td>F</td>\n",
       "      <td>55350</td>\n",
       "      <td>Suburban</td>\n",
       "      <td>Married</td>\n",
       "      <td>67</td>\n",
       "      <td>0</td>\n",
       "      <td>13</td>\n",
       "      <td>0</td>\n",
       "      <td>9</td>\n",
       "      <td>Corporate Auto</td>\n",
       "      <td>Corporate L3</td>\n",
       "      <td>Offer1</td>\n",
       "      <td>Agent</td>\n",
       "      <td>321.600000</td>\n",
       "      <td>Four-Door Car</td>\n",
       "      <td>Medsize</td>\n",
       "    </tr>\n",
       "    <tr>\n",
       "      <th>7</th>\n",
       "      <td>CF85061</td>\n",
       "      <td>Arizona</td>\n",
       "      <td>7216.100311</td>\n",
       "      <td>0</td>\n",
       "      <td>Premium</td>\n",
       "      <td>Master</td>\n",
       "      <td>1/18/11</td>\n",
       "      <td>Unemployed</td>\n",
       "      <td>M</td>\n",
       "      <td>0</td>\n",
       "      <td>Urban</td>\n",
       "      <td>Single</td>\n",
       "      <td>101</td>\n",
       "      <td>0</td>\n",
       "      <td>68</td>\n",
       "      <td>0</td>\n",
       "      <td>4</td>\n",
       "      <td>Corporate Auto</td>\n",
       "      <td>Corporate L3</td>\n",
       "      <td>Offer1</td>\n",
       "      <td>Agent</td>\n",
       "      <td>363.029680</td>\n",
       "      <td>Four-Door Car</td>\n",
       "      <td>Medsize</td>\n",
       "    </tr>\n",
       "    <tr>\n",
       "      <th>8</th>\n",
       "      <td>DY87989</td>\n",
       "      <td>Oregon</td>\n",
       "      <td>24127.504020</td>\n",
       "      <td>1</td>\n",
       "      <td>Basic</td>\n",
       "      <td>Bachelor</td>\n",
       "      <td>1/26/11</td>\n",
       "      <td>Medical Leave</td>\n",
       "      <td>M</td>\n",
       "      <td>14072</td>\n",
       "      <td>Suburban</td>\n",
       "      <td>Divorced</td>\n",
       "      <td>71</td>\n",
       "      <td>13</td>\n",
       "      <td>3</td>\n",
       "      <td>0</td>\n",
       "      <td>2</td>\n",
       "      <td>Corporate Auto</td>\n",
       "      <td>Corporate L3</td>\n",
       "      <td>Offer1</td>\n",
       "      <td>Agent</td>\n",
       "      <td>511.200000</td>\n",
       "      <td>Four-Door Car</td>\n",
       "      <td>Medsize</td>\n",
       "    </tr>\n",
       "    <tr>\n",
       "      <th>9</th>\n",
       "      <td>BQ94931</td>\n",
       "      <td>Oregon</td>\n",
       "      <td>7388.178085</td>\n",
       "      <td>0</td>\n",
       "      <td>Extended</td>\n",
       "      <td>College</td>\n",
       "      <td>2/17/11</td>\n",
       "      <td>Employed</td>\n",
       "      <td>F</td>\n",
       "      <td>28812</td>\n",
       "      <td>Urban</td>\n",
       "      <td>Married</td>\n",
       "      <td>93</td>\n",
       "      <td>17</td>\n",
       "      <td>7</td>\n",
       "      <td>0</td>\n",
       "      <td>8</td>\n",
       "      <td>Special Auto</td>\n",
       "      <td>Special L2</td>\n",
       "      <td>Offer2</td>\n",
       "      <td>Branch</td>\n",
       "      <td>425.527834</td>\n",
       "      <td>Four-Door Car</td>\n",
       "      <td>Medsize</td>\n",
       "    </tr>\n",
       "  </tbody>\n",
       "</table>\n",
       "</div>"
      ],
      "text/plain": [
       "  Customer       State  ...  Vehicle_Class  Vehicle_Size\n",
       "0  BU79786  Washington  ...   Two-Door Car       Medsize\n",
       "1  QZ44356     Arizona  ...  Four-Door Car       Medsize\n",
       "2  AI49188      Nevada  ...   Two-Door Car       Medsize\n",
       "3  WW63253  California  ...            SUV       Medsize\n",
       "4  HB64268  Washington  ...  Four-Door Car       Medsize\n",
       "5  OC83172      Oregon  ...   Two-Door Car       Medsize\n",
       "6  XZ87318      Oregon  ...  Four-Door Car       Medsize\n",
       "7  CF85061     Arizona  ...  Four-Door Car       Medsize\n",
       "8  DY87989      Oregon  ...  Four-Door Car       Medsize\n",
       "9  BQ94931      Oregon  ...  Four-Door Car       Medsize\n",
       "\n",
       "[10 rows x 24 columns]"
      ]
     },
     "execution_count": 45,
     "metadata": {
      "tags": []
     },
     "output_type": "execute_result"
    }
   ],
   "source": [
    "df.head(10)"
   ]
  },
  {
   "cell_type": "markdown",
   "metadata": {
    "colab_type": "text",
    "id": "7ek7IY1M3wvG"
   },
   "source": [
    "There is no NULL values"
   ]
  },
  {
   "cell_type": "code",
   "execution_count": 46,
   "metadata": {
    "colab": {
     "base_uri": "https://localhost:8080/",
     "height": 442
    },
    "colab_type": "code",
    "executionInfo": {
     "elapsed": 1929,
     "status": "ok",
     "timestamp": 1585314352355,
     "user": {
      "displayName": "jerome seillier",
      "photoUrl": "https://lh3.googleusercontent.com/a-/AOh14GihpJBQ6Tq4tRKpTCRGJkMirKNNmLg06aountruhg=s64",
      "userId": "00095233701872556527"
     },
     "user_tz": -60
    },
    "id": "fKVltu8ssgjR",
    "outputId": "a13458e8-b295-4e8f-c2a4-56d571bdc47f"
   },
   "outputs": [
    {
     "data": {
      "text/plain": [
       "Customer                         0\n",
       "State                            0\n",
       "Customer_Lifetime_Value          0\n",
       "Response                         0\n",
       "Coverage                         0\n",
       "Education                        0\n",
       "Effective_To_Date                0\n",
       "EmploymentStatus                 0\n",
       "Gender                           0\n",
       "Income                           0\n",
       "Location_Code                    0\n",
       "Marital_Status                   0\n",
       "Monthly_Premium_Auto             0\n",
       "Months_Since_Last_Claim          0\n",
       "Months_Since_Policy_Inception    0\n",
       "Number_of_Open_Complaints        0\n",
       "Number_of_Policies               0\n",
       "Policy_Type                      0\n",
       "Policy                           0\n",
       "Renew_Offer_Type                 0\n",
       "Sales_Channel                    0\n",
       "Total_Claim_Amount               0\n",
       "Vehicle_Class                    0\n",
       "Vehicle_Size                     0\n",
       "dtype: int64"
      ]
     },
     "execution_count": 46,
     "metadata": {
      "tags": []
     },
     "output_type": "execute_result"
    }
   ],
   "source": [
    "df.isnull().sum()"
   ]
  },
  {
   "cell_type": "markdown",
   "metadata": {
    "colab_type": "text",
    "id": "hQIeaVa66uHg"
   },
   "source": [
    "## Conversion Rate & Marketing Analysis"
   ]
  },
  {
   "cell_type": "markdown",
   "metadata": {
    "colab_type": "text",
    "id": "qOLy83IHfw1B"
   },
   "source": [
    "### Conversion Rate"
   ]
  },
  {
   "cell_type": "code",
   "execution_count": 47,
   "metadata": {
    "colab": {
     "base_uri": "https://localhost:8080/",
     "height": 34
    },
    "colab_type": "code",
    "executionInfo": {
     "elapsed": 1919,
     "status": "ok",
     "timestamp": 1585314352355,
     "user": {
      "displayName": "jerome seillier",
      "photoUrl": "https://lh3.googleusercontent.com/a-/AOh14GihpJBQ6Tq4tRKpTCRGJkMirKNNmLg06aountruhg=s64",
      "userId": "00095233701872556527"
     },
     "user_tz": -60
    },
    "id": "rvmEB5baxbjA",
    "outputId": "ec7887ae-094d-4654-b4ff-ded88c353465"
   },
   "outputs": [
    {
     "name": "stdout",
     "output_type": "stream",
     "text": [
      "Conversion Rate is 14.32%\n"
     ]
    }
   ],
   "source": [
    "converters = df[df.Response == 1]\\\n",
    "['Customer'].nunique()\n",
    "total = df['Customer'].nunique()\n",
    "conv_rate = converters/total\n",
    "print(\"Conversion Rate is {}%\".format(round(conv_rate*100, 2),'%'))"
   ]
  },
  {
   "cell_type": "code",
   "execution_count": 48,
   "metadata": {
    "colab": {
     "base_uri": "https://localhost:8080/",
     "height": 289
    },
    "colab_type": "code",
    "executionInfo": {
     "elapsed": 1910,
     "status": "ok",
     "timestamp": 1585314352356,
     "user": {
      "displayName": "jerome seillier",
      "photoUrl": "https://lh3.googleusercontent.com/a-/AOh14GihpJBQ6Tq4tRKpTCRGJkMirKNNmLg06aountruhg=s64",
      "userId": "00095233701872556527"
     },
     "user_tz": -60
    },
    "id": "n5z-kj1Ug862",
    "outputId": "77800560-1dd7-445f-8066-618a4351d52e"
   },
   "outputs": [
    {
     "data": {
      "image/png": "[encoded data removed]",
      "text/plain": [
       "<Figure size 432x288 with 1 Axes>"
      ]
     },
     "metadata": {
      "tags": []
     },
     "output_type": "display_data"
    }
   ],
   "source": [
    "ax = sns.countplot('Response',data = df)\n",
    "plt.ylabel('Total number of Response')\n",
    "annot_plot(ax, 0.08,1)\n",
    "plt.show()"
   ]
  },
  {
   "cell_type": "markdown",
   "metadata": {
    "colab_type": "text",
    "id": "BG3a9Mtwf3Gx"
   },
   "source": [
    "### Marketing Analysis"
   ]
  },
  {
   "cell_type": "markdown",
   "metadata": {
    "colab_type": "text",
    "id": "nPVpdJNmHkSh"
   },
   "source": [
    "#### conversion by offer type"
   ]
  },
  {
   "cell_type": "code",
   "execution_count": 49,
   "metadata": {
    "colab": {
     "base_uri": "https://localhost:8080/",
     "height": 102
    },
    "colab_type": "code",
    "executionInfo": {
     "elapsed": 2314,
     "status": "ok",
     "timestamp": 1585314352773,
     "user": {
      "displayName": "jerome seillier",
      "photoUrl": "https://lh3.googleusercontent.com/a-/AOh14GihpJBQ6Tq4tRKpTCRGJkMirKNNmLg06aountruhg=s64",
      "userId": "00095233701872556527"
     },
     "user_tz": -60
    },
    "id": "9yKhIFQwf6Sv",
    "outputId": "99ec20a7-6591-405c-9451-69ceebdce932"
   },
   "outputs": [
    {
     "data": {
      "text/plain": [
       "Offer1    3752\n",
       "Offer2    2926\n",
       "Offer3    1432\n",
       "Offer4    1024\n",
       "Name: Renew_Offer_Type, dtype: int64"
      ]
     },
     "execution_count": 49,
     "metadata": {
      "tags": []
     },
     "output_type": "execute_result"
    }
   ],
   "source": [
    "df.Renew_Offer_Type.value_counts()\n"
   ]
  },
  {
   "cell_type": "code",
   "execution_count": 0,
   "metadata": {
    "colab": {},
    "colab_type": "code",
    "id": "1Ti4zTOlgno0"
   },
   "outputs": [],
   "source": [
    "by_offer_type = df.loc[df.Response == 1].groupby(['Renew_Offer_Type'])['Customer'].count()/df.groupby('Renew_Offer_Type')[\"Customer\"].count()"
   ]
  },
  {
   "cell_type": "code",
   "execution_count": 51,
   "metadata": {
    "colab": {
     "base_uri": "https://localhost:8080/",
     "height": 119
    },
    "colab_type": "code",
    "executionInfo": {
     "elapsed": 2302,
     "status": "ok",
     "timestamp": 1585314352775,
     "user": {
      "displayName": "jerome seillier",
      "photoUrl": "https://lh3.googleusercontent.com/a-/AOh14GihpJBQ6Tq4tRKpTCRGJkMirKNNmLg06aountruhg=s64",
      "userId": "00095233701872556527"
     },
     "user_tz": -60
    },
    "id": "Gouxxc8YDCW8",
    "outputId": "646cbe88-eb70-4bae-f4bd-ce4419d3369d"
   },
   "outputs": [
    {
     "data": {
      "text/plain": [
       "Renew_Offer_Type\n",
       "Offer1    0.158316\n",
       "Offer2    0.233766\n",
       "Offer3    0.020950\n",
       "Offer4         NaN\n",
       "Name: Customer, dtype: float64"
      ]
     },
     "execution_count": 51,
     "metadata": {
      "tags": []
     },
     "output_type": "execute_result"
    }
   ],
   "source": [
    "by_offer_type.head()"
   ]
  },
  {
   "cell_type": "code",
   "execution_count": 52,
   "metadata": {
    "colab": {
     "base_uri": "https://localhost:8080/",
     "height": 473
    },
    "colab_type": "code",
    "executionInfo": {
     "elapsed": 2293,
     "status": "ok",
     "timestamp": 1585314352776,
     "user": {
      "displayName": "jerome seillier",
      "photoUrl": "https://lh3.googleusercontent.com/a-/AOh14GihpJBQ6Tq4tRKpTCRGJkMirKNNmLg06aountruhg=s64",
      "userId": "00095233701872556527"
     },
     "user_tz": -60
    },
    "id": "9y9IxnF7hPmY",
    "outputId": "a534bcab-5c5e-4750-9396-f9daf401b90c"
   },
   "outputs": [
    {
     "data": {
      "image/png": "[encoded data removed]",
      "text/plain": [
       "<Figure size 504x504 with 1 Axes>"
      ]
     },
     "metadata": {
      "tags": []
     },
     "output_type": "display_data"
    }
   ],
   "source": [
    "ax_byof = by_offer_type.plot(kind=\"bar\",grid=True,figsize=(7,7))\n",
    "ax_byof.set_xlabel(\"Offer Type\")\n",
    "ax_byof.set_ylabel(\"Conversion Rate\")\n",
    "plt.show()"
   ]
  },
  {
   "cell_type": "markdown",
   "metadata": {
    "colab_type": "text",
    "id": "wz3krgQhJijf"
   },
   "source": [
    "Best performance is offer 2\n",
    "Worst is offer 4 that hasn't generated any conversion"
   ]
  },
  {
   "cell_type": "markdown",
   "metadata": {
    "colab_type": "text",
    "id": "oToYspMNHLph"
   },
   "source": [
    "#### conversion by channel"
   ]
  },
  {
   "cell_type": "code",
   "execution_count": 0,
   "metadata": {
    "colab": {},
    "colab_type": "code",
    "id": "wKAv2eaqH7iZ"
   },
   "outputs": [],
   "source": [
    "by_sale_ch = df.loc[df.Response == 1].groupby(\"Sales_Channel\")[\"Customer\"].count()"
   ]
  },
  {
   "cell_type": "code",
   "execution_count": 54,
   "metadata": {
    "colab": {
     "base_uri": "https://localhost:8080/",
     "height": 119
    },
    "colab_type": "code",
    "executionInfo": {
     "elapsed": 2276,
     "status": "ok",
     "timestamp": 1585314352777,
     "user": {
      "displayName": "jerome seillier",
      "photoUrl": "https://lh3.googleusercontent.com/a-/AOh14GihpJBQ6Tq4tRKpTCRGJkMirKNNmLg06aountruhg=s64",
      "userId": "00095233701872556527"
     },
     "user_tz": -60
    },
    "id": "Yc4vObxGINp2",
    "outputId": "36c7d3ab-bfe1-4cf1-b551-f9522f2b21ed"
   },
   "outputs": [
    {
     "data": {
      "text/plain": [
       "Sales_Channel\n",
       "Agent          666\n",
       "Branch         294\n",
       "Call Center    192\n",
       "Web            156\n",
       "Name: Customer, dtype: int64"
      ]
     },
     "execution_count": 54,
     "metadata": {
      "tags": []
     },
     "output_type": "execute_result"
    }
   ],
   "source": [
    "by_sale_ch"
   ]
  },
  {
   "cell_type": "code",
   "execution_count": 55,
   "metadata": {
    "colab": {
     "base_uri": "https://localhost:8080/",
     "height": 555
    },
    "colab_type": "code",
    "executionInfo": {
     "elapsed": 2621,
     "status": "ok",
     "timestamp": 1585314353132,
     "user": {
      "displayName": "jerome seillier",
      "photoUrl": "https://lh3.googleusercontent.com/a-/AOh14GihpJBQ6Tq4tRKpTCRGJkMirKNNmLg06aountruhg=s64",
      "userId": "00095233701872556527"
     },
     "user_tz": -60
    },
    "id": "317LYXaBHJ8B",
    "outputId": "63d44f2e-e0ef-46d7-d2e0-41908aa5f730"
   },
   "outputs": [
    {
     "data": {
      "image/png": "[encoded data removed]",
      "text/plain": [
       "<Figure size 576x576 with 1 Axes>"
      ]
     },
     "metadata": {
      "tags": []
     },
     "output_type": "display_data"
    }
   ],
   "source": [
    "by_sale_ch_plot = by_sale_ch / df.groupby(\"Sales_Channel\")[\"Customer\"].count()\n",
    "ax1 = by_sale_ch_plot.plot(kind=\"bar\",grid=True,figsize=(8,8))\n",
    "ax.set_xlabel(\"Sales Channel\")\n",
    "ax.set_ylabel(\"Conversion Rate\")\n",
    "plt.show()"
   ]
  },
  {
   "cell_type": "markdown",
   "metadata": {
    "colab_type": "text",
    "id": "Fvi23eAgMnL7"
   },
   "source": [
    "#### conversion by vehicule class"
   ]
  },
  {
   "cell_type": "code",
   "execution_count": 56,
   "metadata": {
    "colab": {
     "base_uri": "https://localhost:8080/",
     "height": 136
    },
    "colab_type": "code",
    "executionInfo": {
     "elapsed": 2609,
     "status": "ok",
     "timestamp": 1585314353132,
     "user": {
      "displayName": "jerome seillier",
      "photoUrl": "https://lh3.googleusercontent.com/a-/AOh14GihpJBQ6Tq4tRKpTCRGJkMirKNNmLg06aountruhg=s64",
      "userId": "00095233701872556527"
     },
     "user_tz": -60
    },
    "id": "xRfelFi_M7oo",
    "outputId": "076fd51c-92d6-4a43-9f28-a0925f9a5bd0"
   },
   "outputs": [
    {
     "data": {
      "text/plain": [
       "Four-Door Car    4621\n",
       "Two-Door Car     1886\n",
       "SUV              1796\n",
       "Sports Car        484\n",
       "Luxury SUV        184\n",
       "Luxury Car        163\n",
       "Name: Vehicle_Class, dtype: int64"
      ]
     },
     "execution_count": 56,
     "metadata": {
      "tags": []
     },
     "output_type": "execute_result"
    }
   ],
   "source": [
    "Vehicle_Class = df.Vehicle_Class.value_counts()\n",
    "Vehicle_Class"
   ]
  },
  {
   "cell_type": "code",
   "execution_count": 57,
   "metadata": {
    "colab": {
     "base_uri": "https://localhost:8080/",
     "height": 119
    },
    "colab_type": "code",
    "executionInfo": {
     "elapsed": 2601,
     "status": "ok",
     "timestamp": 1585314353133,
     "user": {
      "displayName": "jerome seillier",
      "photoUrl": "https://lh3.googleusercontent.com/a-/AOh14GihpJBQ6Tq4tRKpTCRGJkMirKNNmLg06aountruhg=s64",
      "userId": "00095233701872556527"
     },
     "user_tz": -60
    },
    "id": "pWCnYUpTVXID",
    "outputId": "7ed8bea1-8c09-41c0-9583-1d168c5acb80"
   },
   "outputs": [
    {
     "data": {
      "text/plain": [
       "Four-Door Car    4621\n",
       "Two-Door Car     1886\n",
       "SUV              1796\n",
       "Sports Car        484\n",
       "Luxury SUV        184\n",
       "Name: Vehicle_Class, dtype: int64"
      ]
     },
     "execution_count": 57,
     "metadata": {
      "tags": []
     },
     "output_type": "execute_result"
    }
   ],
   "source": [
    "Vehicle_Class.columns = ['type','volume']\n",
    "Vehicle_Class.head()"
   ]
  },
  {
   "cell_type": "code",
   "execution_count": 58,
   "metadata": {
    "colab": {
     "base_uri": "https://localhost:8080/",
     "height": 136
    },
    "colab_type": "code",
    "executionInfo": {
     "elapsed": 2592,
     "status": "ok",
     "timestamp": 1585314353134,
     "user": {
      "displayName": "jerome seillier",
      "photoUrl": "https://lh3.googleusercontent.com/a-/AOh14GihpJBQ6Tq4tRKpTCRGJkMirKNNmLg06aountruhg=s64",
      "userId": "00095233701872556527"
     },
     "user_tz": -60
    },
    "id": "I4vXYyQRTkIM",
    "outputId": "924ae9fc-a4d2-49f9-eea9-4225b42d5594"
   },
   "outputs": [
    {
     "data": {
      "text/plain": [
       "Luxury Car        163\n",
       "Luxury SUV        184\n",
       "Sports Car        484\n",
       "SUV              1796\n",
       "Two-Door Car     1886\n",
       "Four-Door Car    4621\n",
       "Name: Vehicle_Class, dtype: int64"
      ]
     },
     "execution_count": 58,
     "metadata": {
      "tags": []
     },
     "output_type": "execute_result"
    }
   ],
   "source": [
    "Vehicle_Class.sort_values(axis=0)"
   ]
  },
  {
   "cell_type": "code",
   "execution_count": 59,
   "metadata": {
    "colab": {
     "base_uri": "https://localhost:8080/",
     "height": 552
    },
    "colab_type": "code",
    "executionInfo": {
     "elapsed": 2583,
     "status": "ok",
     "timestamp": 1585314353134,
     "user": {
      "displayName": "jerome seillier",
      "photoUrl": "https://lh3.googleusercontent.com/a-/AOh14GihpJBQ6Tq4tRKpTCRGJkMirKNNmLg06aountruhg=s64",
      "userId": "00095233701872556527"
     },
     "user_tz": -60
    },
    "id": "2WH-SPAmSBVd",
    "outputId": "119d2104-71af-4340-b885-edc1cef2d35b"
   },
   "outputs": [
    {
     "data": {
      "image/png": "[encoded data removed]",
      "text/plain": [
       "<Figure size 576x576 with 1 Axes>"
      ]
     },
     "metadata": {
      "tags": []
     },
     "output_type": "display_data"
    }
   ],
   "source": [
    "ax = Vehicle_Class.plot(kind=\"bar\",grid=True,figsize=(8,8))\n",
    "plt.show()"
   ]
  },
  {
   "cell_type": "code",
   "execution_count": 60,
   "metadata": {
    "colab": {
     "base_uri": "https://localhost:8080/",
     "height": 277
    },
    "colab_type": "code",
    "executionInfo": {
     "elapsed": 3017,
     "status": "ok",
     "timestamp": 1585314353580,
     "user": {
      "displayName": "jerome seillier",
      "photoUrl": "https://lh3.googleusercontent.com/a-/AOh14GihpJBQ6Tq4tRKpTCRGJkMirKNNmLg06aountruhg=s64",
      "userId": "00095233701872556527"
     },
     "user_tz": -60
    },
    "id": "WkZKkdohN94X",
    "outputId": "4c8b2b08-316a-497d-dbca-0a69da7c44ed"
   },
   "outputs": [
    {
     "data": {
      "image/png": "[encoded data removed]",
      "text/plain": [
       "<Figure size 432x288 with 1 Axes>"
      ]
     },
     "metadata": {
      "tags": []
     },
     "output_type": "display_data"
    }
   ],
   "source": [
    "fig, ax = plt.subplots()\n",
    "ax.pie(Vehicle_Class, autopct='%1.1f%%',\n",
    "        shadow=True, startangle=90)\n",
    "ax.axis('equal')\n",
    "fig.legend(Vehicle_Class.index)\n",
    "plt.title('r')\n",
    "plt.show()"
   ]
  },
  {
   "cell_type": "code",
   "execution_count": 0,
   "metadata": {
    "colab": {},
    "colab_type": "code",
    "id": "5FS-tpESL6cX"
   },
   "outputs": [],
   "source": [
    "by_offer_vh_class = df.loc[df.Response == 1].groupby([\"Renew_Offer_Type\",\"Vehicle_Class\"])[\"Customer\"].count()"
   ]
  },
  {
   "cell_type": "code",
   "execution_count": 62,
   "metadata": {
    "colab": {
     "base_uri": "https://localhost:8080/",
     "height": 289
    },
    "colab_type": "code",
    "executionInfo": {
     "elapsed": 3002,
     "status": "ok",
     "timestamp": 1585314353581,
     "user": {
      "displayName": "jerome seillier",
      "photoUrl": "https://lh3.googleusercontent.com/a-/AOh14GihpJBQ6Tq4tRKpTCRGJkMirKNNmLg06aountruhg=s64",
      "userId": "00095233701872556527"
     },
     "user_tz": -60
    },
    "id": "yGDL-EUhxtXj",
    "outputId": "0385cede-7b75-4599-a5da-0262b4d2df4b"
   },
   "outputs": [
    {
     "data": {
      "text/plain": [
       "Renew_Offer_Type  Vehicle_Class\n",
       "Offer1            Four-Door Car    264\n",
       "                  Luxury Car         6\n",
       "                  Luxury SUV        18\n",
       "                  SUV              168\n",
       "                  Sports Car        42\n",
       "                  Two-Door Car      96\n",
       "Offer2            Four-Door Car    336\n",
       "                  Luxury Car         6\n",
       "                  Luxury SUV        12\n",
       "                  SUV              120\n",
       "                  Sports Car        48\n",
       "                  Two-Door Car     162\n",
       "Offer3            Four-Door Car     24\n",
       "                  Two-Door Car       6\n",
       "Name: Customer, dtype: int64"
      ]
     },
     "execution_count": 62,
     "metadata": {
      "tags": []
     },
     "output_type": "execute_result"
    }
   ],
   "source": [
    "by_offer_vh_class"
   ]
  },
  {
   "cell_type": "code",
   "execution_count": 0,
   "metadata": {
    "colab": {},
    "colab_type": "code",
    "id": "FJOazSK0L_a-"
   },
   "outputs": [],
   "source": [
    "by_of_vh_plot = (by_offer_vh_class/df.groupby(\"Renew_Offer_Type\")[\"Customer\"].count()).unstack().fillna(0)"
   ]
  },
  {
   "cell_type": "code",
   "execution_count": 64,
   "metadata": {
    "colab": {
     "base_uri": "https://localhost:8080/",
     "height": 173
    },
    "colab_type": "code",
    "executionInfo": {
     "elapsed": 2991,
     "status": "ok",
     "timestamp": 1585314353583,
     "user": {
      "displayName": "jerome seillier",
      "photoUrl": "https://lh3.googleusercontent.com/a-/AOh14GihpJBQ6Tq4tRKpTCRGJkMirKNNmLg06aountruhg=s64",
      "userId": "00095233701872556527"
     },
     "user_tz": -60
    },
    "id": "Fh753gEDx0DB",
    "outputId": "80edc1c1-e550-404d-be5e-4ebd749dcc59"
   },
   "outputs": [
    {
     "data": {
      "text/html": [
       "<div>\n",
       "<style scoped>\n",
       "    .dataframe tbody tr th:only-of-type {\n",
       "        vertical-align: middle;\n",
       "    }\n",
       "\n",
       "    .dataframe tbody tr th {\n",
       "        vertical-align: top;\n",
       "    }\n",
       "\n",
       "    .dataframe thead th {\n",
       "        text-align: right;\n",
       "    }\n",
       "</style>\n",
       "<table border=\"1\" class=\"dataframe\">\n",
       "  <thead>\n",
       "    <tr style=\"text-align: right;\">\n",
       "      <th>Vehicle_Class</th>\n",
       "      <th>Four-Door Car</th>\n",
       "      <th>Luxury Car</th>\n",
       "      <th>Luxury SUV</th>\n",
       "      <th>SUV</th>\n",
       "      <th>Sports Car</th>\n",
       "      <th>Two-Door Car</th>\n",
       "    </tr>\n",
       "    <tr>\n",
       "      <th>Renew_Offer_Type</th>\n",
       "      <th></th>\n",
       "      <th></th>\n",
       "      <th></th>\n",
       "      <th></th>\n",
       "      <th></th>\n",
       "      <th></th>\n",
       "    </tr>\n",
       "  </thead>\n",
       "  <tbody>\n",
       "    <tr>\n",
       "      <th>Offer1</th>\n",
       "      <td>0.070362</td>\n",
       "      <td>0.001599</td>\n",
       "      <td>0.004797</td>\n",
       "      <td>0.044776</td>\n",
       "      <td>0.011194</td>\n",
       "      <td>0.025586</td>\n",
       "    </tr>\n",
       "    <tr>\n",
       "      <th>Offer2</th>\n",
       "      <td>0.114833</td>\n",
       "      <td>0.002051</td>\n",
       "      <td>0.004101</td>\n",
       "      <td>0.041012</td>\n",
       "      <td>0.016405</td>\n",
       "      <td>0.055366</td>\n",
       "    </tr>\n",
       "    <tr>\n",
       "      <th>Offer3</th>\n",
       "      <td>0.016760</td>\n",
       "      <td>0.000000</td>\n",
       "      <td>0.000000</td>\n",
       "      <td>0.000000</td>\n",
       "      <td>0.000000</td>\n",
       "      <td>0.004190</td>\n",
       "    </tr>\n",
       "  </tbody>\n",
       "</table>\n",
       "</div>"
      ],
      "text/plain": [
       "Vehicle_Class     Four-Door Car  Luxury Car  ...  Sports Car  Two-Door Car\n",
       "Renew_Offer_Type                             ...                          \n",
       "Offer1                 0.070362    0.001599  ...    0.011194      0.025586\n",
       "Offer2                 0.114833    0.002051  ...    0.016405      0.055366\n",
       "Offer3                 0.016760    0.000000  ...    0.000000      0.004190\n",
       "\n",
       "[3 rows x 6 columns]"
      ]
     },
     "execution_count": 64,
     "metadata": {
      "tags": []
     },
     "output_type": "execute_result"
    }
   ],
   "source": [
    "by_of_vh_plot"
   ]
  },
  {
   "cell_type": "code",
   "execution_count": 65,
   "metadata": {
    "colab": {
     "base_uri": "https://localhost:8080/",
     "height": 529
    },
    "colab_type": "code",
    "executionInfo": {
     "elapsed": 3501,
     "status": "ok",
     "timestamp": 1585314354103,
     "user": {
      "displayName": "jerome seillier",
      "photoUrl": "https://lh3.googleusercontent.com/a-/AOh14GihpJBQ6Tq4tRKpTCRGJkMirKNNmLg06aountruhg=s64",
      "userId": "00095233701872556527"
     },
     "user_tz": -60
    },
    "id": "oL7wCauRLyOm",
    "outputId": "84c2d862-22c6-42fa-ec06-39f7b3d5a2b0"
   },
   "outputs": [
    {
     "data": {
      "image/png": "[encoded data removed]",
      "text/plain": [
       "<Figure size 576x576 with 1 Axes>"
      ]
     },
     "metadata": {
      "tags": []
     },
     "output_type": "display_data"
    }
   ],
   "source": [
    "ax = by_of_vh_plot.plot(kind=\"bar\",grid=True,figsize=(8,8))\n",
    "ax.set_xlabel(\"Offer Type\")\n",
    "ax.set_ylabel(\"Conversion Rate\")\n",
    "plt.show()"
   ]
  },
  {
   "cell_type": "markdown",
   "metadata": {
    "colab_type": "text",
    "id": "c8-dc4Al6cuC"
   },
   "source": [
    "## Suspicious values"
   ]
  },
  {
   "cell_type": "markdown",
   "metadata": {
    "colab_type": "text",
    "id": "Q-pRz6eo4jz3"
   },
   "source": [
    "There is some suspisious values\n",
    "*   Income = 0\n",
    "*   maybe some outliers to avoid in 'Total Claim Amount'\n"
   ]
  },
  {
   "cell_type": "code",
   "execution_count": 66,
   "metadata": {
    "colab": {
     "base_uri": "https://localhost:8080/",
     "height": 317
    },
    "colab_type": "code",
    "executionInfo": {
     "elapsed": 3490,
     "status": "ok",
     "timestamp": 1585314354104,
     "user": {
      "displayName": "jerome seillier",
      "photoUrl": "https://lh3.googleusercontent.com/a-/AOh14GihpJBQ6Tq4tRKpTCRGJkMirKNNmLg06aountruhg=s64",
      "userId": "00095233701872556527"
     },
     "user_tz": -60
    },
    "id": "KRYRnG0zskJD",
    "outputId": "5747cf91-baf1-43c3-96c8-6c66c2ef90f1"
   },
   "outputs": [
    {
     "data": {
      "text/html": [
       "<div>\n",
       "<style scoped>\n",
       "    .dataframe tbody tr th:only-of-type {\n",
       "        vertical-align: middle;\n",
       "    }\n",
       "\n",
       "    .dataframe tbody tr th {\n",
       "        vertical-align: top;\n",
       "    }\n",
       "\n",
       "    .dataframe thead th {\n",
       "        text-align: right;\n",
       "    }\n",
       "</style>\n",
       "<table border=\"1\" class=\"dataframe\">\n",
       "  <thead>\n",
       "    <tr style=\"text-align: right;\">\n",
       "      <th></th>\n",
       "      <th>Customer_Lifetime_Value</th>\n",
       "      <th>Response</th>\n",
       "      <th>Income</th>\n",
       "      <th>Monthly_Premium_Auto</th>\n",
       "      <th>Months_Since_Last_Claim</th>\n",
       "      <th>Months_Since_Policy_Inception</th>\n",
       "      <th>Number_of_Open_Complaints</th>\n",
       "      <th>Number_of_Policies</th>\n",
       "      <th>Total_Claim_Amount</th>\n",
       "    </tr>\n",
       "  </thead>\n",
       "  <tbody>\n",
       "    <tr>\n",
       "      <th>count</th>\n",
       "      <td>9134.000000</td>\n",
       "      <td>9134.000000</td>\n",
       "      <td>9134.000000</td>\n",
       "      <td>9134.000000</td>\n",
       "      <td>9134.000000</td>\n",
       "      <td>9134.000000</td>\n",
       "      <td>9134.000000</td>\n",
       "      <td>9134.000000</td>\n",
       "      <td>9134.000000</td>\n",
       "    </tr>\n",
       "    <tr>\n",
       "      <th>mean</th>\n",
       "      <td>8004.940475</td>\n",
       "      <td>0.143201</td>\n",
       "      <td>37657.380009</td>\n",
       "      <td>93.219291</td>\n",
       "      <td>15.097000</td>\n",
       "      <td>48.064594</td>\n",
       "      <td>0.384388</td>\n",
       "      <td>2.966170</td>\n",
       "      <td>434.088794</td>\n",
       "    </tr>\n",
       "    <tr>\n",
       "      <th>std</th>\n",
       "      <td>6870.967608</td>\n",
       "      <td>0.350297</td>\n",
       "      <td>30379.904734</td>\n",
       "      <td>34.407967</td>\n",
       "      <td>10.073257</td>\n",
       "      <td>27.905991</td>\n",
       "      <td>0.910384</td>\n",
       "      <td>2.390182</td>\n",
       "      <td>290.500092</td>\n",
       "    </tr>\n",
       "    <tr>\n",
       "      <th>min</th>\n",
       "      <td>1898.007675</td>\n",
       "      <td>0.000000</td>\n",
       "      <td>0.000000</td>\n",
       "      <td>61.000000</td>\n",
       "      <td>0.000000</td>\n",
       "      <td>0.000000</td>\n",
       "      <td>0.000000</td>\n",
       "      <td>1.000000</td>\n",
       "      <td>0.099007</td>\n",
       "    </tr>\n",
       "    <tr>\n",
       "      <th>25%</th>\n",
       "      <td>3994.251794</td>\n",
       "      <td>0.000000</td>\n",
       "      <td>0.000000</td>\n",
       "      <td>68.000000</td>\n",
       "      <td>6.000000</td>\n",
       "      <td>24.000000</td>\n",
       "      <td>0.000000</td>\n",
       "      <td>1.000000</td>\n",
       "      <td>272.258244</td>\n",
       "    </tr>\n",
       "    <tr>\n",
       "      <th>50%</th>\n",
       "      <td>5780.182197</td>\n",
       "      <td>0.000000</td>\n",
       "      <td>33889.500000</td>\n",
       "      <td>83.000000</td>\n",
       "      <td>14.000000</td>\n",
       "      <td>48.000000</td>\n",
       "      <td>0.000000</td>\n",
       "      <td>2.000000</td>\n",
       "      <td>383.945434</td>\n",
       "    </tr>\n",
       "    <tr>\n",
       "      <th>75%</th>\n",
       "      <td>8962.167041</td>\n",
       "      <td>0.000000</td>\n",
       "      <td>62320.000000</td>\n",
       "      <td>109.000000</td>\n",
       "      <td>23.000000</td>\n",
       "      <td>71.000000</td>\n",
       "      <td>0.000000</td>\n",
       "      <td>4.000000</td>\n",
       "      <td>547.514839</td>\n",
       "    </tr>\n",
       "    <tr>\n",
       "      <th>max</th>\n",
       "      <td>83325.381190</td>\n",
       "      <td>1.000000</td>\n",
       "      <td>99981.000000</td>\n",
       "      <td>298.000000</td>\n",
       "      <td>35.000000</td>\n",
       "      <td>99.000000</td>\n",
       "      <td>5.000000</td>\n",
       "      <td>9.000000</td>\n",
       "      <td>2893.239678</td>\n",
       "    </tr>\n",
       "  </tbody>\n",
       "</table>\n",
       "</div>"
      ],
      "text/plain": [
       "       Customer_Lifetime_Value  ...  Total_Claim_Amount\n",
       "count              9134.000000  ...         9134.000000\n",
       "mean               8004.940475  ...          434.088794\n",
       "std                6870.967608  ...          290.500092\n",
       "min                1898.007675  ...            0.099007\n",
       "25%                3994.251794  ...          272.258244\n",
       "50%                5780.182197  ...          383.945434\n",
       "75%                8962.167041  ...          547.514839\n",
       "max               83325.381190  ...         2893.239678\n",
       "\n",
       "[8 rows x 9 columns]"
      ]
     },
     "execution_count": 66,
     "metadata": {
      "tags": []
     },
     "output_type": "execute_result"
    }
   ],
   "source": [
    "df.describe()\n"
   ]
  },
  {
   "cell_type": "markdown",
   "metadata": {
    "colab_type": "text",
    "id": "3qy5-5q97uqM"
   },
   "source": [
    "### 'Total Claim Amount' variable"
   ]
  },
  {
   "cell_type": "markdown",
   "metadata": {
    "colab_type": "text",
    "id": "0GjKXlTzQ24-"
   },
   "source": [
    "On this boxplot of 'Total Claim Amount' variable, dots above the upper boundary could be suspected as Outliers. They represent values above 1.5 Interquartile range (IQR). However i choose to keep them as it is, cause these values are certainly no mistake."
   ]
  },
  {
   "cell_type": "code",
   "execution_count": 67,
   "metadata": {
    "colab": {
     "base_uri": "https://localhost:8080/",
     "height": 394
    },
    "colab_type": "code",
    "executionInfo": {
     "elapsed": 3477,
     "status": "ok",
     "timestamp": 1585314354104,
     "user": {
      "displayName": "jerome seillier",
      "photoUrl": "https://lh3.googleusercontent.com/a-/AOh14GihpJBQ6Tq4tRKpTCRGJkMirKNNmLg06aountruhg=s64",
      "userId": "00095233701872556527"
     },
     "user_tz": -60
    },
    "id": "vs5H8bEDOSUq",
    "outputId": "30feea97-647a-4671-d4ce-c926268f573b"
   },
   "outputs": [
    {
     "data": {
      "image/png": "[encoded data removed]",
      "text/plain": [
       "<Figure size 864x432 with 1 Axes>"
      ]
     },
     "metadata": {
      "tags": []
     },
     "output_type": "display_data"
    }
   ],
   "source": [
    "plt.figure(figsize=(12,6))\n",
    "sns.boxplot(y = 'Total_Claim_Amount' , x = 'Response', data = df)\n",
    "plt.ylabel('Total Claim Amount')\n",
    "plt.show()"
   ]
  },
  {
   "cell_type": "markdown",
   "metadata": {
    "colab_type": "text",
    "id": "of5-NRSo-56j"
   },
   "source": [
    "Let's check that with a distplot for 'Total Claim Amount' distribution"
   ]
  },
  {
   "cell_type": "code",
   "execution_count": 68,
   "metadata": {
    "colab": {
     "base_uri": "https://localhost:8080/",
     "height": 302
    },
    "colab_type": "code",
    "executionInfo": {
     "elapsed": 3810,
     "status": "ok",
     "timestamp": 1585314354452,
     "user": {
      "displayName": "jerome seillier",
      "photoUrl": "https://lh3.googleusercontent.com/a-/AOh14GihpJBQ6Tq4tRKpTCRGJkMirKNNmLg06aountruhg=s64",
      "userId": "00095233701872556527"
     },
     "user_tz": -60
    },
    "id": "r78FrkBrfRB_",
    "outputId": "af828e43-5942-4999-e782-12c7931f5a2e"
   },
   "outputs": [
    {
     "data": {
      "text/plain": [
       "<matplotlib.axes._subplots.AxesSubplot at 0x7f819531ebe0>"
      ]
     },
     "execution_count": 68,
     "metadata": {
      "tags": []
     },
     "output_type": "execute_result"
    },
    {
     "data": {
      "image/png": "[encoded data removed]",
      "text/plain": [
       "<Figure size 432x288 with 1 Axes>"
      ]
     },
     "metadata": {
      "tags": []
     },
     "output_type": "display_data"
    }
   ],
   "source": [
    "sns.distplot(df['Total_Claim_Amount'])"
   ]
  },
  {
   "cell_type": "code",
   "execution_count": 0,
   "metadata": {
    "colab": {},
    "colab_type": "code",
    "id": "Gg0h5QcMbVNz"
   },
   "outputs": [],
   "source": [
    "#Replace 'Total Claim Amount' outliers by mean\n",
    "#df['Total Claim Amount']=df['Total Claim Amount'].apply(lambda x:df['Total Claim Amount'].median() if x>1500 else x)"
   ]
  },
  {
   "cell_type": "markdown",
   "metadata": {
    "colab_type": "text",
    "id": "9whdL5Dg-amz"
   },
   "source": [
    "### 'Income' variable"
   ]
  },
  {
   "cell_type": "markdown",
   "metadata": {
    "colab_type": "text",
    "id": "67oBF_v5R7cz"
   },
   "source": [
    "Box plot shows no outliers for 'Income', However the zero values are very suspiscious and represent for sure Nan rather than a accurate values"
   ]
  },
  {
   "cell_type": "code",
   "execution_count": 70,
   "metadata": {
    "colab": {
     "base_uri": "https://localhost:8080/",
     "height": 394
    },
    "colab_type": "code",
    "executionInfo": {
     "elapsed": 3793,
     "status": "ok",
     "timestamp": 1585314354453,
     "user": {
      "displayName": "jerome seillier",
      "photoUrl": "https://lh3.googleusercontent.com/a-/AOh14GihpJBQ6Tq4tRKpTCRGJkMirKNNmLg06aountruhg=s64",
      "userId": "00095233701872556527"
     },
     "user_tz": -60
    },
    "id": "W1dpWzMPOnjJ",
    "outputId": "b78fe53a-5232-4920-ddbb-9fb767c470cb"
   },
   "outputs": [
    {
     "data": {
      "image/png": "[encoded data removed]",
      "text/plain": [
       "<Figure size 864x432 with 1 Axes>"
      ]
     },
     "metadata": {
      "tags": []
     },
     "output_type": "display_data"
    }
   ],
   "source": [
    "plt.figure(figsize=(12,6))\n",
    "sns.boxplot(y = 'Income' , x = 'Response', data = df)\n",
    "plt.ylabel('Income')\n",
    "plt.show()"
   ]
  },
  {
   "cell_type": "markdown",
   "metadata": {
    "colab_type": "text",
    "id": "HOLLNWL_AlIv"
   },
   "source": [
    "These Zero values represent a significant proprotion in this dataset. we'll try to figure out how many."
   ]
  },
  {
   "cell_type": "code",
   "execution_count": 71,
   "metadata": {
    "colab": {
     "base_uri": "https://localhost:8080/",
     "height": 313
    },
    "colab_type": "code",
    "executionInfo": {
     "elapsed": 4189,
     "status": "ok",
     "timestamp": 1585314354861,
     "user": {
      "displayName": "jerome seillier",
      "photoUrl": "https://lh3.googleusercontent.com/a-/AOh14GihpJBQ6Tq4tRKpTCRGJkMirKNNmLg06aountruhg=s64",
      "userId": "00095233701872556527"
     },
     "user_tz": -60
    },
    "id": "r-jDpDnxebfe",
    "outputId": "34229d60-2cfe-49d7-9780-5868dfadc398"
   },
   "outputs": [
    {
     "data": {
      "text/plain": [
       "<matplotlib.axes._subplots.AxesSubplot at 0x7f8195164cc0>"
      ]
     },
     "execution_count": 71,
     "metadata": {
      "tags": []
     },
     "output_type": "execute_result"
    },
    {
     "data": {
      "image/png": "[encoded data removed]",
      "text/plain": [
       "<Figure size 432x288 with 1 Axes>"
      ]
     },
     "metadata": {
      "tags": []
     },
     "output_type": "display_data"
    }
   ],
   "source": [
    "sns.distplot(df['Income'])"
   ]
  },
  {
   "cell_type": "code",
   "execution_count": 0,
   "metadata": {
    "colab": {},
    "colab_type": "code",
    "id": "aqMyfi8xsNb9"
   },
   "outputs": [],
   "source": [
    "mask = df[df['Income'] == 0]"
   ]
  },
  {
   "cell_type": "code",
   "execution_count": 73,
   "metadata": {
    "colab": {
     "base_uri": "https://localhost:8080/",
     "height": 34
    },
    "colab_type": "code",
    "executionInfo": {
     "elapsed": 4171,
     "status": "ok",
     "timestamp": 1585314354863,
     "user": {
      "displayName": "jerome seillier",
      "photoUrl": "https://lh3.googleusercontent.com/a-/AOh14GihpJBQ6Tq4tRKpTCRGJkMirKNNmLg06aountruhg=s64",
      "userId": "00095233701872556527"
     },
     "user_tz": -60
    },
    "id": "aLzr0MjXXogK",
    "outputId": "c7555356-5697-49a9-ece1-8deb9c4b1cbe"
   },
   "outputs": [
    {
     "data": {
      "text/plain": [
       "(2317, 24)"
      ]
     },
     "execution_count": 73,
     "metadata": {
      "tags": []
     },
     "output_type": "execute_result"
    }
   ],
   "source": [
    "mask.shape"
   ]
  },
  {
   "cell_type": "code",
   "execution_count": 74,
   "metadata": {
    "colab": {
     "base_uri": "https://localhost:8080/",
     "height": 34
    },
    "colab_type": "code",
    "executionInfo": {
     "elapsed": 4161,
     "status": "ok",
     "timestamp": 1585314354863,
     "user": {
      "displayName": "jerome seillier",
      "photoUrl": "https://lh3.googleusercontent.com/a-/AOh14GihpJBQ6Tq4tRKpTCRGJkMirKNNmLg06aountruhg=s64",
      "userId": "00095233701872556527"
     },
     "user_tz": -60
    },
    "id": "hK64B42R15yc",
    "outputId": "c58c45fd-a67a-4f2b-ca2d-000e58547201"
   },
   "outputs": [
    {
     "data": {
      "text/plain": [
       "0.25366761550251804"
      ]
     },
     "execution_count": 74,
     "metadata": {
      "tags": []
     },
     "output_type": "execute_result"
    }
   ],
   "source": [
    "len(mask)/len(df)"
   ]
  },
  {
   "cell_type": "markdown",
   "metadata": {
    "colab_type": "text",
    "id": "47-S163y2IUL"
   },
   "source": [
    "25% of the dataset contains Income = 0. We need to replace this missing values by more accurate values.\n"
   ]
  },
  {
   "cell_type": "markdown",
   "metadata": {
    "colab_type": "text",
    "id": "j1t50R31cy4S"
   },
   "source": [
    "## Correlation"
   ]
  },
  {
   "cell_type": "code",
   "execution_count": 0,
   "metadata": {
    "colab": {},
    "colab_type": "code",
    "id": "DyRv5mDf2q3R"
   },
   "outputs": [],
   "source": [
    "# drop unrelevant variables\n",
    "df = df.drop(columns={\"Customer\",\"Policy\", \"Effective_To_Date\"})"
   ]
  },
  {
   "cell_type": "code",
   "execution_count": 0,
   "metadata": {
    "colab": {},
    "colab_type": "code",
    "id": "JwDYK3NOdI01"
   },
   "outputs": [],
   "source": [
    "# Define a list with all features which are categorial\n",
    "\n",
    "df_categ = df.select_dtypes(include=[\"object\"])\n",
    "categ = list(df_categ.columns)"
   ]
  },
  {
   "cell_type": "code",
   "execution_count": 0,
   "metadata": {
    "colab": {},
    "colab_type": "code",
    "id": "20RQDkEOWAqI"
   },
   "outputs": [],
   "source": [
    "# Define a list with all features which are numerical\n",
    "df_num = df.select_dtypes(exclude=[\"object\"])"
   ]
  },
  {
   "cell_type": "code",
   "execution_count": 0,
   "metadata": {
    "colab": {},
    "colab_type": "code",
    "id": "rykSqBPldPVV"
   },
   "outputs": [],
   "source": [
    "# Encode the categorial Data to numerical\n",
    "\n",
    "lb = LabelEncoder()\n",
    "\n",
    "for i in categ:\n",
    "    df[i] = lb.fit_transform(df[i])"
   ]
  },
  {
   "cell_type": "code",
   "execution_count": 79,
   "metadata": {
    "colab": {
     "base_uri": "https://localhost:8080/",
     "height": 775
    },
    "colab_type": "code",
    "executionInfo": {
     "elapsed": 6515,
     "status": "ok",
     "timestamp": 1585314357283,
     "user": {
      "displayName": "jerome seillier",
      "photoUrl": "https://lh3.googleusercontent.com/a-/AOh14GihpJBQ6Tq4tRKpTCRGJkMirKNNmLg06aountruhg=s64",
      "userId": "00095233701872556527"
     },
     "user_tz": -60
    },
    "id": "GJSgXd0GUtcg",
    "outputId": "cbc49933-211a-44f6-f32a-e1630ace178a"
   },
   "outputs": [
    {
     "data": {
      "text/plain": [
       "<matplotlib.axes._subplots.AxesSubplot at 0x7f81950866a0>"
      ]
     },
     "execution_count": 79,
     "metadata": {
      "tags": []
     },
     "output_type": "execute_result"
    },
    {
     "data": {
      "image/png": "[encoded data removed]",
      "text/plain": [
       "<Figure size 1080x720 with 2 Axes>"
      ]
     },
     "metadata": {
      "tags": []
     },
     "output_type": "display_data"
    }
   ],
   "source": [
    "plt.figure(figsize=(15,10))\n",
    "sns.heatmap(round(df.corr(),2), annot=True)"
   ]
  },
  {
   "cell_type": "markdown",
   "metadata": {
    "colab_type": "text",
    "id": "YmVu4MrLWOxs"
   },
   "source": [
    "3 highest correlations :\n",
    "\n",
    "* -0,73 between EmploymentStatus & Income\n",
    "\n",
    "* 0,63 between TotalClaimAmount & Monthly_Premium_Auto\n",
    "\n",
    "* 0,46 between Coverage & Monthly_Premium_Auto\n",
    "\n",
    "the first one is easily understandable since the income depend on the EmploymentStatus. We'll try to drop one of them"
   ]
  },
  {
   "cell_type": "markdown",
   "metadata": {
    "colab_type": "text",
    "id": "KwNeNHcbJc99"
   },
   "source": [
    "# Features cleaning ('Income' Variable)"
   ]
  },
  {
   "cell_type": "markdown",
   "metadata": {
    "colab_type": "text",
    "id": "6anjsiyHIfuL"
   },
   "source": [
    "## Drop missing values"
   ]
  },
  {
   "cell_type": "code",
   "execution_count": 80,
   "metadata": {
    "colab": {
     "base_uri": "https://localhost:8080/",
     "height": 224
    },
    "colab_type": "code",
    "executionInfo": {
     "elapsed": 6505,
     "status": "ok",
     "timestamp": 1585314357283,
     "user": {
      "displayName": "jerome seillier",
      "photoUrl": "https://lh3.googleusercontent.com/a-/AOh14GihpJBQ6Tq4tRKpTCRGJkMirKNNmLg06aountruhg=s64",
      "userId": "00095233701872556527"
     },
     "user_tz": -60
    },
    "id": "o-_PCPQVbnPd",
    "outputId": "bb435294-43ac-45fb-d235-4d2de3cfedfa"
   },
   "outputs": [
    {
     "data": {
      "text/html": [
       "<div>\n",
       "<style scoped>\n",
       "    .dataframe tbody tr th:only-of-type {\n",
       "        vertical-align: middle;\n",
       "    }\n",
       "\n",
       "    .dataframe tbody tr th {\n",
       "        vertical-align: top;\n",
       "    }\n",
       "\n",
       "    .dataframe thead th {\n",
       "        text-align: right;\n",
       "    }\n",
       "</style>\n",
       "<table border=\"1\" class=\"dataframe\">\n",
       "  <thead>\n",
       "    <tr style=\"text-align: right;\">\n",
       "      <th></th>\n",
       "      <th>State</th>\n",
       "      <th>Customer_Lifetime_Value</th>\n",
       "      <th>Response</th>\n",
       "      <th>Coverage</th>\n",
       "      <th>Education</th>\n",
       "      <th>EmploymentStatus</th>\n",
       "      <th>Gender</th>\n",
       "      <th>Income</th>\n",
       "      <th>Location_Code</th>\n",
       "      <th>Marital_Status</th>\n",
       "      <th>Monthly_Premium_Auto</th>\n",
       "      <th>Months_Since_Last_Claim</th>\n",
       "      <th>Months_Since_Policy_Inception</th>\n",
       "      <th>Number_of_Open_Complaints</th>\n",
       "      <th>Number_of_Policies</th>\n",
       "      <th>Policy_Type</th>\n",
       "      <th>Renew_Offer_Type</th>\n",
       "      <th>Sales_Channel</th>\n",
       "      <th>Total_Claim_Amount</th>\n",
       "      <th>Vehicle_Class</th>\n",
       "      <th>Vehicle_Size</th>\n",
       "      <th>Income_clean</th>\n",
       "    </tr>\n",
       "  </thead>\n",
       "  <tbody>\n",
       "    <tr>\n",
       "      <th>0</th>\n",
       "      <td>4</td>\n",
       "      <td>2763.519279</td>\n",
       "      <td>0</td>\n",
       "      <td>0</td>\n",
       "      <td>0</td>\n",
       "      <td>1</td>\n",
       "      <td>0</td>\n",
       "      <td>56274</td>\n",
       "      <td>1</td>\n",
       "      <td>1</td>\n",
       "      <td>69</td>\n",
       "      <td>32</td>\n",
       "      <td>5</td>\n",
       "      <td>0</td>\n",
       "      <td>1</td>\n",
       "      <td>0</td>\n",
       "      <td>0</td>\n",
       "      <td>0</td>\n",
       "      <td>384.811147</td>\n",
       "      <td>5</td>\n",
       "      <td>1</td>\n",
       "      <td>56274.0</td>\n",
       "    </tr>\n",
       "    <tr>\n",
       "      <th>1</th>\n",
       "      <td>0</td>\n",
       "      <td>6979.535903</td>\n",
       "      <td>0</td>\n",
       "      <td>1</td>\n",
       "      <td>0</td>\n",
       "      <td>4</td>\n",
       "      <td>0</td>\n",
       "      <td>0</td>\n",
       "      <td>1</td>\n",
       "      <td>2</td>\n",
       "      <td>94</td>\n",
       "      <td>13</td>\n",
       "      <td>42</td>\n",
       "      <td>0</td>\n",
       "      <td>8</td>\n",
       "      <td>1</td>\n",
       "      <td>2</td>\n",
       "      <td>0</td>\n",
       "      <td>1131.464935</td>\n",
       "      <td>0</td>\n",
       "      <td>1</td>\n",
       "      <td>NaN</td>\n",
       "    </tr>\n",
       "    <tr>\n",
       "      <th>2</th>\n",
       "      <td>2</td>\n",
       "      <td>12887.431650</td>\n",
       "      <td>0</td>\n",
       "      <td>2</td>\n",
       "      <td>0</td>\n",
       "      <td>1</td>\n",
       "      <td>0</td>\n",
       "      <td>48767</td>\n",
       "      <td>1</td>\n",
       "      <td>1</td>\n",
       "      <td>108</td>\n",
       "      <td>18</td>\n",
       "      <td>38</td>\n",
       "      <td>0</td>\n",
       "      <td>2</td>\n",
       "      <td>1</td>\n",
       "      <td>0</td>\n",
       "      <td>0</td>\n",
       "      <td>566.472247</td>\n",
       "      <td>5</td>\n",
       "      <td>1</td>\n",
       "      <td>48767.0</td>\n",
       "    </tr>\n",
       "    <tr>\n",
       "      <th>3</th>\n",
       "      <td>1</td>\n",
       "      <td>7645.861827</td>\n",
       "      <td>0</td>\n",
       "      <td>0</td>\n",
       "      <td>0</td>\n",
       "      <td>4</td>\n",
       "      <td>1</td>\n",
       "      <td>0</td>\n",
       "      <td>1</td>\n",
       "      <td>1</td>\n",
       "      <td>106</td>\n",
       "      <td>18</td>\n",
       "      <td>65</td>\n",
       "      <td>0</td>\n",
       "      <td>7</td>\n",
       "      <td>0</td>\n",
       "      <td>0</td>\n",
       "      <td>2</td>\n",
       "      <td>529.881344</td>\n",
       "      <td>3</td>\n",
       "      <td>1</td>\n",
       "      <td>NaN</td>\n",
       "    </tr>\n",
       "    <tr>\n",
       "      <th>4</th>\n",
       "      <td>4</td>\n",
       "      <td>2813.692575</td>\n",
       "      <td>0</td>\n",
       "      <td>0</td>\n",
       "      <td>0</td>\n",
       "      <td>1</td>\n",
       "      <td>1</td>\n",
       "      <td>43836</td>\n",
       "      <td>0</td>\n",
       "      <td>2</td>\n",
       "      <td>73</td>\n",
       "      <td>12</td>\n",
       "      <td>44</td>\n",
       "      <td>0</td>\n",
       "      <td>1</td>\n",
       "      <td>1</td>\n",
       "      <td>0</td>\n",
       "      <td>0</td>\n",
       "      <td>138.130879</td>\n",
       "      <td>0</td>\n",
       "      <td>1</td>\n",
       "      <td>43836.0</td>\n",
       "    </tr>\n",
       "  </tbody>\n",
       "</table>\n",
       "</div>"
      ],
      "text/plain": [
       "   State  Customer_Lifetime_Value  ...  Vehicle_Size  Income_clean\n",
       "0      4              2763.519279  ...             1       56274.0\n",
       "1      0              6979.535903  ...             1           NaN\n",
       "2      2             12887.431650  ...             1       48767.0\n",
       "3      1              7645.861827  ...             1           NaN\n",
       "4      4              2813.692575  ...             1       43836.0\n",
       "\n",
       "[5 rows x 22 columns]"
      ]
     },
     "execution_count": 80,
     "metadata": {
      "tags": []
     },
     "output_type": "execute_result"
    }
   ],
   "source": [
    "df2 = df.copy() \n",
    "# creating independent copy of data frame \n",
    "  \n",
    "Income_clean = df['Income'].replace(0, np.nan)\n",
    "# storing data in new var \n",
    "  \n",
    "df2[\"Income_clean\"]= Income_clean\n",
    "# creating new col and passing var \n",
    "  \n",
    "df2.head() "
   ]
  },
  {
   "cell_type": "code",
   "execution_count": 81,
   "metadata": {
    "colab": {
     "base_uri": "https://localhost:8080/",
     "height": 34
    },
    "colab_type": "code",
    "executionInfo": {
     "elapsed": 6499,
     "status": "ok",
     "timestamp": 1585314357284,
     "user": {
      "displayName": "jerome seillier",
      "photoUrl": "https://lh3.googleusercontent.com/a-/AOh14GihpJBQ6Tq4tRKpTCRGJkMirKNNmLg06aountruhg=s64",
      "userId": "00095233701872556527"
     },
     "user_tz": -60
    },
    "id": "NEzxKNy_T12a",
    "outputId": "13ab8af9-9a95-486a-b945-51200a6c1e70"
   },
   "outputs": [
    {
     "data": {
      "text/plain": [
       "(6817, 22)"
      ]
     },
     "execution_count": 81,
     "metadata": {
      "tags": []
     },
     "output_type": "execute_result"
    }
   ],
   "source": [
    "df2 = df2.dropna()\n",
    "df2.shape"
   ]
  },
  {
   "cell_type": "code",
   "execution_count": 82,
   "metadata": {
    "colab": {
     "base_uri": "https://localhost:8080/",
     "height": 34
    },
    "colab_type": "code",
    "executionInfo": {
     "elapsed": 6492,
     "status": "ok",
     "timestamp": 1585314357285,
     "user": {
      "displayName": "jerome seillier",
      "photoUrl": "https://lh3.googleusercontent.com/a-/AOh14GihpJBQ6Tq4tRKpTCRGJkMirKNNmLg06aountruhg=s64",
      "userId": "00095233701872556527"
     },
     "user_tz": -60
    },
    "id": "vN7x7yuRidux",
    "outputId": "c30f45c5-5063-4e55-8d9b-d6f3d071f5e7"
   },
   "outputs": [
    {
     "data": {
      "text/plain": [
       "(9134, 21)"
      ]
     },
     "execution_count": 82,
     "metadata": {
      "tags": []
     },
     "output_type": "execute_result"
    }
   ],
   "source": [
    "df.shape"
   ]
  },
  {
   "cell_type": "markdown",
   "metadata": {
    "colab_type": "text",
    "id": "fCYmh0f9I5Sq"
   },
   "source": [
    "## Replace missing values with interpolation (test)"
   ]
  },
  {
   "cell_type": "code",
   "execution_count": 0,
   "metadata": {
    "colab": {},
    "colab_type": "code",
    "id": "VL0afG8DMVM9"
   },
   "outputs": [],
   "source": [
    "#df2 = df.to_numpy()"
   ]
  },
  {
   "cell_type": "code",
   "execution_count": 0,
   "metadata": {
    "colab": {},
    "colab_type": "code",
    "id": "FZa8hHaEGUps"
   },
   "outputs": [],
   "source": [
    "#from fancyimpute import KNN\n",
    "#df['Income'] = pd.DataFrame(KNN(k=3).fit_transform(df['Income']))"
   ]
  },
  {
   "cell_type": "code",
   "execution_count": 0,
   "metadata": {
    "colab": {},
    "colab_type": "code",
    "id": "idHY2d5oRvsg"
   },
   "outputs": [],
   "source": [
    "#df['Income'].head()"
   ]
  },
  {
   "cell_type": "markdown",
   "metadata": {
    "colab_type": "text",
    "id": "FLMfkWdFJCjE"
   },
   "source": [
    "## Distribution checking"
   ]
  },
  {
   "cell_type": "code",
   "execution_count": 86,
   "metadata": {
    "colab": {
     "base_uri": "https://localhost:8080/",
     "height": 313
    },
    "colab_type": "code",
    "executionInfo": {
     "elapsed": 6466,
     "status": "ok",
     "timestamp": 1585314357287,
     "user": {
      "displayName": "jerome seillier",
      "photoUrl": "https://lh3.googleusercontent.com/a-/AOh14GihpJBQ6Tq4tRKpTCRGJkMirKNNmLg06aountruhg=s64",
      "userId": "00095233701872556527"
     },
     "user_tz": -60
    },
    "id": "KVjjfTdRR-Ws",
    "outputId": "6fafa65e-5ad9-47b9-9175-7abb177e22ee"
   },
   "outputs": [
    {
     "data": {
      "text/plain": [
       "<matplotlib.axes._subplots.AxesSubplot at 0x7f8195184dd8>"
      ]
     },
     "execution_count": 86,
     "metadata": {
      "tags": []
     },
     "output_type": "execute_result"
    },
    {
     "data": {
      "image/png": "[encoded data removed]",
      "text/plain": [
       "<Figure size 432x288 with 1 Axes>"
      ]
     },
     "metadata": {
      "tags": []
     },
     "output_type": "display_data"
    }
   ],
   "source": [
    "sns.distplot(df['Income'])"
   ]
  },
  {
   "cell_type": "code",
   "execution_count": 87,
   "metadata": {
    "colab": {
     "base_uri": "https://localhost:8080/",
     "height": 313
    },
    "colab_type": "code",
    "executionInfo": {
     "elapsed": 6674,
     "status": "ok",
     "timestamp": 1585314357533,
     "user": {
      "displayName": "jerome seillier",
      "photoUrl": "https://lh3.googleusercontent.com/a-/AOh14GihpJBQ6Tq4tRKpTCRGJkMirKNNmLg06aountruhg=s64",
      "userId": "00095233701872556527"
     },
     "user_tz": -60
    },
    "id": "SAEVEjjUJGC3",
    "outputId": "5e88b7c3-8257-49bb-d7a1-f4488900243f"
   },
   "outputs": [
    {
     "data": {
      "text/plain": [
       "<matplotlib.axes._subplots.AxesSubplot at 0x7f81927462e8>"
      ]
     },
     "execution_count": 87,
     "metadata": {
      "tags": []
     },
     "output_type": "execute_result"
    },
    {
     "data": {
      "image/png": "[encoded data removed]",
      "text/plain": [
       "<Figure size 432x288 with 1 Axes>"
      ]
     },
     "metadata": {
      "tags": []
     },
     "output_type": "display_data"
    }
   ],
   "source": [
    "sns.distplot(df2['Income'])"
   ]
  },
  {
   "cell_type": "markdown",
   "metadata": {
    "colab_type": "text",
    "id": "lAT7oyjNbMyj"
   },
   "source": [
    "#Metrics\n",
    "\n",
    "**Accuracy**\n",
    "\n",
    "correctly predicted  / total predicted\n",
    "\n",
    "TP+TN/TP+FP+FN+TN\n",
    "\n",
    "This Metrics show us how the model is able to predict well if a customer will convert or not\n",
    "\n",
    "**Precision**\n",
    "\n",
    "true positive / total positive\n",
    "\n",
    "TP/TP+FP\n",
    "\n",
    "Ability of the model not to label as converted a customer that will not be converted\n",
    "\n",
    "**Recall**\n",
    "\n",
    "true positive / observation that should be predicted positive\n",
    "\n",
    "TP/TP+FN\n",
    "\n",
    "Ability of the model to find all the customers that have the best chance to be converted\n",
    "\n",
    "\n",
    "**F1 Score**\n",
    "\n",
    "Takes both false positives and false negatives into account\n",
    "\n",
    "`2*(Recall * Precision) / (Recall + Precision)`\n",
    "\n",
    "F1 is usually more useful than accuracy, especially for an uneven class distribution."
   ]
  },
  {
   "cell_type": "markdown",
   "metadata": {
    "colab_type": "text",
    "id": "RehU5VKPbQYy"
   },
   "source": [
    "# Preprocessing"
   ]
  },
  {
   "cell_type": "code",
   "execution_count": 88,
   "metadata": {
    "colab": {
     "base_uri": "https://localhost:8080/",
     "height": 379
    },
    "colab_type": "code",
    "executionInfo": {
     "elapsed": 6641,
     "status": "ok",
     "timestamp": 1585314357534,
     "user": {
      "displayName": "jerome seillier",
      "photoUrl": "https://lh3.googleusercontent.com/a-/AOh14GihpJBQ6Tq4tRKpTCRGJkMirKNNmLg06aountruhg=s64",
      "userId": "00095233701872556527"
     },
     "user_tz": -60
    },
    "id": "AbRc_94-V_zJ",
    "outputId": "3104f4ca-9960-4209-b91d-3012fca2cbca"
   },
   "outputs": [
    {
     "data": {
      "text/html": [
       "<div>\n",
       "<style scoped>\n",
       "    .dataframe tbody tr th:only-of-type {\n",
       "        vertical-align: middle;\n",
       "    }\n",
       "\n",
       "    .dataframe tbody tr th {\n",
       "        vertical-align: top;\n",
       "    }\n",
       "\n",
       "    .dataframe thead th {\n",
       "        text-align: right;\n",
       "    }\n",
       "</style>\n",
       "<table border=\"1\" class=\"dataframe\">\n",
       "  <thead>\n",
       "    <tr style=\"text-align: right;\">\n",
       "      <th></th>\n",
       "      <th>State</th>\n",
       "      <th>Customer_Lifetime_Value</th>\n",
       "      <th>Response</th>\n",
       "      <th>Coverage</th>\n",
       "      <th>Education</th>\n",
       "      <th>EmploymentStatus</th>\n",
       "      <th>Gender</th>\n",
       "      <th>Income</th>\n",
       "      <th>Location_Code</th>\n",
       "      <th>Marital_Status</th>\n",
       "      <th>Monthly_Premium_Auto</th>\n",
       "      <th>Months_Since_Last_Claim</th>\n",
       "      <th>Months_Since_Policy_Inception</th>\n",
       "      <th>Number_of_Open_Complaints</th>\n",
       "      <th>Number_of_Policies</th>\n",
       "      <th>Policy_Type</th>\n",
       "      <th>Renew_Offer_Type</th>\n",
       "      <th>Sales_Channel</th>\n",
       "      <th>Total_Claim_Amount</th>\n",
       "      <th>Vehicle_Class</th>\n",
       "      <th>Vehicle_Size</th>\n",
       "    </tr>\n",
       "  </thead>\n",
       "  <tbody>\n",
       "    <tr>\n",
       "      <th>0</th>\n",
       "      <td>4</td>\n",
       "      <td>2763.519279</td>\n",
       "      <td>0</td>\n",
       "      <td>0</td>\n",
       "      <td>0</td>\n",
       "      <td>1</td>\n",
       "      <td>0</td>\n",
       "      <td>56274</td>\n",
       "      <td>1</td>\n",
       "      <td>1</td>\n",
       "      <td>69</td>\n",
       "      <td>32</td>\n",
       "      <td>5</td>\n",
       "      <td>0</td>\n",
       "      <td>1</td>\n",
       "      <td>0</td>\n",
       "      <td>0</td>\n",
       "      <td>0</td>\n",
       "      <td>384.811147</td>\n",
       "      <td>5</td>\n",
       "      <td>1</td>\n",
       "    </tr>\n",
       "    <tr>\n",
       "      <th>1</th>\n",
       "      <td>0</td>\n",
       "      <td>6979.535903</td>\n",
       "      <td>0</td>\n",
       "      <td>1</td>\n",
       "      <td>0</td>\n",
       "      <td>4</td>\n",
       "      <td>0</td>\n",
       "      <td>0</td>\n",
       "      <td>1</td>\n",
       "      <td>2</td>\n",
       "      <td>94</td>\n",
       "      <td>13</td>\n",
       "      <td>42</td>\n",
       "      <td>0</td>\n",
       "      <td>8</td>\n",
       "      <td>1</td>\n",
       "      <td>2</td>\n",
       "      <td>0</td>\n",
       "      <td>1131.464935</td>\n",
       "      <td>0</td>\n",
       "      <td>1</td>\n",
       "    </tr>\n",
       "    <tr>\n",
       "      <th>2</th>\n",
       "      <td>2</td>\n",
       "      <td>12887.431650</td>\n",
       "      <td>0</td>\n",
       "      <td>2</td>\n",
       "      <td>0</td>\n",
       "      <td>1</td>\n",
       "      <td>0</td>\n",
       "      <td>48767</td>\n",
       "      <td>1</td>\n",
       "      <td>1</td>\n",
       "      <td>108</td>\n",
       "      <td>18</td>\n",
       "      <td>38</td>\n",
       "      <td>0</td>\n",
       "      <td>2</td>\n",
       "      <td>1</td>\n",
       "      <td>0</td>\n",
       "      <td>0</td>\n",
       "      <td>566.472247</td>\n",
       "      <td>5</td>\n",
       "      <td>1</td>\n",
       "    </tr>\n",
       "    <tr>\n",
       "      <th>3</th>\n",
       "      <td>1</td>\n",
       "      <td>7645.861827</td>\n",
       "      <td>0</td>\n",
       "      <td>0</td>\n",
       "      <td>0</td>\n",
       "      <td>4</td>\n",
       "      <td>1</td>\n",
       "      <td>0</td>\n",
       "      <td>1</td>\n",
       "      <td>1</td>\n",
       "      <td>106</td>\n",
       "      <td>18</td>\n",
       "      <td>65</td>\n",
       "      <td>0</td>\n",
       "      <td>7</td>\n",
       "      <td>0</td>\n",
       "      <td>0</td>\n",
       "      <td>2</td>\n",
       "      <td>529.881344</td>\n",
       "      <td>3</td>\n",
       "      <td>1</td>\n",
       "    </tr>\n",
       "    <tr>\n",
       "      <th>4</th>\n",
       "      <td>4</td>\n",
       "      <td>2813.692575</td>\n",
       "      <td>0</td>\n",
       "      <td>0</td>\n",
       "      <td>0</td>\n",
       "      <td>1</td>\n",
       "      <td>1</td>\n",
       "      <td>43836</td>\n",
       "      <td>0</td>\n",
       "      <td>2</td>\n",
       "      <td>73</td>\n",
       "      <td>12</td>\n",
       "      <td>44</td>\n",
       "      <td>0</td>\n",
       "      <td>1</td>\n",
       "      <td>1</td>\n",
       "      <td>0</td>\n",
       "      <td>0</td>\n",
       "      <td>138.130879</td>\n",
       "      <td>0</td>\n",
       "      <td>1</td>\n",
       "    </tr>\n",
       "    <tr>\n",
       "      <th>5</th>\n",
       "      <td>3</td>\n",
       "      <td>8256.297800</td>\n",
       "      <td>1</td>\n",
       "      <td>0</td>\n",
       "      <td>0</td>\n",
       "      <td>1</td>\n",
       "      <td>0</td>\n",
       "      <td>62902</td>\n",
       "      <td>0</td>\n",
       "      <td>1</td>\n",
       "      <td>69</td>\n",
       "      <td>14</td>\n",
       "      <td>94</td>\n",
       "      <td>0</td>\n",
       "      <td>2</td>\n",
       "      <td>1</td>\n",
       "      <td>1</td>\n",
       "      <td>3</td>\n",
       "      <td>159.383042</td>\n",
       "      <td>5</td>\n",
       "      <td>1</td>\n",
       "    </tr>\n",
       "    <tr>\n",
       "      <th>6</th>\n",
       "      <td>3</td>\n",
       "      <td>5380.898636</td>\n",
       "      <td>1</td>\n",
       "      <td>0</td>\n",
       "      <td>1</td>\n",
       "      <td>1</td>\n",
       "      <td>0</td>\n",
       "      <td>55350</td>\n",
       "      <td>1</td>\n",
       "      <td>1</td>\n",
       "      <td>67</td>\n",
       "      <td>0</td>\n",
       "      <td>13</td>\n",
       "      <td>0</td>\n",
       "      <td>9</td>\n",
       "      <td>0</td>\n",
       "      <td>0</td>\n",
       "      <td>0</td>\n",
       "      <td>321.600000</td>\n",
       "      <td>0</td>\n",
       "      <td>1</td>\n",
       "    </tr>\n",
       "    <tr>\n",
       "      <th>7</th>\n",
       "      <td>0</td>\n",
       "      <td>7216.100311</td>\n",
       "      <td>0</td>\n",
       "      <td>2</td>\n",
       "      <td>4</td>\n",
       "      <td>4</td>\n",
       "      <td>1</td>\n",
       "      <td>0</td>\n",
       "      <td>2</td>\n",
       "      <td>2</td>\n",
       "      <td>101</td>\n",
       "      <td>0</td>\n",
       "      <td>68</td>\n",
       "      <td>0</td>\n",
       "      <td>4</td>\n",
       "      <td>0</td>\n",
       "      <td>0</td>\n",
       "      <td>0</td>\n",
       "      <td>363.029680</td>\n",
       "      <td>0</td>\n",
       "      <td>1</td>\n",
       "    </tr>\n",
       "    <tr>\n",
       "      <th>8</th>\n",
       "      <td>3</td>\n",
       "      <td>24127.504020</td>\n",
       "      <td>1</td>\n",
       "      <td>0</td>\n",
       "      <td>0</td>\n",
       "      <td>2</td>\n",
       "      <td>1</td>\n",
       "      <td>14072</td>\n",
       "      <td>1</td>\n",
       "      <td>0</td>\n",
       "      <td>71</td>\n",
       "      <td>13</td>\n",
       "      <td>3</td>\n",
       "      <td>0</td>\n",
       "      <td>2</td>\n",
       "      <td>0</td>\n",
       "      <td>0</td>\n",
       "      <td>0</td>\n",
       "      <td>511.200000</td>\n",
       "      <td>0</td>\n",
       "      <td>1</td>\n",
       "    </tr>\n",
       "    <tr>\n",
       "      <th>9</th>\n",
       "      <td>3</td>\n",
       "      <td>7388.178085</td>\n",
       "      <td>0</td>\n",
       "      <td>1</td>\n",
       "      <td>1</td>\n",
       "      <td>1</td>\n",
       "      <td>0</td>\n",
       "      <td>28812</td>\n",
       "      <td>2</td>\n",
       "      <td>1</td>\n",
       "      <td>93</td>\n",
       "      <td>17</td>\n",
       "      <td>7</td>\n",
       "      <td>0</td>\n",
       "      <td>8</td>\n",
       "      <td>2</td>\n",
       "      <td>1</td>\n",
       "      <td>1</td>\n",
       "      <td>425.527834</td>\n",
       "      <td>0</td>\n",
       "      <td>1</td>\n",
       "    </tr>\n",
       "  </tbody>\n",
       "</table>\n",
       "</div>"
      ],
      "text/plain": [
       "   State  Customer_Lifetime_Value  ...  Vehicle_Class  Vehicle_Size\n",
       "0      4              2763.519279  ...              5             1\n",
       "1      0              6979.535903  ...              0             1\n",
       "2      2             12887.431650  ...              5             1\n",
       "3      1              7645.861827  ...              3             1\n",
       "4      4              2813.692575  ...              0             1\n",
       "5      3              8256.297800  ...              5             1\n",
       "6      3              5380.898636  ...              0             1\n",
       "7      0              7216.100311  ...              0             1\n",
       "8      3             24127.504020  ...              0             1\n",
       "9      3              7388.178085  ...              0             1\n",
       "\n",
       "[10 rows x 21 columns]"
      ]
     },
     "execution_count": 88,
     "metadata": {
      "tags": []
     },
     "output_type": "execute_result"
    }
   ],
   "source": [
    "# Dummyfication \n",
    "df_dummified = pd.get_dummies(df, drop_first=True)\n",
    "df_dummified.head(10)"
   ]
  },
  {
   "cell_type": "code",
   "execution_count": 89,
   "metadata": {
    "colab": {
     "base_uri": "https://localhost:8080/",
     "height": 379
    },
    "colab_type": "code",
    "executionInfo": {
     "elapsed": 6635,
     "status": "ok",
     "timestamp": 1585314357534,
     "user": {
      "displayName": "jerome seillier",
      "photoUrl": "https://lh3.googleusercontent.com/a-/AOh14GihpJBQ6Tq4tRKpTCRGJkMirKNNmLg06aountruhg=s64",
      "userId": "00095233701872556527"
     },
     "user_tz": -60
    },
    "id": "XW9x3hOlweDy",
    "outputId": "d68bd139-9188-4d51-fda4-4a7496f1728a"
   },
   "outputs": [
    {
     "data": {
      "text/html": [
       "<div>\n",
       "<style scoped>\n",
       "    .dataframe tbody tr th:only-of-type {\n",
       "        vertical-align: middle;\n",
       "    }\n",
       "\n",
       "    .dataframe tbody tr th {\n",
       "        vertical-align: top;\n",
       "    }\n",
       "\n",
       "    .dataframe thead th {\n",
       "        text-align: right;\n",
       "    }\n",
       "</style>\n",
       "<table border=\"1\" class=\"dataframe\">\n",
       "  <thead>\n",
       "    <tr style=\"text-align: right;\">\n",
       "      <th></th>\n",
       "      <th>State</th>\n",
       "      <th>Customer_Lifetime_Value</th>\n",
       "      <th>Response</th>\n",
       "      <th>Coverage</th>\n",
       "      <th>Education</th>\n",
       "      <th>EmploymentStatus</th>\n",
       "      <th>Gender</th>\n",
       "      <th>Income</th>\n",
       "      <th>Location_Code</th>\n",
       "      <th>Marital_Status</th>\n",
       "      <th>Monthly_Premium_Auto</th>\n",
       "      <th>Months_Since_Last_Claim</th>\n",
       "      <th>Months_Since_Policy_Inception</th>\n",
       "      <th>Number_of_Open_Complaints</th>\n",
       "      <th>Number_of_Policies</th>\n",
       "      <th>Policy_Type</th>\n",
       "      <th>Renew_Offer_Type</th>\n",
       "      <th>Sales_Channel</th>\n",
       "      <th>Total_Claim_Amount</th>\n",
       "      <th>Vehicle_Class</th>\n",
       "      <th>Vehicle_Size</th>\n",
       "      <th>Income_clean</th>\n",
       "    </tr>\n",
       "  </thead>\n",
       "  <tbody>\n",
       "    <tr>\n",
       "      <th>0</th>\n",
       "      <td>4</td>\n",
       "      <td>2763.519279</td>\n",
       "      <td>0</td>\n",
       "      <td>0</td>\n",
       "      <td>0</td>\n",
       "      <td>1</td>\n",
       "      <td>0</td>\n",
       "      <td>56274</td>\n",
       "      <td>1</td>\n",
       "      <td>1</td>\n",
       "      <td>69</td>\n",
       "      <td>32</td>\n",
       "      <td>5</td>\n",
       "      <td>0</td>\n",
       "      <td>1</td>\n",
       "      <td>0</td>\n",
       "      <td>0</td>\n",
       "      <td>0</td>\n",
       "      <td>384.811147</td>\n",
       "      <td>5</td>\n",
       "      <td>1</td>\n",
       "      <td>56274.0</td>\n",
       "    </tr>\n",
       "    <tr>\n",
       "      <th>2</th>\n",
       "      <td>2</td>\n",
       "      <td>12887.431650</td>\n",
       "      <td>0</td>\n",
       "      <td>2</td>\n",
       "      <td>0</td>\n",
       "      <td>1</td>\n",
       "      <td>0</td>\n",
       "      <td>48767</td>\n",
       "      <td>1</td>\n",
       "      <td>1</td>\n",
       "      <td>108</td>\n",
       "      <td>18</td>\n",
       "      <td>38</td>\n",
       "      <td>0</td>\n",
       "      <td>2</td>\n",
       "      <td>1</td>\n",
       "      <td>0</td>\n",
       "      <td>0</td>\n",
       "      <td>566.472247</td>\n",
       "      <td>5</td>\n",
       "      <td>1</td>\n",
       "      <td>48767.0</td>\n",
       "    </tr>\n",
       "    <tr>\n",
       "      <th>4</th>\n",
       "      <td>4</td>\n",
       "      <td>2813.692575</td>\n",
       "      <td>0</td>\n",
       "      <td>0</td>\n",
       "      <td>0</td>\n",
       "      <td>1</td>\n",
       "      <td>1</td>\n",
       "      <td>43836</td>\n",
       "      <td>0</td>\n",
       "      <td>2</td>\n",
       "      <td>73</td>\n",
       "      <td>12</td>\n",
       "      <td>44</td>\n",
       "      <td>0</td>\n",
       "      <td>1</td>\n",
       "      <td>1</td>\n",
       "      <td>0</td>\n",
       "      <td>0</td>\n",
       "      <td>138.130879</td>\n",
       "      <td>0</td>\n",
       "      <td>1</td>\n",
       "      <td>43836.0</td>\n",
       "    </tr>\n",
       "    <tr>\n",
       "      <th>5</th>\n",
       "      <td>3</td>\n",
       "      <td>8256.297800</td>\n",
       "      <td>1</td>\n",
       "      <td>0</td>\n",
       "      <td>0</td>\n",
       "      <td>1</td>\n",
       "      <td>0</td>\n",
       "      <td>62902</td>\n",
       "      <td>0</td>\n",
       "      <td>1</td>\n",
       "      <td>69</td>\n",
       "      <td>14</td>\n",
       "      <td>94</td>\n",
       "      <td>0</td>\n",
       "      <td>2</td>\n",
       "      <td>1</td>\n",
       "      <td>1</td>\n",
       "      <td>3</td>\n",
       "      <td>159.383042</td>\n",
       "      <td>5</td>\n",
       "      <td>1</td>\n",
       "      <td>62902.0</td>\n",
       "    </tr>\n",
       "    <tr>\n",
       "      <th>6</th>\n",
       "      <td>3</td>\n",
       "      <td>5380.898636</td>\n",
       "      <td>1</td>\n",
       "      <td>0</td>\n",
       "      <td>1</td>\n",
       "      <td>1</td>\n",
       "      <td>0</td>\n",
       "      <td>55350</td>\n",
       "      <td>1</td>\n",
       "      <td>1</td>\n",
       "      <td>67</td>\n",
       "      <td>0</td>\n",
       "      <td>13</td>\n",
       "      <td>0</td>\n",
       "      <td>9</td>\n",
       "      <td>0</td>\n",
       "      <td>0</td>\n",
       "      <td>0</td>\n",
       "      <td>321.600000</td>\n",
       "      <td>0</td>\n",
       "      <td>1</td>\n",
       "      <td>55350.0</td>\n",
       "    </tr>\n",
       "    <tr>\n",
       "      <th>8</th>\n",
       "      <td>3</td>\n",
       "      <td>24127.504020</td>\n",
       "      <td>1</td>\n",
       "      <td>0</td>\n",
       "      <td>0</td>\n",
       "      <td>2</td>\n",
       "      <td>1</td>\n",
       "      <td>14072</td>\n",
       "      <td>1</td>\n",
       "      <td>0</td>\n",
       "      <td>71</td>\n",
       "      <td>13</td>\n",
       "      <td>3</td>\n",
       "      <td>0</td>\n",
       "      <td>2</td>\n",
       "      <td>0</td>\n",
       "      <td>0</td>\n",
       "      <td>0</td>\n",
       "      <td>511.200000</td>\n",
       "      <td>0</td>\n",
       "      <td>1</td>\n",
       "      <td>14072.0</td>\n",
       "    </tr>\n",
       "    <tr>\n",
       "      <th>9</th>\n",
       "      <td>3</td>\n",
       "      <td>7388.178085</td>\n",
       "      <td>0</td>\n",
       "      <td>1</td>\n",
       "      <td>1</td>\n",
       "      <td>1</td>\n",
       "      <td>0</td>\n",
       "      <td>28812</td>\n",
       "      <td>2</td>\n",
       "      <td>1</td>\n",
       "      <td>93</td>\n",
       "      <td>17</td>\n",
       "      <td>7</td>\n",
       "      <td>0</td>\n",
       "      <td>8</td>\n",
       "      <td>2</td>\n",
       "      <td>1</td>\n",
       "      <td>1</td>\n",
       "      <td>425.527834</td>\n",
       "      <td>0</td>\n",
       "      <td>1</td>\n",
       "      <td>28812.0</td>\n",
       "    </tr>\n",
       "    <tr>\n",
       "      <th>12</th>\n",
       "      <td>1</td>\n",
       "      <td>8798.797003</td>\n",
       "      <td>0</td>\n",
       "      <td>2</td>\n",
       "      <td>4</td>\n",
       "      <td>1</td>\n",
       "      <td>1</td>\n",
       "      <td>77026</td>\n",
       "      <td>2</td>\n",
       "      <td>1</td>\n",
       "      <td>110</td>\n",
       "      <td>9</td>\n",
       "      <td>82</td>\n",
       "      <td>2</td>\n",
       "      <td>3</td>\n",
       "      <td>0</td>\n",
       "      <td>1</td>\n",
       "      <td>0</td>\n",
       "      <td>472.029737</td>\n",
       "      <td>0</td>\n",
       "      <td>1</td>\n",
       "      <td>77026.0</td>\n",
       "    </tr>\n",
       "    <tr>\n",
       "      <th>13</th>\n",
       "      <td>0</td>\n",
       "      <td>8819.018934</td>\n",
       "      <td>1</td>\n",
       "      <td>0</td>\n",
       "      <td>3</td>\n",
       "      <td>1</td>\n",
       "      <td>1</td>\n",
       "      <td>99845</td>\n",
       "      <td>1</td>\n",
       "      <td>1</td>\n",
       "      <td>110</td>\n",
       "      <td>23</td>\n",
       "      <td>25</td>\n",
       "      <td>1</td>\n",
       "      <td>8</td>\n",
       "      <td>0</td>\n",
       "      <td>1</td>\n",
       "      <td>1</td>\n",
       "      <td>528.000000</td>\n",
       "      <td>3</td>\n",
       "      <td>1</td>\n",
       "      <td>99845.0</td>\n",
       "    </tr>\n",
       "    <tr>\n",
       "      <th>14</th>\n",
       "      <td>1</td>\n",
       "      <td>5384.431665</td>\n",
       "      <td>0</td>\n",
       "      <td>0</td>\n",
       "      <td>1</td>\n",
       "      <td>1</td>\n",
       "      <td>1</td>\n",
       "      <td>83689</td>\n",
       "      <td>2</td>\n",
       "      <td>2</td>\n",
       "      <td>70</td>\n",
       "      <td>21</td>\n",
       "      <td>10</td>\n",
       "      <td>2</td>\n",
       "      <td>8</td>\n",
       "      <td>0</td>\n",
       "      <td>3</td>\n",
       "      <td>2</td>\n",
       "      <td>307.139132</td>\n",
       "      <td>0</td>\n",
       "      <td>1</td>\n",
       "      <td>83689.0</td>\n",
       "    </tr>\n",
       "  </tbody>\n",
       "</table>\n",
       "</div>"
      ],
      "text/plain": [
       "    State  Customer_Lifetime_Value  ...  Vehicle_Size  Income_clean\n",
       "0       4              2763.519279  ...             1       56274.0\n",
       "2       2             12887.431650  ...             1       48767.0\n",
       "4       4              2813.692575  ...             1       43836.0\n",
       "5       3              8256.297800  ...             1       62902.0\n",
       "6       3              5380.898636  ...             1       55350.0\n",
       "8       3             24127.504020  ...             1       14072.0\n",
       "9       3              7388.178085  ...             1       28812.0\n",
       "12      1              8798.797003  ...             1       77026.0\n",
       "13      0              8819.018934  ...             1       99845.0\n",
       "14      1              5384.431665  ...             1       83689.0\n",
       "\n",
       "[10 rows x 22 columns]"
      ]
     },
     "execution_count": 89,
     "metadata": {
      "tags": []
     },
     "output_type": "execute_result"
    }
   ],
   "source": [
    "# Dummyfication df2\n",
    "df2_dummified = pd.get_dummies(df2, drop_first=True)\n",
    "df2_dummified.head(10)"
   ]
  },
  {
   "cell_type": "markdown",
   "metadata": {
    "colab_type": "text",
    "id": "XvaocCq-HesQ"
   },
   "source": [
    "# Machine Learning (Income = 0 included)"
   ]
  },
  {
   "cell_type": "markdown",
   "metadata": {
    "colab_type": "text",
    "id": "nd8Dcob6agxy"
   },
   "source": [
    "## Logistic regression (Income = 0 included)"
   ]
  },
  {
   "cell_type": "code",
   "execution_count": 0,
   "metadata": {
    "colab": {},
    "colab_type": "code",
    "id": "lHZhsc2NaeKa"
   },
   "outputs": [],
   "source": [
    "y = df_dummified[\"Response\"]"
   ]
  },
  {
   "cell_type": "code",
   "execution_count": 0,
   "metadata": {
    "colab": {},
    "colab_type": "code",
    "id": "A-r1PQiualwz"
   },
   "outputs": [],
   "source": [
    "X = df_dummified.drop([\"Response\"], axis=1)"
   ]
  },
  {
   "cell_type": "code",
   "execution_count": 0,
   "metadata": {
    "colab": {},
    "colab_type": "code",
    "id": "53o6LjD0WyFG"
   },
   "outputs": [],
   "source": [
    "# Feature scaling \n",
    "from sklearn.model_selection import train_test_split, cross_validate\n",
    "from sklearn.preprocessing import StandardScaler\n",
    "\n",
    "sc_x = StandardScaler()\n",
    "X = sc_x.fit_transform(X)"
   ]
  },
  {
   "cell_type": "code",
   "execution_count": 0,
   "metadata": {
    "colab": {},
    "colab_type": "code",
    "id": "DW84bvKUaqSZ"
   },
   "outputs": [],
   "source": [
    "X_train, X_test, y_train, y_test = train_test_split(X, y, test_size = 0.2, random_state=42)"
   ]
  },
  {
   "cell_type": "code",
   "execution_count": 94,
   "metadata": {
    "colab": {
     "base_uri": "https://localhost:8080/",
     "height": 51
    },
    "colab_type": "code",
    "executionInfo": {
     "elapsed": 7045,
     "status": "ok",
     "timestamp": 1585314357971,
     "user": {
      "displayName": "jerome seillier",
      "photoUrl": "https://lh3.googleusercontent.com/a-/AOh14GihpJBQ6Tq4tRKpTCRGJkMirKNNmLg06aountruhg=s64",
      "userId": "00095233701872556527"
     },
     "user_tz": -60
    },
    "id": "YQ4xbzX8cRdT",
    "outputId": "bed94f48-9a53-490e-b538-044f036d692c"
   },
   "outputs": [
    {
     "name": "stdout",
     "output_type": "stream",
     "text": [
      "Logistic Regression Test Accuracy 85.44 %\n",
      "Logistic Regression Train Accuracy 85.73 %\n"
     ]
    }
   ],
   "source": [
    "from sklearn.linear_model import LogisticRegression\n",
    "lr = LogisticRegression()\n",
    "# initialize the model (=lr)\n",
    "lr.fit(X_train,y_train)\n",
    "#fit the model to the train set\n",
    "lr_acc_test = lr.score(X_test,y_test)*100\n",
    "lr_acc_train = lr.score(X_train,y_train)*100\n",
    "\n",
    "# comparing the test with the data\n",
    "print(\"Logistic Regression Test Accuracy\", round(lr_acc_test, 2),\"%\")\n",
    "print(\"Logistic Regression Train Accuracy\", round(lr_acc_train, 2),\"%\")"
   ]
  },
  {
   "cell_type": "code",
   "execution_count": 95,
   "metadata": {
    "colab": {
     "base_uri": "https://localhost:8080/",
     "height": 284
    },
    "colab_type": "code",
    "executionInfo": {
     "elapsed": 7248,
     "status": "ok",
     "timestamp": 1585314358183,
     "user": {
      "displayName": "jerome seillier",
      "photoUrl": "https://lh3.googleusercontent.com/a-/AOh14GihpJBQ6Tq4tRKpTCRGJkMirKNNmLg06aountruhg=s64",
      "userId": "00095233701872556527"
     },
     "user_tz": -60
    },
    "id": "znB8APKzeZq1",
    "outputId": "20a869a3-2d4d-4410-d1c8-e3f8985f80b0"
   },
   "outputs": [
    {
     "data": {
      "image/png": "[encoded data removed]",
      "text/plain": [
       "<Figure size 432x288 with 2 Axes>"
      ]
     },
     "metadata": {
      "tags": []
     },
     "output_type": "display_data"
    }
   ],
   "source": [
    "y_pred = lr.predict(X_test)\n",
    "cm = metrics.confusion_matrix(y_test, y_pred)\n",
    "sns.heatmap(cm, annot=True, fmt=\"d\").set_title(\"logistic regression cm\")\n",
    "plt.show()"
   ]
  },
  {
   "cell_type": "markdown",
   "metadata": {
    "colab_type": "text",
    "id": "0ZXGAhis_gZf"
   },
   "source": [
    "* TP = 0\n",
    "* FN = 266\n",
    "* TN = 1561\n",
    "* FP = 0"
   ]
  },
  {
   "cell_type": "code",
   "execution_count": 124,
   "metadata": {
    "colab": {
     "base_uri": "https://localhost:8080/",
     "height": 34
    },
    "colab_type": "code",
    "executionInfo": {
     "elapsed": 664,
     "status": "ok",
     "timestamp": 1585314435737,
     "user": {
      "displayName": "jerome seillier",
      "photoUrl": "https://lh3.googleusercontent.com/a-/AOh14GihpJBQ6Tq4tRKpTCRGJkMirKNNmLg06aountruhg=s64",
      "userId": "00095233701872556527"
     },
     "user_tz": -60
    },
    "id": "gFeaKr60Glkw",
    "outputId": "4ddf29ce-d1e9-4dc4-e9f6-0b339ef4fbb0"
   },
   "outputs": [
    {
     "data": {
      "text/plain": [
       "(1827,)"
      ]
     },
     "execution_count": 124,
     "metadata": {
      "tags": []
     },
     "output_type": "execute_result"
    }
   ],
   "source": [
    "y_pred.shape"
   ]
  },
  {
   "cell_type": "code",
   "execution_count": 96,
   "metadata": {
    "colab": {
     "base_uri": "https://localhost:8080/",
     "height": 68
    },
    "colab_type": "code",
    "executionInfo": {
     "elapsed": 7242,
     "status": "ok",
     "timestamp": 1585314358183,
     "user": {
      "displayName": "jerome seillier",
      "photoUrl": "https://lh3.googleusercontent.com/a-/AOh14GihpJBQ6Tq4tRKpTCRGJkMirKNNmLg06aountruhg=s64",
      "userId": "00095233701872556527"
     },
     "user_tz": -60
    },
    "id": "ygW9POwx7H4I",
    "outputId": "b4656273-45db-46b2-d0ff-95133f553d89"
   },
   "outputs": [
    {
     "name": "stdout",
     "output_type": "stream",
     "text": [
      "lr_recall is 0.0\n",
      "lr_precision is 0.0\n",
      "lr_f1_score is 0.0\n"
     ]
    }
   ],
   "source": [
    "lr_recall = recall_score(y_test, y_pred)\n",
    "lr_precision = precision_score(y_test,y_pred)\n",
    "lr_f1 = f1_score(y_test,y_pred)\n",
    "\n",
    "print(\"lr_recall is\",(lr_recall))\n",
    "print(\"lr_precision is\",(lr_precision))\n",
    "print(\"lr_f1_score is\",(lr_precision))"
   ]
  },
  {
   "cell_type": "code",
   "execution_count": 97,
   "metadata": {
    "colab": {
     "base_uri": "https://localhost:8080/",
     "height": 301
    },
    "colab_type": "code",
    "executionInfo": {
     "elapsed": 7672,
     "status": "ok",
     "timestamp": 1585314358618,
     "user": {
      "displayName": "jerome seillier",
      "photoUrl": "https://lh3.googleusercontent.com/a-/AOh14GihpJBQ6Tq4tRKpTCRGJkMirKNNmLg06aountruhg=s64",
      "userId": "00095233701872556527"
     },
     "user_tz": -60
    },
    "id": "CA_9GMA7fSuw",
    "outputId": "3404b36b-3c31-40b3-9fd5-90e37d83339c"
   },
   "outputs": [
    {
     "data": {
      "image/png": "[encoded data removed]",
      "text/plain": [
       "<Figure size 432x288 with 1 Axes>"
      ]
     },
     "metadata": {
      "tags": []
     },
     "output_type": "display_data"
    }
   ],
   "source": [
    "from sklearn.metrics import roc_auc_score\n",
    "from sklearn.metrics import roc_curve\n",
    "logit_roc_auc = roc_auc_score(y_test, lr.predict(X_test))\n",
    "fpr, tpr, thresholds = roc_curve(y_test, lr.predict_proba(X_test)[:,1])\n",
    "plt.figure()\n",
    "plt.plot(fpr, tpr, label='Logistic Regression (area = %0.2f)' % logit_roc_auc)\n",
    "plt.plot([0, 1], [0, 1],'r--')\n",
    "plt.xlim([-0.05, 1.05])\n",
    "plt.ylim([-0.05, 1.05])\n",
    "plt.xlabel('False Positive Rate')\n",
    "plt.ylabel('True Positive Rate')\n",
    "plt.title('Receiver operating characteristic')\n",
    "plt.legend(loc=\"lower right\")\n",
    "plt.savefig('Log_ROC')\n",
    "plt.show()"
   ]
  },
  {
   "cell_type": "markdown",
   "metadata": {
    "colab_type": "text",
    "id": "DnvFXNZCXu3u"
   },
   "source": [
    "## Decision tree (Income = 0 included)"
   ]
  },
  {
   "cell_type": "code",
   "execution_count": 98,
   "metadata": {
    "colab": {
     "base_uri": "https://localhost:8080/",
     "height": 51
    },
    "colab_type": "code",
    "executionInfo": {
     "elapsed": 7667,
     "status": "ok",
     "timestamp": 1585314358618,
     "user": {
      "displayName": "jerome seillier",
      "photoUrl": "https://lh3.googleusercontent.com/a-/AOh14GihpJBQ6Tq4tRKpTCRGJkMirKNNmLg06aountruhg=s64",
      "userId": "00095233701872556527"
     },
     "user_tz": -60
    },
    "id": "uyShIrdUX7sm",
    "outputId": "b69fa33b-3c97-4b25-c5fc-93605e201b4f"
   },
   "outputs": [
    {
     "name": "stdout",
     "output_type": "stream",
     "text": [
      "The accuracy score for the training data is:  100.0 %\n",
      "The accuracy score for the test data is:  97.26 %\n"
     ]
    }
   ],
   "source": [
    "from sklearn.tree import DecisionTreeClassifier\n",
    "dtc = DecisionTreeClassifier()\n",
    "dtc.fit(X_train, y_train)\n",
    "\n",
    "y_pred_dtc = dtc.predict(X_test)\n",
    "\n",
    "acc_train = dtc.score(X_train, y_train)*100\n",
    "acc_test = dtc.score(X_test,y_test)*100\n",
    "\n",
    "print(\"The accuracy score for the training data is: \",round(acc_train,2),\"%\")\n",
    "print(\"The accuracy score for the test data is: \",round(acc_test,2),\"%\")\n"
   ]
  },
  {
   "cell_type": "code",
   "execution_count": 99,
   "metadata": {
    "colab": {
     "base_uri": "https://localhost:8080/",
     "height": 284
    },
    "colab_type": "code",
    "executionInfo": {
     "elapsed": 7887,
     "status": "ok",
     "timestamp": 1585314358843,
     "user": {
      "displayName": "jerome seillier",
      "photoUrl": "https://lh3.googleusercontent.com/a-/AOh14GihpJBQ6Tq4tRKpTCRGJkMirKNNmLg06aountruhg=s64",
      "userId": "00095233701872556527"
     },
     "user_tz": -60
    },
    "id": "m4vStDOj6NN0",
    "outputId": "c171a48f-3a3d-4c72-e0bf-f0f5c59064ff"
   },
   "outputs": [
    {
     "data": {
      "image/png": "[encoded data removed]",
      "text/plain": [
       "<Figure size 432x288 with 2 Axes>"
      ]
     },
     "metadata": {
      "tags": []
     },
     "output_type": "display_data"
    }
   ],
   "source": [
    "cm = metrics.confusion_matrix(y_test, y_pred_dtc)\n",
    "sns.heatmap(cm, annot=True, fmt=\"d\").set_title(\"Decision Tree\")\n",
    "plt.show()"
   ]
  },
  {
   "cell_type": "markdown",
   "metadata": {
    "colab_type": "text",
    "id": "jV3JYA3M-VM7"
   },
   "source": [
    "* TP = 266\n",
    "* FN = 0\n",
    "* TN = 1509\n",
    "* FP = 53"
   ]
  },
  {
   "cell_type": "code",
   "execution_count": 100,
   "metadata": {
    "colab": {
     "base_uri": "https://localhost:8080/",
     "height": 68
    },
    "colab_type": "code",
    "executionInfo": {
     "elapsed": 7829,
     "status": "ok",
     "timestamp": 1585314358843,
     "user": {
      "displayName": "jerome seillier",
      "photoUrl": "https://lh3.googleusercontent.com/a-/AOh14GihpJBQ6Tq4tRKpTCRGJkMirKNNmLg06aountruhg=s64",
      "userId": "00095233701872556527"
     },
     "user_tz": -60
    },
    "id": "tUurtNsKJ8ER",
    "outputId": "d2161b5b-c987-43e2-989b-d496d093567f"
   },
   "outputs": [
    {
     "name": "stdout",
     "output_type": "stream",
     "text": [
      "dtc_recall is 1.0\n",
      "dtc_precision is 0.8417721518987342\n",
      "dtc_f1_score is 0.8417721518987342\n"
     ]
    }
   ],
   "source": [
    "dtc_recall = recall_score(y_test, y_pred_dtc)\n",
    "dtc_precision = precision_score(y_test,y_pred_dtc)\n",
    "dtc_f1 = f1_score(y_test,y_pred_dtc)\n",
    "\n",
    "print(\"dtc_recall is\",(dtc_recall))\n",
    "print(\"dtc_precision is\",(dtc_precision))\n",
    "print(\"dtc_f1_score is\",(dtc_precision))"
   ]
  },
  {
   "cell_type": "code",
   "execution_count": 101,
   "metadata": {
    "colab": {
     "base_uri": "https://localhost:8080/",
     "height": 301
    },
    "colab_type": "code",
    "executionInfo": {
     "elapsed": 8081,
     "status": "ok",
     "timestamp": 1585314359099,
     "user": {
      "displayName": "jerome seillier",
      "photoUrl": "https://lh3.googleusercontent.com/a-/AOh14GihpJBQ6Tq4tRKpTCRGJkMirKNNmLg06aountruhg=s64",
      "userId": "00095233701872556527"
     },
     "user_tz": -60
    },
    "id": "WQm8Qoug4GTA",
    "outputId": "54a6e9f7-c233-402a-aae7-51b9d5aa9d9f"
   },
   "outputs": [
    {
     "data": {
      "image/png": "[encoded data removed]",
      "text/plain": [
       "<Figure size 432x288 with 1 Axes>"
      ]
     },
     "metadata": {
      "tags": []
     },
     "output_type": "display_data"
    }
   ],
   "source": [
    "from sklearn.metrics import roc_auc_score\n",
    "from sklearn.metrics import roc_curve\n",
    "dec_roc_auc = roc_auc_score(y_test, dtc.predict(X_test))\n",
    "fpr, tpr, thresholds = roc_curve(y_test, dtc.predict_proba(X_test)[:,1])\n",
    "plt.figure()\n",
    "plt.plot(fpr, tpr, label='Decision Tree (area = %0.2f)' % dec_roc_auc)\n",
    "plt.plot([0, 1], [0, 1],'r--')\n",
    "plt.xlim([-0.05, 1.05])\n",
    "plt.ylim([-0.05, 1.05])\n",
    "plt.xlabel('False Positive Rate')\n",
    "plt.ylabel('True Positive Rate')\n",
    "plt.title('Receiver operating characteristic')\n",
    "plt.legend(loc=\"lower right\")\n",
    "plt.savefig('Dec_ROC')\n",
    "plt.show()"
   ]
  },
  {
   "cell_type": "markdown",
   "metadata": {
    "colab_type": "text",
    "id": "ZEmK9dEsP82X"
   },
   "source": [
    "## Random Forest (Income = 0 Included)"
   ]
  },
  {
   "cell_type": "code",
   "execution_count": 0,
   "metadata": {
    "colab": {},
    "colab_type": "code",
    "id": "kbddB_g9QWMm"
   },
   "outputs": [],
   "source": [
    "from sklearn.metrics import confusion_matrix, accuracy_score, classification_report"
   ]
  },
  {
   "cell_type": "code",
   "execution_count": 103,
   "metadata": {
    "colab": {
     "base_uri": "https://localhost:8080/",
     "height": 51
    },
    "colab_type": "code",
    "executionInfo": {
     "elapsed": 9313,
     "status": "ok",
     "timestamp": 1585314360342,
     "user": {
      "displayName": "jerome seillier",
      "photoUrl": "https://lh3.googleusercontent.com/a-/AOh14GihpJBQ6Tq4tRKpTCRGJkMirKNNmLg06aountruhg=s64",
      "userId": "00095233701872556527"
     },
     "user_tz": -60
    },
    "id": "9oepEEQqP78s",
    "outputId": "17a6046c-5e09-4056-b89b-dc3244da47d7"
   },
   "outputs": [
    {
     "name": "stdout",
     "output_type": "stream",
     "text": [
      "The accuracy score for the training data is:  100.0 %\n",
      "The accuracy score for the test data is:  99.67 %\n"
     ]
    }
   ],
   "source": [
    "from sklearn.ensemble import RandomForestClassifier\n",
    "rfc = RandomForestClassifier()\n",
    "rfc.fit(X_train, y_train)\n",
    "\n",
    "y_pred_rfc = rfc.predict(X_test)\n",
    "\n",
    "acc_train = rfc.score(X_train, y_train)*100\n",
    "acc_test = rfc.score(X_test,y_test)*100\n",
    "\n",
    "print(\"The accuracy score for the training data is: \",round(acc_train,2),\"%\")\n",
    "print(\"The accuracy score for the test data is: \",round(acc_test,2),\"%\")"
   ]
  },
  {
   "cell_type": "code",
   "execution_count": 104,
   "metadata": {
    "colab": {
     "base_uri": "https://localhost:8080/",
     "height": 284
    },
    "colab_type": "code",
    "executionInfo": {
     "elapsed": 9616,
     "status": "ok",
     "timestamp": 1585314360650,
     "user": {
      "displayName": "jerome seillier",
      "photoUrl": "https://lh3.googleusercontent.com/a-/AOh14GihpJBQ6Tq4tRKpTCRGJkMirKNNmLg06aountruhg=s64",
      "userId": "00095233701872556527"
     },
     "user_tz": -60
    },
    "id": "TX-XKsc7RtbY",
    "outputId": "81f739f6-413b-43e7-bb8e-ceace5813bb2"
   },
   "outputs": [
    {
     "data": {
      "image/png": "[encoded data removed]",
      "text/plain": [
       "<Figure size 432x288 with 2 Axes>"
      ]
     },
     "metadata": {
      "tags": []
     },
     "output_type": "display_data"
    }
   ],
   "source": [
    "cm = metrics.confusion_matrix(y_test, y_pred_rfc)\n",
    "sns.heatmap(cm, annot=True, fmt=\"d\").set_title(\"Random forest\")\n",
    "plt.show()"
   ]
  },
  {
   "cell_type": "markdown",
   "metadata": {
    "colab_type": "text",
    "id": "wxxZairC49j6"
   },
   "source": [
    "* TP = 264\n",
    "* FN = 3\n",
    "* TN = 1558\n",
    "* FP = 2"
   ]
  },
  {
   "cell_type": "code",
   "execution_count": 105,
   "metadata": {
    "colab": {
     "base_uri": "https://localhost:8080/",
     "height": 68
    },
    "colab_type": "code",
    "executionInfo": {
     "elapsed": 9610,
     "status": "ok",
     "timestamp": 1585314360650,
     "user": {
      "displayName": "jerome seillier",
      "photoUrl": "https://lh3.googleusercontent.com/a-/AOh14GihpJBQ6Tq4tRKpTCRGJkMirKNNmLg06aountruhg=s64",
      "userId": "00095233701872556527"
     },
     "user_tz": -60
    },
    "id": "MnjQaKrdR0Xo",
    "outputId": "c2919e05-7e55-463d-c6be-a1e764fb117b"
   },
   "outputs": [
    {
     "name": "stdout",
     "output_type": "stream",
     "text": [
      "rfc_recall is 0.9924812030075187\n",
      "rfc_precision is 0.9850746268656716\n",
      "rfc_f1_score is 0.9850746268656716\n"
     ]
    }
   ],
   "source": [
    "rfc_recall = recall_score(y_test, y_pred_rfc)\n",
    "rfc_precision = precision_score(y_test,y_pred_rfc)\n",
    "rfc_f1 = f1_score(y_test,y_pred_rfc)\n",
    "\n",
    "print(\"rfc_recall is\",(rfc_recall))\n",
    "print(\"rfc_precision is\",(rfc_precision))\n",
    "print(\"rfc_f1_score is\",(rfc_precision))"
   ]
  },
  {
   "cell_type": "code",
   "execution_count": 106,
   "metadata": {
    "colab": {
     "base_uri": "https://localhost:8080/",
     "height": 301
    },
    "colab_type": "code",
    "executionInfo": {
     "elapsed": 10267,
     "status": "ok",
     "timestamp": 1585314361312,
     "user": {
      "displayName": "jerome seillier",
      "photoUrl": "https://lh3.googleusercontent.com/a-/AOh14GihpJBQ6Tq4tRKpTCRGJkMirKNNmLg06aountruhg=s64",
      "userId": "00095233701872556527"
     },
     "user_tz": -60
    },
    "id": "ZbPp4lJWBGB6",
    "outputId": "a9d12182-5f5c-482b-bed3-0d3ea0747566"
   },
   "outputs": [
    {
     "data": {
      "image/png": "[encoded data removed]",
      "text/plain": [
       "<Figure size 432x288 with 1 Axes>"
      ]
     },
     "metadata": {
      "tags": []
     },
     "output_type": "display_data"
    }
   ],
   "source": [
    "from sklearn.metrics import roc_auc_score\n",
    "from sklearn.metrics import roc_curve\n",
    "rfc_roc_auc = roc_auc_score(y_test, rfc.predict(X_test))\n",
    "fpr, tpr, thresholds = roc_curve(y_test, rfc.predict_proba(X_test)[:,1])\n",
    "plt.figure()\n",
    "plt.plot(fpr, tpr, label='Random Forest (area = %0.2f)' % rfc_roc_auc)\n",
    "plt.plot([0, 1], [0, 1],'r--')\n",
    "plt.xlim([-0.05, 1.05])\n",
    "plt.ylim([-0.05, 1.05])\n",
    "plt.xlabel('False Positive Rate')\n",
    "plt.ylabel('True Positive Rate')\n",
    "plt.title('Receiver operating characteristic')\n",
    "plt.legend(loc=\"lower right\")\n",
    "plt.savefig('rfc_ROC')\n",
    "plt.show()"
   ]
  },
  {
   "cell_type": "markdown",
   "metadata": {
    "colab_type": "text",
    "id": "8xFo7ZiLH9P3"
   },
   "source": [
    "# Machine Learning (Income=0 excluded)"
   ]
  },
  {
   "cell_type": "markdown",
   "metadata": {
    "colab_type": "text",
    "id": "YhX7w-atgZAJ"
   },
   "source": [
    "## Logistic regression (Income = 0 excluded)"
   ]
  },
  {
   "cell_type": "code",
   "execution_count": 0,
   "metadata": {
    "colab": {},
    "colab_type": "code",
    "id": "b2OpbvCdgZAL"
   },
   "outputs": [],
   "source": [
    "y = df2_dummified[\"Response\"]"
   ]
  },
  {
   "cell_type": "code",
   "execution_count": 0,
   "metadata": {
    "colab": {},
    "colab_type": "code",
    "id": "PFRw7AlggZAO"
   },
   "outputs": [],
   "source": [
    "X = df2_dummified.drop([\"Response\"], axis=1)"
   ]
  },
  {
   "cell_type": "code",
   "execution_count": 0,
   "metadata": {
    "colab": {},
    "colab_type": "code",
    "id": "NYEq892mgZAQ"
   },
   "outputs": [],
   "source": [
    "# Feature scaling \n",
    "from sklearn.preprocessing import StandardScaler\n",
    "\n",
    "sc_x = StandardScaler()\n",
    "X = sc_x.fit_transform(X)"
   ]
  },
  {
   "cell_type": "code",
   "execution_count": 0,
   "metadata": {
    "colab": {},
    "colab_type": "code",
    "id": "kVS2FV6ggZAS"
   },
   "outputs": [],
   "source": [
    "# Train/Test split\n",
    "X_train, X_test, y_train, y_test = train_test_split(X, y, test_size = 0.2, random_state=42)"
   ]
  },
  {
   "cell_type": "code",
   "execution_count": 111,
   "metadata": {
    "colab": {
     "base_uri": "https://localhost:8080/",
     "height": 51
    },
    "colab_type": "code",
    "executionInfo": {
     "elapsed": 10246,
     "status": "ok",
     "timestamp": 1585314361314,
     "user": {
      "displayName": "jerome seillier",
      "photoUrl": "https://lh3.googleusercontent.com/a-/AOh14GihpJBQ6Tq4tRKpTCRGJkMirKNNmLg06aountruhg=s64",
      "userId": "00095233701872556527"
     },
     "user_tz": -60
    },
    "id": "PMVdZVN1gZAV",
    "outputId": "67c117d0-0037-48ad-d975-baf56f1bd983"
   },
   "outputs": [
    {
     "name": "stdout",
     "output_type": "stream",
     "text": [
      "Logistic Regression Test Accuracy 85.19 %\n",
      "Logistic Regression Train Accuracy 85.15 %\n"
     ]
    }
   ],
   "source": [
    "from sklearn.linear_model import LogisticRegression\n",
    "lr = LogisticRegression()\n",
    "# initialize the model (=lr)\n",
    "\n",
    "lr.fit(X_train,y_train)\n",
    "#fit the model to the train set\n",
    "\n",
    "y_pred_lr = lr.predict(X_test)\n",
    "\n",
    "lr_acc_test = lr.score(X_test,y_test)*100\n",
    "lr_acc_train = lr.score(X_train,y_train)*100\n",
    "# comparing the test with the data\n",
    "\n",
    "print(\"Logistic Regression Test Accuracy\", round(lr_acc_test, 2),\"%\")\n",
    "print(\"Logistic Regression Train Accuracy\", round(lr_acc_train, 2),\"%\")"
   ]
  },
  {
   "cell_type": "code",
   "execution_count": 112,
   "metadata": {
    "colab": {
     "base_uri": "https://localhost:8080/",
     "height": 284
    },
    "colab_type": "code",
    "executionInfo": {
     "elapsed": 10242,
     "status": "ok",
     "timestamp": 1585314361315,
     "user": {
      "displayName": "jerome seillier",
      "photoUrl": "https://lh3.googleusercontent.com/a-/AOh14GihpJBQ6Tq4tRKpTCRGJkMirKNNmLg06aountruhg=s64",
      "userId": "00095233701872556527"
     },
     "user_tz": -60
    },
    "id": "my18_FSVCFs2",
    "outputId": "85aed4e0-fa66-40d7-ce32-e1d7c414ab0f"
   },
   "outputs": [
    {
     "data": {
      "image/png": "[encoded data removed]",
      "text/plain": [
       "<Figure size 432x288 with 2 Axes>"
      ]
     },
     "metadata": {
      "tags": []
     },
     "output_type": "display_data"
    }
   ],
   "source": [
    "cm = metrics.confusion_matrix(y_test, y_pred_lr)\n",
    "sns.heatmap(cm, annot=True, fmt=\"d\").set_title(\"logistic regression cm\")\n",
    "plt.show()"
   ]
  },
  {
   "cell_type": "markdown",
   "metadata": {
    "colab_type": "text",
    "id": "W3Jd07-TAq1d"
   },
   "source": [
    "* TP = 32\n",
    "* FN = 195\n",
    "* TN = 1130\n",
    "* FP = 7"
   ]
  },
  {
   "cell_type": "code",
   "execution_count": 113,
   "metadata": {
    "colab": {
     "base_uri": "https://localhost:8080/",
     "height": 68
    },
    "colab_type": "code",
    "executionInfo": {
     "elapsed": 10237,
     "status": "ok",
     "timestamp": 1585314361315,
     "user": {
      "displayName": "jerome seillier",
      "photoUrl": "https://lh3.googleusercontent.com/a-/AOh14GihpJBQ6Tq4tRKpTCRGJkMirKNNmLg06aountruhg=s64",
      "userId": "00095233701872556527"
     },
     "user_tz": -60
    },
    "id": "LF9rZtW8gZAb",
    "outputId": "59c4d48d-6dd7-49d5-842f-9ea06b2cde1d"
   },
   "outputs": [
    {
     "name": "stdout",
     "output_type": "stream",
     "text": [
      "lr_recall is 0.14096916299559473\n",
      "lr_precision is 0.8205128205128205\n",
      "lr_f1 score is 0.2406015037593985\n"
     ]
    }
   ],
   "source": [
    "lr_recall = recall_score(y_test, y_pred_lr)\n",
    "lr_precision = precision_score(y_test,y_pred_lr)\n",
    "lr_f1 = f1_score(y_test,y_pred_lr)\n",
    "\n",
    "print(\"lr_recall is\",(lr_recall))\n",
    "print(\"lr_precision is\",(lr_precision))\n",
    "print(\"lr_f1 score is\",(lr_f1))"
   ]
  },
  {
   "cell_type": "code",
   "execution_count": 114,
   "metadata": {
    "colab": {
     "base_uri": "https://localhost:8080/",
     "height": 301
    },
    "colab_type": "code",
    "executionInfo": {
     "elapsed": 10904,
     "status": "ok",
     "timestamp": 1585314361987,
     "user": {
      "displayName": "jerome seillier",
      "photoUrl": "https://lh3.googleusercontent.com/a-/AOh14GihpJBQ6Tq4tRKpTCRGJkMirKNNmLg06aountruhg=s64",
      "userId": "00095233701872556527"
     },
     "user_tz": -60
    },
    "id": "IPIhRaxKDwuF",
    "outputId": "65da0af1-82f7-41cc-85ce-349bc013dc56"
   },
   "outputs": [
    {
     "data": {
      "image/png": "[encoded data removed]",
      "text/plain": [
       "<Figure size 432x288 with 1 Axes>"
      ]
     },
     "metadata": {
      "tags": []
     },
     "output_type": "display_data"
    }
   ],
   "source": [
    "# ROC Curve\n",
    "\n",
    "from sklearn.metrics import roc_auc_score\n",
    "from sklearn.metrics import roc_curve\n",
    "logit_roc_auc = roc_auc_score(y_test, lr.predict(X_test))\n",
    "fpr, tpr, thresholds = roc_curve(y_test, lr.predict_proba(X_test)[:,1])\n",
    "plt.figure()\n",
    "plt.plot(fpr, tpr, label='Logistic Regression (area = %0.2f)' % logit_roc_auc)\n",
    "plt.plot([0, 1], [0, 1],'r--')\n",
    "plt.xlim([-0.05, 1.05])\n",
    "plt.ylim([-0.05, 1.05])\n",
    "plt.xlabel('False Positive Rate')\n",
    "plt.ylabel('True Positive Rate')\n",
    "plt.title('Receiver operating characteristic')\n",
    "plt.legend(loc=\"lower right\")\n",
    "plt.savefig('Log_ROC')\n",
    "plt.show()"
   ]
  },
  {
   "cell_type": "markdown",
   "metadata": {
    "colab_type": "text",
    "id": "yT0nzgw0DxFd"
   },
   "source": [
    "## Decision tree (Income = 0 excluded)"
   ]
  },
  {
   "cell_type": "code",
   "execution_count": 115,
   "metadata": {
    "colab": {
     "base_uri": "https://localhost:8080/",
     "height": 51
    },
    "colab_type": "code",
    "executionInfo": {
     "elapsed": 10900,
     "status": "ok",
     "timestamp": 1585314361988,
     "user": {
      "displayName": "jerome seillier",
      "photoUrl": "https://lh3.googleusercontent.com/a-/AOh14GihpJBQ6Tq4tRKpTCRGJkMirKNNmLg06aountruhg=s64",
      "userId": "00095233701872556527"
     },
     "user_tz": -60
    },
    "id": "2RXS91MiDxFg",
    "outputId": "349c606f-76cd-444c-bdb5-d1a5676dd78c"
   },
   "outputs": [
    {
     "name": "stdout",
     "output_type": "stream",
     "text": [
      "The accuracy score for the training data is:  100.0 %\n",
      "The accuracy score for the test data is:  96.55 %\n"
     ]
    }
   ],
   "source": [
    "from sklearn.tree import DecisionTreeClassifier\n",
    "dtc = DecisionTreeClassifier()\n",
    "dtc.fit(X_train, y_train)\n",
    "\n",
    "y_pred_dtc = dtc.predict(X_test)\n",
    "\n",
    "acc_train = dtc.score(X_train, y_train)*100\n",
    "acc_test = dtc.score(X_test,y_test)*100\n",
    "\n",
    "print(\"The accuracy score for the training data is: \",round(acc_train,2),\"%\")\n",
    "print(\"The accuracy score for the test data is: \",round(acc_test,2),\"%\")\n"
   ]
  },
  {
   "cell_type": "code",
   "execution_count": 116,
   "metadata": {
    "colab": {
     "base_uri": "https://localhost:8080/",
     "height": 284
    },
    "colab_type": "code",
    "executionInfo": {
     "elapsed": 11101,
     "status": "ok",
     "timestamp": 1585314362194,
     "user": {
      "displayName": "jerome seillier",
      "photoUrl": "https://lh3.googleusercontent.com/a-/AOh14GihpJBQ6Tq4tRKpTCRGJkMirKNNmLg06aountruhg=s64",
      "userId": "00095233701872556527"
     },
     "user_tz": -60
    },
    "id": "VZf8isH2NGmJ",
    "outputId": "472921e0-fb91-48f9-dba5-bf760ea1d708"
   },
   "outputs": [
    {
     "data": {
      "image/png": "[encoded data removed]",
      "text/plain": [
       "<Figure size 432x288 with 2 Axes>"
      ]
     },
     "metadata": {
      "tags": []
     },
     "output_type": "display_data"
    }
   ],
   "source": [
    "cm = metrics.confusion_matrix(y_test, y_pred_dtc)\n",
    "sns.heatmap(cm, annot=True, fmt=\"d\").set_title(\"Decision Tree\")\n",
    "plt.show()"
   ]
  },
  {
   "cell_type": "markdown",
   "metadata": {
    "colab_type": "text",
    "id": "NWGw-SlQDxFo"
   },
   "source": [
    "* TP = 227\n",
    "* FN = 2\n",
    "* TN = 1086\n",
    "* FP = 51"
   ]
  },
  {
   "cell_type": "code",
   "execution_count": 117,
   "metadata": {
    "colab": {
     "base_uri": "https://localhost:8080/",
     "height": 68
    },
    "colab_type": "code",
    "executionInfo": {
     "elapsed": 11094,
     "status": "ok",
     "timestamp": 1585314362194,
     "user": {
      "displayName": "jerome seillier",
      "photoUrl": "https://lh3.googleusercontent.com/a-/AOh14GihpJBQ6Tq4tRKpTCRGJkMirKNNmLg06aountruhg=s64",
      "userId": "00095233701872556527"
     },
     "user_tz": -60
    },
    "id": "dt1soVAUWDaK",
    "outputId": "a99ec799-0998-4cf3-ecb5-8b20fdab0245"
   },
   "outputs": [
    {
     "name": "stdout",
     "output_type": "stream",
     "text": [
      "dtc_recall is 1.0\n",
      "dtc_precision is 0.8284671532846716\n",
      "dtc_f1 score is 0.9061876247504991\n"
     ]
    }
   ],
   "source": [
    "dtc_recall = recall_score(y_test, y_pred_dtc)\n",
    "dtc_precision = precision_score(y_test,y_pred_dtc)\n",
    "dtc_f1 = f1_score(y_test,y_pred_dtc)\n",
    "\n",
    "print(\"dtc_recall is\",(dtc_recall))\n",
    "print(\"dtc_precision is\",(dtc_precision))\n",
    "print(\"dtc_f1 score is\",(dtc_f1))"
   ]
  },
  {
   "cell_type": "code",
   "execution_count": 118,
   "metadata": {
    "colab": {
     "base_uri": "https://localhost:8080/",
     "height": 301
    },
    "colab_type": "code",
    "executionInfo": {
     "elapsed": 11643,
     "status": "ok",
     "timestamp": 1585314362747,
     "user": {
      "displayName": "jerome seillier",
      "photoUrl": "https://lh3.googleusercontent.com/a-/AOh14GihpJBQ6Tq4tRKpTCRGJkMirKNNmLg06aountruhg=s64",
      "userId": "00095233701872556527"
     },
     "user_tz": -60
    },
    "id": "TGOZWqXlDxFp",
    "outputId": "bc2c1045-02e0-4a0c-f4b6-c94e44aefe47"
   },
   "outputs": [
    {
     "data": {
      "image/png": "[encoded data removed]",
      "text/plain": [
       "<Figure size 432x288 with 1 Axes>"
      ]
     },
     "metadata": {
      "tags": []
     },
     "output_type": "display_data"
    }
   ],
   "source": [
    "from sklearn.metrics import roc_auc_score\n",
    "from sklearn.metrics import roc_curve\n",
    "dec_roc_auc = roc_auc_score(y_test, dtc.predict(X_test))\n",
    "fpr, tpr, thresholds = roc_curve(y_test, dtc.predict_proba(X_test)[:,1])\n",
    "plt.figure()\n",
    "plt.plot(fpr, tpr, label='Decision Tree (area = %0.2f)' % dec_roc_auc)\n",
    "plt.plot([0, 1], [0, 1],'r--')\n",
    "plt.xlim([-0.05, 1.05])\n",
    "plt.ylim([-0.05, 1.05])\n",
    "plt.xlabel('False Positive Rate')\n",
    "plt.ylabel('True Positive Rate')\n",
    "plt.title('Receiver operating characteristic')\n",
    "plt.legend(loc=\"lower right\")\n",
    "plt.savefig('Dec_ROC')\n",
    "plt.show()"
   ]
  },
  {
   "cell_type": "markdown",
   "metadata": {
    "colab_type": "text",
    "id": "C9EttWlOIMQ7"
   },
   "source": [
    "## Random Forest (Income = 0 Included)"
   ]
  },
  {
   "cell_type": "code",
   "execution_count": 0,
   "metadata": {
    "colab": {},
    "colab_type": "code",
    "id": "9STGaakvIMQ9"
   },
   "outputs": [],
   "source": [
    "from sklearn.metrics import confusion_matrix, accuracy_score, classification_report"
   ]
  },
  {
   "cell_type": "code",
   "execution_count": 120,
   "metadata": {
    "colab": {
     "base_uri": "https://localhost:8080/",
     "height": 51
    },
    "colab_type": "code",
    "executionInfo": {
     "elapsed": 12433,
     "status": "ok",
     "timestamp": 1585314363547,
     "user": {
      "displayName": "jerome seillier",
      "photoUrl": "https://lh3.googleusercontent.com/a-/AOh14GihpJBQ6Tq4tRKpTCRGJkMirKNNmLg06aountruhg=s64",
      "userId": "00095233701872556527"
     },
     "user_tz": -60
    },
    "id": "t6ymWICDIMRA",
    "outputId": "812b26c5-6e94-450a-8d11-7f3b76c511b2"
   },
   "outputs": [
    {
     "name": "stdout",
     "output_type": "stream",
     "text": [
      "The accuracy score for the training data is:  100.0 %\n",
      "The accuracy score for the test data is:  99.71 %\n"
     ]
    }
   ],
   "source": [
    "from sklearn.ensemble import RandomForestClassifier\n",
    "rfc = RandomForestClassifier()\n",
    "rfc.fit(X_train, y_train)\n",
    "\n",
    "y_pred_rfc = rfc.predict(X_test)\n",
    "\n",
    "acc_train = rfc.score(X_train, y_train)*100\n",
    "acc_test = rfc.score(X_test,y_test)*100\n",
    "\n",
    "print(\"The accuracy score for the training data is: \",round(acc_train,2),\"%\")\n",
    "print(\"The accuracy score for the test data is: \",round(acc_test,2),\"%\")"
   ]
  },
  {
   "cell_type": "code",
   "execution_count": 121,
   "metadata": {
    "colab": {
     "base_uri": "https://localhost:8080/",
     "height": 284
    },
    "colab_type": "code",
    "executionInfo": {
     "elapsed": 12722,
     "status": "ok",
     "timestamp": 1585314363841,
     "user": {
      "displayName": "jerome seillier",
      "photoUrl": "https://lh3.googleusercontent.com/a-/AOh14GihpJBQ6Tq4tRKpTCRGJkMirKNNmLg06aountruhg=s64",
      "userId": "00095233701872556527"
     },
     "user_tz": -60
    },
    "id": "SbRM6eXyNbta",
    "outputId": "42f75c33-7680-476b-f38b-14e95b0c8606"
   },
   "outputs": [
    {
     "data": {
      "image/png": "[encoded data removed]",
      "text/plain": [
       "<Figure size 432x288 with 2 Axes>"
      ]
     },
     "metadata": {
      "tags": []
     },
     "output_type": "display_data"
    }
   ],
   "source": [
    "cm = metrics.confusion_matrix(y_test, y_pred_rfc)\n",
    "sns.heatmap(cm, annot=True, fmt=\"d\").set_title(\"Random forest\")\n",
    "plt.show()"
   ]
  },
  {
   "cell_type": "markdown",
   "metadata": {
    "colab_type": "text",
    "id": "tMCYxG-3NgyI"
   },
   "source": [
    "* TP = 264\n",
    "* FN = 3\n",
    "* TN = 1558\n",
    "* FP = 2"
   ]
  },
  {
   "cell_type": "code",
   "execution_count": 122,
   "metadata": {
    "colab": {
     "base_uri": "https://localhost:8080/",
     "height": 68
    },
    "colab_type": "code",
    "executionInfo": {
     "elapsed": 12717,
     "status": "ok",
     "timestamp": 1585314363841,
     "user": {
      "displayName": "jerome seillier",
      "photoUrl": "https://lh3.googleusercontent.com/a-/AOh14GihpJBQ6Tq4tRKpTCRGJkMirKNNmLg06aountruhg=s64",
      "userId": "00095233701872556527"
     },
     "user_tz": -60
    },
    "id": "7Asg13K2XZtd",
    "outputId": "3b97ffcb-be45-47f3-9df4-2d9fe5048404"
   },
   "outputs": [
    {
     "name": "stdout",
     "output_type": "stream",
     "text": [
      "rfc_recall is 1.0\n",
      "rfc_precision is 0.98\n",
      "rfc_f1 score is 0.99\n"
     ]
    }
   ],
   "source": [
    "rfc_recall = recall_score(y_test, y_pred_rfc)\n",
    "rfc_precision = precision_score(y_test,y_pred_rfc)\n",
    "rfc_f1 = f1_score(y_test,y_pred_rfc)\n",
    "\n",
    "print(\"rfc_recall is\",round(rfc_recall,2))\n",
    "print(\"rfc_precision is\",round(rfc_precision,2))\n",
    "print(\"rfc_f1 score is\",round(rfc_f1,2))"
   ]
  },
  {
   "cell_type": "code",
   "execution_count": 123,
   "metadata": {
    "colab": {
     "base_uri": "https://localhost:8080/",
     "height": 301
    },
    "colab_type": "code",
    "executionInfo": {
     "elapsed": 13516,
     "status": "ok",
     "timestamp": 1585314364646,
     "user": {
      "displayName": "jerome seillier",
      "photoUrl": "https://lh3.googleusercontent.com/a-/AOh14GihpJBQ6Tq4tRKpTCRGJkMirKNNmLg06aountruhg=s64",
      "userId": "00095233701872556527"
     },
     "user_tz": -60
    },
    "id": "mHqxYFQiNjyq",
    "outputId": "17427eca-db5c-4299-d489-f348df760612"
   },
   "outputs": [
    {
     "data": {
      "image/png": "[encoded data removed]",
      "text/plain": [
       "<Figure size 432x288 with 1 Axes>"
      ]
     },
     "metadata": {
      "tags": []
     },
     "output_type": "display_data"
    }
   ],
   "source": [
    "from sklearn.metrics import roc_auc_score\n",
    "from sklearn.metrics import roc_curve\n",
    "rfc_roc_auc = roc_auc_score(y_test, rfc.predict(X_test))\n",
    "fpr, tpr, thresholds = roc_curve(y_test, rfc.predict_proba(X_test)[:,1])\n",
    "plt.figure()\n",
    "plt.plot(fpr, tpr, label='Random Forest (area = %0.2f)' % dec_roc_auc)\n",
    "plt.plot([0, 1], [0, 1],'r--')\n",
    "plt.xlim([-0.05, 1.05])\n",
    "plt.ylim([-0.05, 1.05])\n",
    "plt.xlabel('False Positive Rate')\n",
    "plt.ylabel('True Positive Rate')\n",
    "plt.title('Receiver operating characteristic')\n",
    "plt.legend(loc=\"lower right\")\n",
    "plt.savefig('Dec_ROC')\n",
    "plt.show()"
   ]
  }
 ],
 "metadata": {
  "colab": {
   "authorship_tag": "ABX9TyOwkWlB8NTasN8FydZhhgeC",
   "collapsed_sections": [
    "fCYmh0f9I5Sq"
   ],
   "name": "Projet_Conversion_imbalanced.ipynb",
   "provenance": [],
   "toc_visible": true
  },
  "kernelspec": {
   "display_name": "Python 3",
   "language": "python",
   "name": "python3"
  },
  "language_info": {
   "codemirror_mode": {
    "name": "ipython",
    "version": 3
   },
   "file_extension": ".py",
   "mimetype": "text/x-python",
   "name": "python",
   "nbconvert_exporter": "python",
   "pygments_lexer": "ipython3",
   "version": "3.7.4"
  }
 },
 "nbformat": 4,
 "nbformat_minor": 1
}
